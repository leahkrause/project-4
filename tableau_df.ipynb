{
 "cells": [
  {
   "cell_type": "code",
   "execution_count": 2,
   "metadata": {},
   "outputs": [],
   "source": [
    "#import dependencies\n",
    "import pandas as pd"
   ]
  },
  {
   "cell_type": "code",
   "execution_count": 104,
   "metadata": {},
   "outputs": [
    {
     "data": {
      "text/html": [
       "<div>\n",
       "<style scoped>\n",
       "    .dataframe tbody tr th:only-of-type {\n",
       "        vertical-align: middle;\n",
       "    }\n",
       "\n",
       "    .dataframe tbody tr th {\n",
       "        vertical-align: top;\n",
       "    }\n",
       "\n",
       "    .dataframe thead th {\n",
       "        text-align: right;\n",
       "    }\n",
       "</style>\n",
       "<table border=\"1\" class=\"dataframe\">\n",
       "  <thead>\n",
       "    <tr style=\"text-align: right;\">\n",
       "      <th></th>\n",
       "      <th>Unnamed: 0</th>\n",
       "      <th>AGE</th>\n",
       "      <th>AGE_BINS</th>\n",
       "      <th>BMI</th>\n",
       "      <th>EDUCATION</th>\n",
       "      <th>INCOME</th>\n",
       "      <th>INSURANCE</th>\n",
       "      <th>MARITAL_STATUS</th>\n",
       "      <th>RACE</th>\n",
       "      <th>SEX</th>\n",
       "      <th>...</th>\n",
       "      <th>E_CIG_FREQ</th>\n",
       "      <th>E_CIG_USER</th>\n",
       "      <th>SMOKE_END_AGE</th>\n",
       "      <th>SMOKE_FREQ</th>\n",
       "      <th>SMOKE_STRT_AGE</th>\n",
       "      <th>SMOKER</th>\n",
       "      <th>SMOKER_STATUS</th>\n",
       "      <th>TOBAC_FREQ</th>\n",
       "      <th>LAST_SMOKE</th>\n",
       "      <th>QUIT_SMK</th>\n",
       "    </tr>\n",
       "  </thead>\n",
       "  <tbody>\n",
       "    <tr>\n",
       "      <th>0</th>\n",
       "      <td>0</td>\n",
       "      <td>70.0</td>\n",
       "      <td>11.0</td>\n",
       "      <td>1.0</td>\n",
       "      <td>2.0</td>\n",
       "      <td>3.0</td>\n",
       "      <td>1.0</td>\n",
       "      <td>1.0</td>\n",
       "      <td>1.0</td>\n",
       "      <td>2.0</td>\n",
       "      <td>...</td>\n",
       "      <td>3.0</td>\n",
       "      <td>1.0</td>\n",
       "      <td>NaN</td>\n",
       "      <td>3.0</td>\n",
       "      <td>NaN</td>\n",
       "      <td>1.0</td>\n",
       "      <td>3.0</td>\n",
       "      <td>3.0</td>\n",
       "      <td>NaN</td>\n",
       "      <td>NaN</td>\n",
       "    </tr>\n",
       "    <tr>\n",
       "      <th>1</th>\n",
       "      <td>1</td>\n",
       "      <td>67.0</td>\n",
       "      <td>10.0</td>\n",
       "      <td>NaN</td>\n",
       "      <td>4.0</td>\n",
       "      <td>9.0</td>\n",
       "      <td>1.0</td>\n",
       "      <td>9.0</td>\n",
       "      <td>2.0</td>\n",
       "      <td>2.0</td>\n",
       "      <td>...</td>\n",
       "      <td>3.0</td>\n",
       "      <td>1.0</td>\n",
       "      <td>NaN</td>\n",
       "      <td>NaN</td>\n",
       "      <td>NaN</td>\n",
       "      <td>1.0</td>\n",
       "      <td>4.0</td>\n",
       "      <td>3.0</td>\n",
       "      <td>NaN</td>\n",
       "      <td>NaN</td>\n",
       "    </tr>\n",
       "    <tr>\n",
       "      <th>2</th>\n",
       "      <td>2</td>\n",
       "      <td>72.0</td>\n",
       "      <td>11.0</td>\n",
       "      <td>3.0</td>\n",
       "      <td>2.0</td>\n",
       "      <td>2.0</td>\n",
       "      <td>1.0</td>\n",
       "      <td>3.0</td>\n",
       "      <td>2.0</td>\n",
       "      <td>2.0</td>\n",
       "      <td>...</td>\n",
       "      <td>3.0</td>\n",
       "      <td>1.0</td>\n",
       "      <td>NaN</td>\n",
       "      <td>NaN</td>\n",
       "      <td>NaN</td>\n",
       "      <td>1.0</td>\n",
       "      <td>4.0</td>\n",
       "      <td>3.0</td>\n",
       "      <td>NaN</td>\n",
       "      <td>NaN</td>\n",
       "    </tr>\n",
       "    <tr>\n",
       "      <th>3</th>\n",
       "      <td>3</td>\n",
       "      <td>62.0</td>\n",
       "      <td>9.0</td>\n",
       "      <td>4.0</td>\n",
       "      <td>2.0</td>\n",
       "      <td>5.0</td>\n",
       "      <td>1.0</td>\n",
       "      <td>1.0</td>\n",
       "      <td>1.0</td>\n",
       "      <td>2.0</td>\n",
       "      <td>...</td>\n",
       "      <td>3.0</td>\n",
       "      <td>1.0</td>\n",
       "      <td>NaN</td>\n",
       "      <td>NaN</td>\n",
       "      <td>NaN</td>\n",
       "      <td>1.0</td>\n",
       "      <td>4.0</td>\n",
       "      <td>3.0</td>\n",
       "      <td>NaN</td>\n",
       "      <td>NaN</td>\n",
       "    </tr>\n",
       "    <tr>\n",
       "      <th>4</th>\n",
       "      <td>4</td>\n",
       "      <td>76.0</td>\n",
       "      <td>12.0</td>\n",
       "      <td>3.0</td>\n",
       "      <td>1.0</td>\n",
       "      <td>2.0</td>\n",
       "      <td>1.0</td>\n",
       "      <td>1.0</td>\n",
       "      <td>7.0</td>\n",
       "      <td>1.0</td>\n",
       "      <td>...</td>\n",
       "      <td>3.0</td>\n",
       "      <td>1.0</td>\n",
       "      <td>NaN</td>\n",
       "      <td>NaN</td>\n",
       "      <td>NaN</td>\n",
       "      <td>1.0</td>\n",
       "      <td>4.0</td>\n",
       "      <td>2.0</td>\n",
       "      <td>NaN</td>\n",
       "      <td>NaN</td>\n",
       "    </tr>\n",
       "  </tbody>\n",
       "</table>\n",
       "<p>5 rows × 41 columns</p>\n",
       "</div>"
      ],
      "text/plain": [
       "   Unnamed: 0   AGE  AGE_BINS  BMI  EDUCATION  INCOME  INSURANCE  \\\n",
       "0           0  70.0      11.0  1.0        2.0     3.0        1.0   \n",
       "1           1  67.0      10.0  NaN        4.0     9.0        1.0   \n",
       "2           2  72.0      11.0  3.0        2.0     2.0        1.0   \n",
       "3           3  62.0       9.0  4.0        2.0     5.0        1.0   \n",
       "4           4  76.0      12.0  3.0        1.0     2.0        1.0   \n",
       "\n",
       "   MARITAL_STATUS  RACE  SEX  ...  E_CIG_FREQ  E_CIG_USER  SMOKE_END_AGE  \\\n",
       "0             1.0   1.0  2.0  ...         3.0         1.0            NaN   \n",
       "1             9.0   2.0  2.0  ...         3.0         1.0            NaN   \n",
       "2             3.0   2.0  2.0  ...         3.0         1.0            NaN   \n",
       "3             1.0   1.0  2.0  ...         3.0         1.0            NaN   \n",
       "4             1.0   7.0  1.0  ...         3.0         1.0            NaN   \n",
       "\n",
       "   SMOKE_FREQ  SMOKE_STRT_AGE  SMOKER  SMOKER_STATUS  TOBAC_FREQ  LAST_SMOKE  \\\n",
       "0         3.0             NaN     1.0            3.0         3.0         NaN   \n",
       "1         NaN             NaN     1.0            4.0         3.0         NaN   \n",
       "2         NaN             NaN     1.0            4.0         3.0         NaN   \n",
       "3         NaN             NaN     1.0            4.0         3.0         NaN   \n",
       "4         NaN             NaN     1.0            4.0         2.0         NaN   \n",
       "\n",
       "   QUIT_SMK  \n",
       "0       NaN  \n",
       "1       NaN  \n",
       "2       NaN  \n",
       "3       NaN  \n",
       "4       NaN  \n",
       "\n",
       "[5 rows x 41 columns]"
      ]
     },
     "execution_count": 104,
     "metadata": {},
     "output_type": "execute_result"
    }
   ],
   "source": [
    "tableau_df=pd.read_csv('substance.csv')\n",
    "tableau_df.head()"
   ]
  },
  {
   "cell_type": "code",
   "execution_count": 105,
   "metadata": {},
   "outputs": [],
   "source": [
    "tableau_df=tableau_df.drop(columns=['Unnamed: 0'])"
   ]
  },
  {
   "cell_type": "code",
   "execution_count": 106,
   "metadata": {},
   "outputs": [
    {
     "data": {
      "text/plain": [
       "Index(['AGE', 'AGE_BINS', 'BMI', 'EDUCATION', 'INCOME', 'INSURANCE',\n",
       "       'MARITAL_STATUS', 'RACE', 'SEX', 'STATE', 'WORK_STATUS', 'DEPRESSION',\n",
       "       'GENERAL_HEALTH', 'MENTAL_HEALTH', 'PHYSICAL_HEALTH', 'BPMEDS',\n",
       "       'HEART_STROKE', 'HRT_ATTK_OR_DISEASE', 'HYPERTENSION', 'MAXDRNKS',\n",
       "       'ANYDRINKS_PAST30', 'BINGE_DRNKR', 'DRINKS_PERDAY', 'DRINKS_PERWK',\n",
       "       'HEAVY_DRNKR', 'MARIJUANA', 'MRJ_METHOD', 'MRJ_REASON', 'SMOKE100',\n",
       "       'AVG_CIGS_DAY', 'E_CIG_FREQ', 'E_CIG_USER', 'SMOKE_END_AGE',\n",
       "       'SMOKE_FREQ', 'SMOKE_STRT_AGE', 'SMOKER', 'SMOKER_STATUS', 'TOBAC_FREQ',\n",
       "       'LAST_SMOKE', 'QUIT_SMK'],\n",
       "      dtype='object')"
      ]
     },
     "execution_count": 106,
     "metadata": {},
     "output_type": "execute_result"
    }
   ],
   "source": [
    "tableau_df.columns"
   ]
  },
  {
   "cell_type": "code",
   "execution_count": 107,
   "metadata": {},
   "outputs": [
    {
     "data": {
      "text/plain": [
       "10.0    45762\n",
       "9.0     44298\n",
       "11.0    42920\n",
       "8.0     38009\n",
       "13.0    34507\n",
       "7.0     34086\n",
       "12.0    29747\n",
       "5.0     29435\n",
       "4.0     28559\n",
       "6.0     28391\n",
       "1.0     26025\n",
       "3.0     25724\n",
       "2.0     21623\n",
       "14.0     9607\n",
       "Name: AGE_BINS, dtype: int64"
      ]
     },
     "execution_count": 107,
     "metadata": {},
     "output_type": "execute_result"
    }
   ],
   "source": [
    "tableau_df['AGE_BINS'].value_counts()"
   ]
  },
  {
   "cell_type": "code",
   "execution_count": 108,
   "metadata": {},
   "outputs": [
    {
     "data": {
      "text/plain": [
       "Age 65 to 69         45762\n",
       "Age 60 to 64         44298\n",
       "Age 70 to 74         42920\n",
       "Age 55 to 59         38009\n",
       "Age 80 or older      34507\n",
       "Age 50 to 54         34086\n",
       "Age 75 to 79         29747\n",
       "Age 40 to 44         29435\n",
       "Age 35 to 39         28559\n",
       "Age 45 to 49         28391\n",
       "Age 18 to 24         26025\n",
       "Age 30 to 34         25724\n",
       "Age 25 to 29         21623\n",
       "Refused to answer     9607\n",
       "Name: AGE_BINS, dtype: int64"
      ]
     },
     "execution_count": 108,
     "metadata": {},
     "output_type": "execute_result"
    }
   ],
   "source": [
    "tableau_df['AGE_BINS'].replace(to_replace=[1,2,3,4,5,6,7,8,9,10,11,12,13,14],\n",
    "           value=['Age 18 to 24', 'Age 25 to 29','Age 30 to 34','Age 35 to 39','Age 40 to 44','Age 45 to 49','Age 50 to 54','Age 55 to 59',\n",
    "                  'Age 60 to 64','Age 65 to 69','Age 70 to 74','Age 75 to 79','Age 80 or older','Refused to answer'],inplace=True)\n",
    "tableau_df['AGE_BINS'].value_counts()"
   ]
  },
  {
   "cell_type": "code",
   "execution_count": 109,
   "metadata": {},
   "outputs": [
    {
     "data": {
      "text/plain": [
       "3.0    138760\n",
       "4.0    131305\n",
       "2.0    115489\n",
       "1.0      6287\n",
       "Name: BMI, dtype: int64"
      ]
     },
     "execution_count": 109,
     "metadata": {},
     "output_type": "execute_result"
    }
   ],
   "source": [
    "tableau_df['BMI'].value_counts()"
   ]
  },
  {
   "cell_type": "code",
   "execution_count": 110,
   "metadata": {},
   "outputs": [
    {
     "data": {
      "text/plain": [
       "Overweight       138760\n",
       "Obese            131305\n",
       "Normal Weight    115489\n",
       "Underweight        6287\n",
       "Name: BMI, dtype: int64"
      ]
     },
     "execution_count": 110,
     "metadata": {},
     "output_type": "execute_result"
    }
   ],
   "source": [
    "tableau_df['BMI'].replace(to_replace=[1,2,3,4],\n",
    "           value=['Underweight','Normal Weight','Overweight','Obese'],inplace=True)\n",
    "tableau_df['BMI'].value_counts()"
   ]
  },
  {
   "cell_type": "code",
   "execution_count": 111,
   "metadata": {},
   "outputs": [
    {
     "data": {
      "text/plain": [
       "4.0    178577\n",
       "3.0    120102\n",
       "2.0    111545\n",
       "1.0     25991\n",
       "9.0      2478\n",
       "Name: EDUCATION, dtype: int64"
      ]
     },
     "execution_count": 111,
     "metadata": {},
     "output_type": "execute_result"
    }
   ],
   "source": [
    "tableau_df['EDUCATION'].value_counts()"
   ]
  },
  {
   "cell_type": "code",
   "execution_count": 112,
   "metadata": {},
   "outputs": [
    {
     "data": {
      "text/plain": [
       "College Degree            178577\n",
       "Attended College          120102\n",
       "High School Diploma       111545\n",
       "No High School Diploma     25991\n",
       "Refused to answer           2478\n",
       "Name: EDUCATION, dtype: int64"
      ]
     },
     "execution_count": 112,
     "metadata": {},
     "output_type": "execute_result"
    }
   ],
   "source": [
    "tableau_df['EDUCATION'].replace(to_replace=[1,2,3,4,9],\n",
    "           value=['No High School Diploma','High School Diploma', 'Attended College','College Degree','Refused to answer'],inplace=True)\n",
    "tableau_df['EDUCATION'].value_counts()"
   ]
  },
  {
   "cell_type": "code",
   "execution_count": 113,
   "metadata": {},
   "outputs": [
    {
     "data": {
      "text/plain": [
       "5.0    107246\n",
       "9.0     94413\n",
       "6.0     67411\n",
       "4.0     48339\n",
       "3.0     43893\n",
       "2.0     36031\n",
       "1.0     22408\n",
       "7.0     18952\n",
       "Name: INCOME, dtype: int64"
      ]
     },
     "execution_count": 113,
     "metadata": {},
     "output_type": "execute_result"
    }
   ],
   "source": [
    "tableau_df['INCOME'].value_counts()"
   ]
  },
  {
   "cell_type": "code",
   "execution_count": 114,
   "metadata": {},
   "outputs": [
    {
     "data": {
      "text/plain": [
       "$50,000 to less than $100,000     107246\n",
       "Refused to answer                  94413\n",
       "$100,000 to less than $200,000     67411\n",
       "$35,000 to less than $50,000       48339\n",
       "$25,000 to less than $35,000       43893\n",
       "$15,000 to less than $25,000       36031\n",
       "Less than $15,000                  22408\n",
       "$200,000 or more                   18952\n",
       "Name: INCOME, dtype: int64"
      ]
     },
     "execution_count": 114,
     "metadata": {},
     "output_type": "execute_result"
    }
   ],
   "source": [
    "tableau_df['INCOME'].replace(to_replace=[1,2,3,4,5,6,7,9],\n",
    "           value=['Less than $15,000','$15,000 to less than $25,000','$25,000 to less than $35,000','$35,000 to less than $50,000',\n",
    "                  '$50,000 to less than $100,000','$100,000 to less than $200,000','$200,000 or more','Refused to answer'],inplace=True)\n",
    "tableau_df['INCOME'].value_counts()"
   ]
  },
  {
   "cell_type": "code",
   "execution_count": 115,
   "metadata": {},
   "outputs": [
    {
     "data": {
      "text/plain": [
       "1.0    398081\n",
       "2.0     23215\n",
       "9.0     17397\n",
       "Name: INSURANCE, dtype: int64"
      ]
     },
     "execution_count": 115,
     "metadata": {},
     "output_type": "execute_result"
    }
   ],
   "source": [
    "tableau_df['INSURANCE'].value_counts()"
   ]
  },
  {
   "cell_type": "code",
   "execution_count": 116,
   "metadata": {},
   "outputs": [
    {
     "data": {
      "text/plain": [
       "Insured              398081\n",
       "Not Insured           23215\n",
       "Refused to answer     17397\n",
       "Name: INSURANCE, dtype: int64"
      ]
     },
     "execution_count": 116,
     "metadata": {},
     "output_type": "execute_result"
    }
   ],
   "source": [
    "tableau_df['INSURANCE'].replace(to_replace=[1,2,9],\n",
    "           value=['Insured','Not Insured','Refused to answer'],inplace=True)\n",
    "tableau_df['INSURANCE'].value_counts()"
   ]
  },
  {
   "cell_type": "code",
   "execution_count": 117,
   "metadata": {},
   "outputs": [
    {
     "data": {
      "text/plain": [
       "1.0    227242\n",
       "5.0     77554\n",
       "2.0     55677\n",
       "3.0     47275\n",
       "6.0     17524\n",
       "4.0      8433\n",
       "9.0      4983\n",
       "Name: MARITAL_STATUS, dtype: int64"
      ]
     },
     "execution_count": 117,
     "metadata": {},
     "output_type": "execute_result"
    }
   ],
   "source": [
    "tableau_df['MARITAL_STATUS'].value_counts()"
   ]
  },
  {
   "cell_type": "code",
   "execution_count": 118,
   "metadata": {},
   "outputs": [
    {
     "data": {
      "text/plain": [
       "Married              227242\n",
       "Not Married           95078\n",
       "Divorced              55677\n",
       "Widowed               47275\n",
       "Separated              8433\n",
       "Refused to answer      4983\n",
       "Name: MARITAL_STATUS, dtype: int64"
      ]
     },
     "execution_count": 118,
     "metadata": {},
     "output_type": "execute_result"
    }
   ],
   "source": [
    "tableau_df['MARITAL_STATUS'].replace(to_replace=[1,2,3,4,5,6,9],\n",
    "           value=['Married','Divorced','Widowed','Separated','Not Married','Not Married','Refused to answer'],inplace=True)\n",
    "tableau_df['MARITAL_STATUS'].value_counts()"
   ]
  },
  {
   "cell_type": "code",
   "execution_count": 119,
   "metadata": {},
   "outputs": [
    {
     "data": {
      "text/plain": [
       "1.0    322705\n",
       "8.0     38396\n",
       "2.0     32772\n",
       "4.0     11408\n",
       "9.0     10990\n",
       "7.0      9230\n",
       "3.0      7265\n",
       "6.0      3939\n",
       "5.0      1988\n",
       "Name: RACE, dtype: int64"
      ]
     },
     "execution_count": 119,
     "metadata": {},
     "output_type": "execute_result"
    }
   ],
   "source": [
    "tableau_df['RACE'].value_counts()\n"
   ]
  },
  {
   "cell_type": "code",
   "execution_count": 120,
   "metadata": {},
   "outputs": [
    {
     "data": {
      "text/plain": [
       "White                                        322705\n",
       "Hispanic                                      38396\n",
       "Black                                         32772\n",
       "Asian                                         11408\n",
       "Refused to answer                             10990\n",
       "Multiracial                                    9230\n",
       "American Indian or Alaskan Native              7265\n",
       "Other                                          3939\n",
       "Native Hawaiian or other Pacific Islander      1988\n",
       "Name: RACE, dtype: int64"
      ]
     },
     "execution_count": 120,
     "metadata": {},
     "output_type": "execute_result"
    }
   ],
   "source": [
    "tableau_df['RACE'].replace(to_replace=[1,2,3,4,5,6,7,8,9],\n",
    "           value=['White','Black','American Indian or Alaskan Native','Asian','Native Hawaiian or other Pacific Islander','Other','Multiracial','Hispanic','Refused to answer'],inplace=True)\n",
    "tableau_df['RACE'].value_counts()"
   ]
  },
  {
   "cell_type": "code",
   "execution_count": 121,
   "metadata": {},
   "outputs": [
    {
     "data": {
      "text/plain": [
       "2.0    234933\n",
       "1.0    203760\n",
       "Name: SEX, dtype: int64"
      ]
     },
     "execution_count": 121,
     "metadata": {},
     "output_type": "execute_result"
    }
   ],
   "source": [
    "tableau_df['SEX'].value_counts()"
   ]
  },
  {
   "cell_type": "code",
   "execution_count": 122,
   "metadata": {},
   "outputs": [
    {
     "data": {
      "text/plain": [
       "Female    234933\n",
       "Male      203760\n",
       "Name: SEX, dtype: int64"
      ]
     },
     "execution_count": 122,
     "metadata": {},
     "output_type": "execute_result"
    }
   ],
   "source": [
    "tableau_df['SEX'].replace(to_replace=[1,2],\n",
    "           value=['Male','Female'],inplace=True)\n",
    "tableau_df['SEX'].value_counts()"
   ]
  },
  {
   "cell_type": "code",
   "execution_count": 123,
   "metadata": {},
   "outputs": [
    {
     "data": {
      "text/plain": [
       "36.0    39095\n",
       "20.0    17565\n",
       "27.0    15959\n",
       "24.0    15627\n",
       "31.0    14923\n",
       "39.0    14308\n",
       "53.0    13142\n",
       "29.0    12266\n",
       "23.0    11808\n",
       "48.0    10815\n",
       "4.0     10654\n",
       "49.0    10621\n",
       "8.0     10476\n",
       "45.0    10057\n",
       "18.0     9929\n",
       "51.0     9902\n",
       "19.0     9625\n",
       "26.0     9425\n",
       "9.0      8341\n",
       "13.0     8186\n",
       "34.0     7965\n",
       "15.0     7787\n",
       "25.0     7683\n",
       "46.0     7290\n",
       "16.0     6788\n",
       "54.0     6744\n",
       "6.0      6735\n",
       "50.0     6580\n",
       "33.0     6536\n",
       "42.0     6419\n",
       "35.0     6362\n",
       "30.0     6243\n",
       "55.0     6106\n",
       "38.0     5909\n",
       "44.0     5609\n",
       "2.0      5493\n",
       "40.0     5451\n",
       "21.0     5429\n",
       "41.0     5378\n",
       "5.0      5372\n",
       "22.0     5102\n",
       "37.0     4939\n",
       "47.0     4788\n",
       "1.0      4586\n",
       "28.0     4421\n",
       "56.0     4413\n",
       "72.0     4014\n",
       "10.0     3640\n",
       "17.0     3210\n",
       "11.0     3198\n",
       "32.0     2739\n",
       "66.0     1658\n",
       "78.0     1382\n",
       "Name: STATE, dtype: int64"
      ]
     },
     "execution_count": 123,
     "metadata": {},
     "output_type": "execute_result"
    }
   ],
   "source": [
    "tableau_df['STATE'].value_counts()"
   ]
  },
  {
   "cell_type": "code",
   "execution_count": 124,
   "metadata": {},
   "outputs": [
    {
     "data": {
      "text/plain": [
       "New York                39095\n",
       "Kansas                  17565\n",
       "Minnesota               15959\n",
       "Maryland                15627\n",
       "Nebraska                14923\n",
       "Ohio                    14308\n",
       "Washington              13142\n",
       "Missouri                12266\n",
       "Maine                   11808\n",
       "Texas                   10815\n",
       "Arizona                 10654\n",
       "Utah                    10621\n",
       "Colorado                10476\n",
       "South Carolina          10057\n",
       "Indiana                  9929\n",
       "Virginia                 9902\n",
       "Iowa                     9625\n",
       "Michigan                 9425\n",
       "Connecticut              8341\n",
       "Georgia                  8186\n",
       "New Jersey               7965\n",
       "Hawaii                   7787\n",
       "Massachusetts            7683\n",
       "South Dakota             7290\n",
       "Idaho                    6788\n",
       "West Virginia            6744\n",
       "California               6735\n",
       "Vermont                  6580\n",
       "New Hampshire            6536\n",
       "Pennsylvania             6419\n",
       "New Mexico               6362\n",
       "Montana                  6243\n",
       "Wisconsin                6106\n",
       "North Dakota             5909\n",
       "Rhode Island             5609\n",
       "Alaska                   5493\n",
       "Oklahoma                 5451\n",
       "Kentucky                 5429\n",
       "Oregon                   5378\n",
       "Arkansas                 5372\n",
       "Louisiana                5102\n",
       "North Carolina           4939\n",
       "Tennessee                4788\n",
       "Alabama                  4586\n",
       "Mississippi              4421\n",
       "Wyoming                  4413\n",
       "Puerto Rico              4014\n",
       "Delaware                 3640\n",
       "Illinois                 3210\n",
       "District of Columbia     3198\n",
       "Nevada                   2739\n",
       "Guam                     1658\n",
       "Virgin Islands           1382\n",
       "Name: STATE, dtype: int64"
      ]
     },
     "execution_count": 124,
     "metadata": {},
     "output_type": "execute_result"
    }
   ],
   "source": [
    "tableau_df['STATE'].replace(to_replace=[1,2,4,5,6,8,9,10,11,12,13,15,16,17,18,19,20,21,22,23,24,25,26,27,28,29,30,31,32,33,34,35,36,37,\n",
    "                                        38,39,40,41,42,44,45,46,47,48,49,50,51,53,54,55,56,66,72,78],\n",
    "           value=['Alabama','Alaska','Arizona','Arkansas','California','Colorado', 'Connecticut', 'Delaware', 'District of Columbia', \n",
    "                  'Florida', 'Georgia', 'Hawaii', 'Idaho', 'Illinois', 'Indiana', 'Iowa', 'Kansas', 'Kentucky', 'Louisiana', 'Maine',\n",
    "                  'Maryland', 'Massachusetts', 'Michigan', 'Minnesota', 'Mississippi', 'Missouri', 'Montana', 'Nebraska', 'Nevada',\n",
    "                  'New Hampshire', 'New Jersey', 'New Mexico', 'New York', 'North Carolina', 'North Dakota', 'Ohio', 'Oklahoma', 'Oregon',\n",
    "                  'Pennsylvania', 'Rhode Island', 'South Carolina', 'South Dakota', 'Tennessee', 'Texas', 'Utah', 'Vermont', 'Virginia',\n",
    "                  'Washington', 'West Virginia', 'Wisconsin', 'Wyoming', 'Guam','Puerto Rico','Virgin Islands'],inplace=True)\n",
    "tableau_df['STATE'].value_counts()"
   ]
  },
  {
   "cell_type": "code",
   "execution_count": 125,
   "metadata": {},
   "outputs": [
    {
     "data": {
      "text/plain": [
       "1.0    186076\n",
       "7.0    131546\n",
       "2.0     37759\n",
       "8.0     25702\n",
       "5.0     17579\n",
       "3.0     11406\n",
       "6.0     10661\n",
       "4.0      9713\n",
       "9.0      4663\n",
       "Name: WORK_STATUS, dtype: int64"
      ]
     },
     "execution_count": 125,
     "metadata": {},
     "output_type": "execute_result"
    }
   ],
   "source": [
    "\n",
    "tableau_df['WORK_STATUS'].value_counts()"
   ]
  },
  {
   "cell_type": "code",
   "execution_count": 126,
   "metadata": {},
   "outputs": [
    {
     "data": {
      "text/plain": [
       "Employed                          186076\n",
       "Retired                           131546\n",
       "Self-employed                      37759\n",
       "Unable to work                     25702\n",
       "Homemaker                          17579\n",
       "Out of work (more than a year)     11406\n",
       "Student                            10661\n",
       "Out of work (less than a year)      9713\n",
       "Refused to answer                   4663\n",
       "Name: WORK_STATUS, dtype: int64"
      ]
     },
     "execution_count": 126,
     "metadata": {},
     "output_type": "execute_result"
    }
   ],
   "source": [
    "tableau_df['WORK_STATUS'].replace(to_replace=[1,2,3,4,5,6,7,8,9],\n",
    "           value=['Employed','Self-employed','Out of work (more than a year)','Out of work (less than a year)',\n",
    "                  'Homemaker','Student','Retired','Unable to work','Refused to answer'],inplace=True)\n",
    "tableau_df['WORK_STATUS'].value_counts()"
   ]
  },
  {
   "cell_type": "code",
   "execution_count": 127,
   "metadata": {},
   "outputs": [
    {
     "data": {
      "text/plain": [
       "2.0    350778\n",
       "1.0     85398\n",
       "7.0      1814\n",
       "9.0       700\n",
       "Name: DEPRESSION, dtype: int64"
      ]
     },
     "execution_count": 127,
     "metadata": {},
     "output_type": "execute_result"
    }
   ],
   "source": [
    "tableau_df['DEPRESSION'].value_counts()"
   ]
  },
  {
   "cell_type": "code",
   "execution_count": 128,
   "metadata": {},
   "outputs": [
    {
     "data": {
      "text/plain": [
       "No                   350778\n",
       "Yes                   85398\n",
       "Refused to answer      2514\n",
       "Name: DEPRESSION, dtype: int64"
      ]
     },
     "execution_count": 128,
     "metadata": {},
     "output_type": "execute_result"
    }
   ],
   "source": [
    "tableau_df['DEPRESSION'].replace(to_replace=[1,2,7,9],\n",
    "           value=['Yes','No','Refused to answer','Refused to answer'],inplace=True)\n",
    "tableau_df['DEPRESSION'].value_counts()"
   ]
  },
  {
   "cell_type": "code",
   "execution_count": 129,
   "metadata": {},
   "outputs": [
    {
     "data": {
      "text/plain": [
       "1.0    364791\n",
       "2.0     72741\n",
       "9.0      1161\n",
       "Name: GENERAL_HEALTH, dtype: int64"
      ]
     },
     "execution_count": 129,
     "metadata": {},
     "output_type": "execute_result"
    }
   ],
   "source": [
    "tableau_df['GENERAL_HEALTH'].value_counts()"
   ]
  },
  {
   "cell_type": "code",
   "execution_count": 130,
   "metadata": {},
   "outputs": [
    {
     "data": {
      "text/plain": [
       "Good                 364791\n",
       "Fair/Poor             72741\n",
       "Refused to answer      1161\n",
       "Name: GENERAL_HEALTH, dtype: int64"
      ]
     },
     "execution_count": 130,
     "metadata": {},
     "output_type": "execute_result"
    }
   ],
   "source": [
    "tableau_df['GENERAL_HEALTH'].replace(to_replace=[1,2,9],\n",
    "           value=['Good','Fair/Poor','Refused to answer'],inplace=True)\n",
    "tableau_df['GENERAL_HEALTH'].value_counts()"
   ]
  },
  {
   "cell_type": "code",
   "execution_count": 131,
   "metadata": {},
   "outputs": [
    {
     "name": "stdout",
     "output_type": "stream",
     "text": [
      "1.0    271161\n",
      "2.0    104326\n",
      "3.0     55289\n",
      "9.0      7917\n",
      "Name: MENTAL_HEALTH, dtype: int64\n",
      "1.0    287796\n",
      "2.0     90419\n",
      "3.0     50984\n",
      "9.0      9494\n",
      "Name: PHYSICAL_HEALTH, dtype: int64\n"
     ]
    }
   ],
   "source": [
    "print(tableau_df['MENTAL_HEALTH'].value_counts())\n",
    "print(tableau_df['PHYSICAL_HEALTH'].value_counts())"
   ]
  },
  {
   "cell_type": "code",
   "execution_count": 132,
   "metadata": {},
   "outputs": [
    {
     "name": "stdout",
     "output_type": "stream",
     "text": [
      "Good                 271161\n",
      "Fair                 104326\n",
      "Not Good              55289\n",
      "Refused to answer      7917\n",
      "Name: MENTAL_HEALTH, dtype: int64\n",
      "Good                 287796\n",
      "Fair                  90419\n",
      "Not Good              50984\n",
      "Refused to answer      9494\n",
      "Name: PHYSICAL_HEALTH, dtype: int64\n"
     ]
    }
   ],
   "source": [
    "tableau_df['MENTAL_HEALTH'].replace(to_replace=[1,2,3,9],\n",
    "           value=['Good','Fair','Not Good','Refused to answer'],inplace=True)\n",
    "tableau_df['PHYSICAL_HEALTH'].replace(to_replace=[1,2,3,9],\n",
    "           value=['Good','Fair','Not Good','Refused to answer'],inplace=True)\n",
    "print(tableau_df['MENTAL_HEALTH'].value_counts())\n",
    "print(tableau_df['PHYSICAL_HEALTH'].value_counts())"
   ]
  },
  {
   "cell_type": "code",
   "execution_count": 133,
   "metadata": {},
   "outputs": [
    {
     "name": "stdout",
     "output_type": "stream",
     "text": [
      "1.0    142417\n",
      "2.0     29257\n",
      "7.0       296\n",
      "9.0       163\n",
      "Name: BPMEDS, dtype: int64\n",
      "2.0    420051\n",
      "1.0     17213\n",
      "7.0      1130\n",
      "9.0       297\n",
      "Name: HEART_STROKE, dtype: int64\n",
      "1.0    211232\n",
      "2.0    196872\n",
      "9.0     26851\n",
      "7.0      3738\n",
      "Name: ANYDRINKS_PAST30, dtype: int64\n",
      "2.0    246644\n",
      "1.0    167588\n",
      "7.0      2298\n",
      "9.0       931\n",
      "Name: SMOKE100, dtype: int64\n",
      "2.0    12087\n",
      "1.0    11860\n",
      "7.0       77\n",
      "9.0       38\n",
      "Name: QUIT_SMK, dtype: int64\n"
     ]
    }
   ],
   "source": [
    "print(tableau_df['BPMEDS'].value_counts())\n",
    "print(tableau_df['HEART_STROKE'].value_counts())\n",
    "print(tableau_df['ANYDRINKS_PAST30'].value_counts())\n",
    "print(tableau_df['SMOKE100'].value_counts())\n",
    "print(tableau_df['QUIT_SMK'].value_counts())"
   ]
  },
  {
   "cell_type": "code",
   "execution_count": 134,
   "metadata": {},
   "outputs": [
    {
     "name": "stdout",
     "output_type": "stream",
     "text": [
      "Yes                  142417\n",
      "No                    29257\n",
      "Refused to answer       459\n",
      "Name: BPMEDS, dtype: int64\n",
      "No                   420051\n",
      "Yes                   17213\n",
      "Refused to answer      1427\n",
      "Name: HEART_STROKE, dtype: int64\n",
      "Yes                  211232\n",
      "No                   196872\n",
      "Refused to answer     30589\n",
      "Name: ANYDRINKS_PAST30, dtype: int64\n",
      "No                   246644\n",
      "Yes                  167588\n",
      "Refused to answer      3229\n",
      "Name: SMOKE100, dtype: int64\n",
      "No                   12087\n",
      "Yes                  11860\n",
      "Refused to answer      115\n",
      "Name: QUIT_SMK, dtype: int64\n"
     ]
    }
   ],
   "source": [
    "tableau_df['BPMEDS'].replace(to_replace=[1,2,7,9],\n",
    "           value=['Yes','No','Refused to answer','Refused to answer'],inplace=True)\n",
    "tableau_df['HEART_STROKE'].replace(to_replace=[1,2,7,9],\n",
    "           value=['Yes','No','Refused to answer','Refused to answer'],inplace=True)\n",
    "tableau_df['ANYDRINKS_PAST30'].replace(to_replace=[1,2,7,9],\n",
    "           value=['Yes','No','Refused to answer','Refused to answer'],inplace=True)\n",
    "tableau_df['SMOKE100'].replace(to_replace=[1,2,7,9],\n",
    "           value=['Yes','No','Refused to answer','Refused to answer'],inplace=True)\n",
    "tableau_df['QUIT_SMK'].replace(to_replace=[1,2,7,9],\n",
    "           value=['Yes','No','Refused to answer','Refused to answer'],inplace=True)\n",
    "\n",
    "print(tableau_df['BPMEDS'].value_counts())\n",
    "print(tableau_df['HEART_STROKE'].value_counts())\n",
    "print(tableau_df['ANYDRINKS_PAST30'].value_counts())\n",
    "print(tableau_df['SMOKE100'].value_counts())\n",
    "print(tableau_df['QUIT_SMK'].value_counts())"
   ]
  },
  {
   "cell_type": "code",
   "execution_count": 135,
   "metadata": {},
   "outputs": [
    {
     "data": {
      "text/plain": [
       "2.0    398735\n",
       "1.0     35323\n",
       "Name: HRT_ATTK_OR_DISEASE, dtype: int64"
      ]
     },
     "execution_count": 135,
     "metadata": {},
     "output_type": "execute_result"
    }
   ],
   "source": [
    "tableau_df['HRT_ATTK_OR_DISEASE'].value_counts()"
   ]
  },
  {
   "cell_type": "code",
   "execution_count": 136,
   "metadata": {},
   "outputs": [
    {
     "data": {
      "text/plain": [
       "No     398735\n",
       "Yes     35323\n",
       "Name: HRT_ATTK_OR_DISEASE, dtype: int64"
      ]
     },
     "execution_count": 136,
     "metadata": {},
     "output_type": "execute_result"
    }
   ],
   "source": [
    "tableau_df['HRT_ATTK_OR_DISEASE'].replace(to_replace=[1,2],\n",
    "           value=['Yes','No'],inplace=True)\n",
    "tableau_df['HRT_ATTK_OR_DISEASE'].value_counts()"
   ]
  },
  {
   "cell_type": "code",
   "execution_count": 137,
   "metadata": {},
   "outputs": [
    {
     "name": "stdout",
     "output_type": "stream",
     "text": [
      "1.0    264648\n",
      "2.0    172133\n",
      "9.0      1912\n",
      "Name: HYPERTENSION, dtype: int64\n",
      "1.0    349610\n",
      "2.0     53761\n",
      "9.0     35322\n",
      "Name: BINGE_DRNKR, dtype: int64\n",
      "1.0    379828\n",
      "9.0     34993\n",
      "2.0     23872\n",
      "Name: HEAVY_DRNKR, dtype: int64\n",
      "1.0    359891\n",
      "2.0     53832\n",
      "9.0     24970\n",
      "Name: SMOKER, dtype: int64\n"
     ]
    }
   ],
   "source": [
    "print(tableau_df['HYPERTENSION'].value_counts())\n",
    "print(tableau_df['BINGE_DRNKR'].value_counts())\n",
    "print(tableau_df['HEAVY_DRNKR'].value_counts())\n",
    "print(tableau_df['SMOKER'].value_counts())"
   ]
  },
  {
   "cell_type": "code",
   "execution_count": 138,
   "metadata": {},
   "outputs": [
    {
     "name": "stdout",
     "output_type": "stream",
     "text": [
      "No                   264648\n",
      "Yes                  172133\n",
      "Refused to answer      1912\n",
      "Name: HYPERTENSION, dtype: int64\n",
      "No                   349610\n",
      "Yes                   53761\n",
      "Refused to answer     35322\n",
      "Name: BINGE_DRNKR, dtype: int64\n",
      "No                   379828\n",
      "Refused to answer     34993\n",
      "Yes                   23872\n",
      "Name: HEAVY_DRNKR, dtype: int64\n",
      "No                   359891\n",
      "Yes                   53832\n",
      "Refused to answer     24970\n",
      "Name: SMOKER, dtype: int64\n"
     ]
    }
   ],
   "source": [
    "tableau_df['HYPERTENSION'].replace(to_replace=[1,2,9],\n",
    "           value=['No','Yes','Refused to answer'],inplace=True)\n",
    "tableau_df['BINGE_DRNKR'].replace(to_replace=[1,2,9],\n",
    "           value=['No','Yes','Refused to answer'],inplace=True)\n",
    "tableau_df['HEAVY_DRNKR'].replace(to_replace=[1,2,9],\n",
    "           value=['No','Yes','Refused to answer'],inplace=True)\n",
    "tableau_df['SMOKER'].replace(to_replace=[1,2,9],\n",
    "           value=['No','Yes','Refused to answer'],inplace=True)\n",
    "print(tableau_df['HYPERTENSION'].value_counts())\n",
    "print(tableau_df['BINGE_DRNKR'].value_counts())\n",
    "print(tableau_df['HEAVY_DRNKR'].value_counts())\n",
    "print(tableau_df['SMOKER'].value_counts())"
   ]
  },
  {
   "cell_type": "code",
   "execution_count": 139,
   "metadata": {},
   "outputs": [
    {
     "data": {
      "text/plain": [
       "1.0     56620\n",
       "2.0     53954\n",
       "3.0     32355\n",
       "4.0     17189\n",
       "5.0     12528\n",
       "        ...  \n",
       "53.0        1\n",
       "72.0        1\n",
       "29.0        1\n",
       "44.0        1\n",
       "66.0        1\n",
       "Name: MAXDRNKS, Length: 61, dtype: int64"
      ]
     },
     "execution_count": 139,
     "metadata": {},
     "output_type": "execute_result"
    }
   ],
   "source": [
    "tableau_df['MAXDRNKS'].value_counts()"
   ]
  },
  {
   "cell_type": "code",
   "execution_count": 142,
   "metadata": {},
   "outputs": [
    {
     "data": {
      "text/plain": [
       "1.0                  56620\n",
       "2.0                  53954\n",
       "3.0                  32355\n",
       "4.0                  17189\n",
       "5.0                  12528\n",
       "6.0                  10379\n",
       "Refused to answer     7461\n",
       "8.0                   4286\n",
       "10.0                  3994\n",
       "7.0                   3587\n",
       "12.0                  2694\n",
       "15.0                   969\n",
       "9.0                    711\n",
       "20.0                   623\n",
       "30.0                   301\n",
       "18.0                   281\n",
       "14.0                   213\n",
       "24.0                   179\n",
       "13.0                   155\n",
       "16.0                   152\n",
       "11.0                   148\n",
       "25.0                    97\n",
       "17.0                    65\n",
       "40.0                    47\n",
       "50.0                    29\n",
       "22.0                    28\n",
       "19.0                    19\n",
       "23.0                    18\n",
       "35.0                    16\n",
       "36.0                    16\n",
       "76.0                    14\n",
       "27.0                    13\n",
       "26.0                    12\n",
       "32.0                    12\n",
       "28.0                    11\n",
       "60.0                    11\n",
       "45.0                    10\n",
       "21.0                     9\n",
       "48.0                     8\n",
       "38.0                     7\n",
       "34.0                     7\n",
       "42.0                     5\n",
       "37.0                     3\n",
       "75.0                     3\n",
       "43.0                     3\n",
       "47.0                     2\n",
       "52.0                     2\n",
       "31.0                     2\n",
       "64.0                     2\n",
       "33.0                     2\n",
       "70.0                     2\n",
       "53.0                     1\n",
       "72.0                     1\n",
       "56.0                     1\n",
       "29.0                     1\n",
       "62.0                     1\n",
       "44.0                     1\n",
       "69.0                     1\n",
       "65.0                     1\n",
       "66.0                     1\n",
       "Name: MAXDRNKS, dtype: int64"
      ]
     },
     "execution_count": 142,
     "metadata": {},
     "output_type": "execute_result"
    }
   ],
   "source": [
    "tableau_df['MAXDRNKS'].replace(to_replace=[77,99],\n",
    "           value=['Refused to answer','Refused to answer'],inplace=True)\n",
    "tableau_df['MAXDRNKS'].value_counts()"
   ]
  },
  {
   "cell_type": "code",
   "execution_count": 146,
   "metadata": {},
   "outputs": [
    {
     "data": {
      "text/plain": [
       "88.0    122516\n",
       "30.0      5432\n",
       "1.0       1267\n",
       "2.0       1226\n",
       "99.0       976\n",
       "5.0        771\n",
       "10.0       752\n",
       "20.0       724\n",
       "15.0       684\n",
       "3.0        667\n",
       "4.0        543\n",
       "77.0       503\n",
       "25.0       309\n",
       "8.0        204\n",
       "7.0        186\n",
       "6.0        181\n",
       "12.0       167\n",
       "28.0       115\n",
       "14.0        81\n",
       "29.0        53\n",
       "16.0        38\n",
       "27.0        24\n",
       "21.0        21\n",
       "9.0         21\n",
       "24.0        17\n",
       "26.0        15\n",
       "18.0        14\n",
       "17.0        13\n",
       "22.0        12\n",
       "23.0        11\n",
       "11.0        10\n",
       "19.0         4\n",
       "13.0         3\n",
       "Name: MARIJUANA, dtype: int64"
      ]
     },
     "execution_count": 146,
     "metadata": {},
     "output_type": "execute_result"
    }
   ],
   "source": [
    "tableau_df['MARIJUANA'].value_counts()"
   ]
  },
  {
   "cell_type": "code",
   "execution_count": 147,
   "metadata": {},
   "outputs": [
    {
     "data": {
      "text/plain": [
       "Refused to answer    123492\n",
       "30.0                   5432\n",
       "1.0                    1267\n",
       "2.0                    1226\n",
       "5.0                     771\n",
       "10.0                    752\n",
       "20.0                    724\n",
       "15.0                    684\n",
       "3.0                     667\n",
       "4.0                     543\n",
       "0.0                     503\n",
       "25.0                    309\n",
       "8.0                     204\n",
       "7.0                     186\n",
       "6.0                     181\n",
       "12.0                    167\n",
       "28.0                    115\n",
       "14.0                     81\n",
       "29.0                     53\n",
       "16.0                     38\n",
       "27.0                     24\n",
       "21.0                     21\n",
       "9.0                      21\n",
       "24.0                     17\n",
       "26.0                     15\n",
       "18.0                     14\n",
       "17.0                     13\n",
       "22.0                     12\n",
       "23.0                     11\n",
       "11.0                     10\n",
       "19.0                      4\n",
       "13.0                      3\n",
       "Name: MARIJUANA, dtype: int64"
      ]
     },
     "execution_count": 147,
     "metadata": {},
     "output_type": "execute_result"
    }
   ],
   "source": [
    "tableau_df['MARIJUANA'].replace(to_replace=[77,88,99],\n",
    "           value=[0,'Refused to answer','Refused to answer'],inplace=True)\n",
    "tableau_df['MARIJUANA'].value_counts()"
   ]
  },
  {
   "cell_type": "code",
   "execution_count": 148,
   "metadata": {},
   "outputs": [
    {
     "data": {
      "text/plain": [
       "1.0    8871\n",
       "2.0    2650\n",
       "4.0    1185\n",
       "5.0     312\n",
       "6.0     293\n",
       "3.0     136\n",
       "9.0      67\n",
       "7.0      32\n",
       "Name: MRJ_METHOD, dtype: int64"
      ]
     },
     "execution_count": 148,
     "metadata": {},
     "output_type": "execute_result"
    }
   ],
   "source": [
    "tableau_df['MRJ_METHOD'].value_counts()"
   ]
  },
  {
   "cell_type": "code",
   "execution_count": 149,
   "metadata": {},
   "outputs": [
    {
     "data": {
      "text/plain": [
       "Smoke                8871\n",
       "Edible               2786\n",
       "Vape                 1185\n",
       "Dab                   312\n",
       "Other                 293\n",
       "Refused to answer      99\n",
       "Name: MRJ_METHOD, dtype: int64"
      ]
     },
     "execution_count": 149,
     "metadata": {},
     "output_type": "execute_result"
    }
   ],
   "source": [
    "tableau_df['MRJ_METHOD'].replace(to_replace=[1,2,3,4,5,6,7,9],\n",
    "           value=['Smoke','Edible','Edible','Vape','Dab','Other','Refused to answer','Refused to answer'],inplace=True)\n",
    "tableau_df['MRJ_METHOD'].value_counts()"
   ]
  },
  {
   "cell_type": "code",
   "execution_count": 150,
   "metadata": {},
   "outputs": [
    {
     "data": {
      "text/plain": [
       "3.0    5025\n",
       "2.0    4427\n",
       "1.0    3951\n",
       "9.0      70\n",
       "7.0      59\n",
       "Name: MRJ_REASON, dtype: int64"
      ]
     },
     "execution_count": 150,
     "metadata": {},
     "output_type": "execute_result"
    }
   ],
   "source": [
    "tableau_df['MRJ_REASON'].value_counts()"
   ]
  },
  {
   "cell_type": "code",
   "execution_count": 151,
   "metadata": {},
   "outputs": [
    {
     "data": {
      "text/plain": [
       "Both                 5025\n",
       "Recreational         4427\n",
       "Medical              3951\n",
       "Refused to answer     129\n",
       "Name: MRJ_REASON, dtype: int64"
      ]
     },
     "execution_count": 151,
     "metadata": {},
     "output_type": "execute_result"
    }
   ],
   "source": [
    "tableau_df['MRJ_REASON'].replace(to_replace=[1,2,3,7,9],\n",
    "           value=['Medical','Recreational','Both','Refused to answer','Refused to answer'],inplace=True)\n",
    "tableau_df['MRJ_REASON'].value_counts()"
   ]
  },
  {
   "cell_type": "code",
   "execution_count": 152,
   "metadata": {},
   "outputs": [
    {
     "data": {
      "text/plain": [
       "20.0     3408\n",
       "10.0     2515\n",
       "5.0       865\n",
       "15.0      738\n",
       "40.0      530\n",
       "         ... \n",
       "105.0       1\n",
       "88.0        1\n",
       "36.0        1\n",
       "90.0        1\n",
       "180.0       1\n",
       "Name: AVG_CIGS_DAY, Length: 64, dtype: int64"
      ]
     },
     "execution_count": 152,
     "metadata": {},
     "output_type": "execute_result"
    }
   ],
   "source": [
    "tableau_df['AVG_CIGS_DAY'].value_counts()"
   ]
  },
  {
   "cell_type": "code",
   "execution_count": 153,
   "metadata": {},
   "outputs": [
    {
     "data": {
      "text/plain": [
       "20.0     3408\n",
       "10.0     2515\n",
       "5.0       865\n",
       "15.0      738\n",
       "40.0      530\n",
       "         ... \n",
       "105.0       1\n",
       "88.0        1\n",
       "36.0        1\n",
       "90.0        1\n",
       "180.0       1\n",
       "Name: AVG_CIGS_DAY, Length: 63, dtype: int64"
      ]
     },
     "execution_count": 153,
     "metadata": {},
     "output_type": "execute_result"
    }
   ],
   "source": [
    "tableau_df['AVG_CIGS_DAY'].replace(to_replace=[777,999],\n",
    "           value=['Refused to answer','Refused to answer'],inplace=True)\n",
    "tableau_df['AVG_CIGS_DAY'].value_counts()"
   ]
  },
  {
   "cell_type": "code",
   "execution_count": 154,
   "metadata": {},
   "outputs": [
    {
     "data": {
      "text/plain": [
       "3.0    311502\n",
       "4.0     83907\n",
       "2.0     10296\n",
       "1.0      9050\n",
       "9.0       663\n",
       "7.0       250\n",
       "Name: E_CIG_FREQ, dtype: int64"
      ]
     },
     "execution_count": 154,
     "metadata": {},
     "output_type": "execute_result"
    }
   ],
   "source": [
    "tableau_df['E_CIG_FREQ'].value_counts()"
   ]
  },
  {
   "cell_type": "code",
   "execution_count": 155,
   "metadata": {},
   "outputs": [
    {
     "data": {
      "text/plain": [
       "Never                395409\n",
       "Some days             10296\n",
       "Every day              9050\n",
       "Refused to answer       913\n",
       "Name: E_CIG_FREQ, dtype: int64"
      ]
     },
     "execution_count": 155,
     "metadata": {},
     "output_type": "execute_result"
    }
   ],
   "source": [
    "tableau_df['E_CIG_FREQ'].replace(to_replace=[1,2,3,4,7,9],\n",
    "           value=['Every day','Some days','Never','Never','Refused to answer','Refused to answer'],inplace=True)\n",
    "tableau_df['E_CIG_FREQ'].value_counts()"
   ]
  },
  {
   "cell_type": "code",
   "execution_count": 156,
   "metadata": {},
   "outputs": [
    {
     "data": {
      "text/plain": [
       "1.0    395409\n",
       "9.0     23938\n",
       "2.0     19346\n",
       "Name: E_CIG_USER, dtype: int64"
      ]
     },
     "execution_count": 156,
     "metadata": {},
     "output_type": "execute_result"
    }
   ],
   "source": [
    "tableau_df['E_CIG_USER'].value_counts()"
   ]
  },
  {
   "cell_type": "code",
   "execution_count": 157,
   "metadata": {},
   "outputs": [
    {
     "data": {
      "text/plain": [
       "Not anymore          395409\n",
       "Refused to answer     23938\n",
       "Yes                   19346\n",
       "Name: E_CIG_USER, dtype: int64"
      ]
     },
     "execution_count": 157,
     "metadata": {},
     "output_type": "execute_result"
    }
   ],
   "source": [
    "tableau_df['E_CIG_USER'].replace(to_replace=[1,2,9],\n",
    "           value=['Not anymore','Yes','Refused to answer'],inplace=True)\n",
    "tableau_df['E_CIG_USER'].value_counts()"
   ]
  },
  {
   "cell_type": "code",
   "execution_count": 159,
   "metadata": {},
   "outputs": [
    {
     "data": {
      "text/plain": [
       "No                   395409\n",
       "Refused to answer     23938\n",
       "Yes                   19346\n",
       "Name: E_CIG_USER, dtype: int64"
      ]
     },
     "execution_count": 159,
     "metadata": {},
     "output_type": "execute_result"
    }
   ],
   "source": [
    "tableau_df['E_CIG_USER'].replace(to_replace=['Not anymore'],\n",
    "           value=['No'],inplace=True)\n",
    "tableau_df['E_CIG_USER'].value_counts()"
   ]
  },
  {
   "cell_type": "code",
   "execution_count": 160,
   "metadata": {},
   "outputs": [
    {
     "data": {
      "text/plain": [
       "30.0     631\n",
       "40.0     604\n",
       "777.0    519\n",
       "35.0     466\n",
       "50.0     446\n",
       "        ... \n",
       "1.0        1\n",
       "91.0       1\n",
       "92.0       1\n",
       "94.0       1\n",
       "11.0       1\n",
       "Name: SMOKE_END_AGE, Length: 92, dtype: int64"
      ]
     },
     "execution_count": 160,
     "metadata": {},
     "output_type": "execute_result"
    }
   ],
   "source": [
    "tableau_df['SMOKE_END_AGE'].value_counts()"
   ]
  },
  {
   "cell_type": "code",
   "execution_count": 161,
   "metadata": {},
   "outputs": [
    {
     "data": {
      "text/plain": [
       "Refused to answer    682\n",
       "30.0                 631\n",
       "40.0                 604\n",
       "35.0                 466\n",
       "50.0                 446\n",
       "                    ... \n",
       "4.0                    1\n",
       "3.0                    1\n",
       "95.0                   1\n",
       "89.0                   1\n",
       "11.0                   1\n",
       "Name: SMOKE_END_AGE, Length: 91, dtype: int64"
      ]
     },
     "execution_count": 161,
     "metadata": {},
     "output_type": "execute_result"
    }
   ],
   "source": [
    "tableau_df['SMOKE_END_AGE'].replace(to_replace=[777,999],\n",
    "           value=['Refused to answer','Refused to answer'],inplace=True)\n",
    "tableau_df['SMOKE_END_AGE'].value_counts()"
   ]
  },
  {
   "cell_type": "code",
   "execution_count": 162,
   "metadata": {},
   "outputs": [
    {
     "data": {
      "text/plain": [
       "3.0    113247\n",
       "1.0     38913\n",
       "2.0     14919\n",
       "9.0       248\n",
       "7.0       126\n",
       "Name: SMOKE_FREQ, dtype: int64"
      ]
     },
     "execution_count": 162,
     "metadata": {},
     "output_type": "execute_result"
    }
   ],
   "source": [
    "tableau_df['SMOKE_FREQ'].value_counts()\n"
   ]
  },
  {
   "cell_type": "code",
   "execution_count": 163,
   "metadata": {},
   "outputs": [
    {
     "data": {
      "text/plain": [
       "Never                113247\n",
       "Every day             38913\n",
       "Some days             14919\n",
       "Refused to answer       374\n",
       "Name: SMOKE_FREQ, dtype: int64"
      ]
     },
     "execution_count": 163,
     "metadata": {},
     "output_type": "execute_result"
    }
   ],
   "source": [
    "tableau_df['SMOKE_FREQ'].replace(to_replace=[1,2,3,7,9],\n",
    "           value=['Every day','Some days','Never','Refused to answer','Refused to answer'],inplace=True)\n",
    "tableau_df['SMOKE_FREQ'].value_counts()"
   ]
  },
  {
   "cell_type": "code",
   "execution_count": 164,
   "metadata": {},
   "outputs": [
    {
     "data": {
      "text/plain": [
       "18.0     1990\n",
       "16.0     1763\n",
       "15.0     1326\n",
       "17.0     1137\n",
       "20.0      903\n",
       "14.0      816\n",
       "19.0      752\n",
       "13.0      599\n",
       "12.0      445\n",
       "21.0      433\n",
       "888.0     397\n",
       "22.0      287\n",
       "25.0      235\n",
       "777.0     213\n",
       "11.0      142\n",
       "30.0      139\n",
       "23.0      132\n",
       "10.0      118\n",
       "24.0       88\n",
       "999.0      84\n",
       "9.0        66\n",
       "8.0        51\n",
       "35.0       51\n",
       "28.0       51\n",
       "26.0       44\n",
       "27.0       43\n",
       "40.0       33\n",
       "7.0        21\n",
       "32.0       20\n",
       "29.0       18\n",
       "33.0       12\n",
       "50.0       12\n",
       "6.0        11\n",
       "34.0        9\n",
       "31.0        8\n",
       "38.0        7\n",
       "39.0        6\n",
       "45.0        6\n",
       "36.0        6\n",
       "5.0         6\n",
       "42.0        6\n",
       "1.0         5\n",
       "37.0        4\n",
       "44.0        4\n",
       "43.0        3\n",
       "47.0        3\n",
       "60.0        3\n",
       "54.0        3\n",
       "46.0        2\n",
       "41.0        2\n",
       "53.0        2\n",
       "67.0        2\n",
       "59.0        2\n",
       "2.0         1\n",
       "99.0        1\n",
       "55.0        1\n",
       "88.0        1\n",
       "58.0        1\n",
       "48.0        1\n",
       "Name: SMOKE_STRT_AGE, dtype: int64"
      ]
     },
     "execution_count": 164,
     "metadata": {},
     "output_type": "execute_result"
    }
   ],
   "source": [
    "tableau_df['SMOKE_STRT_AGE'].value_counts()"
   ]
  },
  {
   "cell_type": "code",
   "execution_count": 165,
   "metadata": {},
   "outputs": [
    {
     "data": {
      "text/plain": [
       "18.0                 1990\n",
       "16.0                 1763\n",
       "15.0                 1326\n",
       "17.0                 1137\n",
       "20.0                  903\n",
       "14.0                  816\n",
       "19.0                  752\n",
       "13.0                  599\n",
       "12.0                  445\n",
       "21.0                  433\n",
       "Never                 397\n",
       "Refused to answer     297\n",
       "22.0                  287\n",
       "25.0                  235\n",
       "11.0                  142\n",
       "30.0                  139\n",
       "23.0                  132\n",
       "10.0                  118\n",
       "24.0                   88\n",
       "9.0                    66\n",
       "35.0                   51\n",
       "8.0                    51\n",
       "28.0                   51\n",
       "26.0                   44\n",
       "27.0                   43\n",
       "40.0                   33\n",
       "7.0                    21\n",
       "32.0                   20\n",
       "29.0                   18\n",
       "33.0                   12\n",
       "50.0                   12\n",
       "6.0                    11\n",
       "34.0                    9\n",
       "31.0                    8\n",
       "38.0                    7\n",
       "45.0                    6\n",
       "36.0                    6\n",
       "39.0                    6\n",
       "5.0                     6\n",
       "42.0                    6\n",
       "1.0                     5\n",
       "37.0                    4\n",
       "44.0                    4\n",
       "43.0                    3\n",
       "47.0                    3\n",
       "60.0                    3\n",
       "54.0                    3\n",
       "46.0                    2\n",
       "41.0                    2\n",
       "53.0                    2\n",
       "67.0                    2\n",
       "59.0                    2\n",
       "2.0                     1\n",
       "99.0                    1\n",
       "55.0                    1\n",
       "88.0                    1\n",
       "58.0                    1\n",
       "48.0                    1\n",
       "Name: SMOKE_STRT_AGE, dtype: int64"
      ]
     },
     "execution_count": 165,
     "metadata": {},
     "output_type": "execute_result"
    }
   ],
   "source": [
    "tableau_df['SMOKE_STRT_AGE'].replace(to_replace=[777,888,999],\n",
    "           value=['Refused to answer','Never','Refused to answer'],inplace=True)\n",
    "tableau_df['SMOKE_STRT_AGE'].value_counts()"
   ]
  },
  {
   "cell_type": "code",
   "execution_count": 166,
   "metadata": {},
   "outputs": [
    {
     "data": {
      "text/plain": [
       "4.0    246644\n",
       "3.0    113247\n",
       "1.0     38913\n",
       "9.0     24970\n",
       "2.0     14919\n",
       "Name: SMOKER_STATUS, dtype: int64"
      ]
     },
     "execution_count": 166,
     "metadata": {},
     "output_type": "execute_result"
    }
   ],
   "source": [
    "tableau_df['SMOKER_STATUS'].value_counts()"
   ]
  },
  {
   "cell_type": "code",
   "execution_count": 167,
   "metadata": {},
   "outputs": [
    {
     "data": {
      "text/plain": [
       "Never Smoked         246644\n",
       "Former smoker        113247\n",
       "Smokes every day      38913\n",
       "Refused to answer     24970\n",
       "Smokes some days      14919\n",
       "Name: SMOKER_STATUS, dtype: int64"
      ]
     },
     "execution_count": 167,
     "metadata": {},
     "output_type": "execute_result"
    }
   ],
   "source": [
    "tableau_df['SMOKER_STATUS'].replace(to_replace=[1,2,3,4,9],\n",
    "           value=['Smokes every day', 'Smokes some days','Former smoker','Never Smoked','Refused to answer'],inplace=True)\n",
    "tableau_df['SMOKER_STATUS'].value_counts()"
   ]
  },
  {
   "cell_type": "code",
   "execution_count": 168,
   "metadata": {},
   "outputs": [
    {
     "data": {
      "text/plain": [
       "3.0    402556\n",
       "1.0      7769\n",
       "2.0      5486\n",
       "9.0       699\n",
       "7.0       194\n",
       "Name: TOBAC_FREQ, dtype: int64"
      ]
     },
     "execution_count": 168,
     "metadata": {},
     "output_type": "execute_result"
    }
   ],
   "source": [
    "tableau_df['TOBAC_FREQ'].value_counts()"
   ]
  },
  {
   "cell_type": "code",
   "execution_count": 169,
   "metadata": {},
   "outputs": [
    {
     "data": {
      "text/plain": [
       "Never                402556\n",
       "Every day              7769\n",
       "Some days              5486\n",
       "Refused to answer       893\n",
       "Name: TOBAC_FREQ, dtype: int64"
      ]
     },
     "execution_count": 169,
     "metadata": {},
     "output_type": "execute_result"
    }
   ],
   "source": [
    "tableau_df['TOBAC_FREQ'].replace(to_replace=[1,2,3,7,9],\n",
    "           value=['Every day','Some days','Never','Refused to answer','Refused to answer'],inplace=True)\n",
    "tableau_df['TOBAC_FREQ'].value_counts()"
   ]
  },
  {
   "cell_type": "code",
   "execution_count": 170,
   "metadata": {},
   "outputs": [
    {
     "data": {
      "text/plain": [
       "7.0     34422\n",
       "5.0      6800\n",
       "6.0      4974\n",
       "4.0      1547\n",
       "1.0      1279\n",
       "2.0      1096\n",
       "3.0       927\n",
       "77.0      465\n",
       "8.0       274\n",
       "99.0       69\n",
       "Name: LAST_SMOKE, dtype: int64"
      ]
     },
     "execution_count": 170,
     "metadata": {},
     "output_type": "execute_result"
    }
   ],
   "source": [
    "tableau_df['LAST_SMOKE'].value_counts()"
   ]
  },
  {
   "cell_type": "code",
   "execution_count": 171,
   "metadata": {},
   "outputs": [
    {
     "data": {
      "text/plain": [
       "10 years or more            34422\n",
       "Within the past 5 years      6800\n",
       "Within the past 10 years     4974\n",
       "Within the past year         1547\n",
       "Within the past month        1279\n",
       "Within the past 3 months     1096\n",
       "Within the past 6 months      927\n",
       "Refused to answer             534\n",
       "Never                         274\n",
       "Name: LAST_SMOKE, dtype: int64"
      ]
     },
     "execution_count": 171,
     "metadata": {},
     "output_type": "execute_result"
    }
   ],
   "source": [
    "tableau_df['LAST_SMOKE'].replace(to_replace=[1,2,3,4,5,6,7,8,77,99],\n",
    "           value=['Within the past month','Within the past 3 months','Within the past 6 months','Within the past year',\n",
    "           'Within the past 5 years','Within the past 10 years','10 years or more','Never','Refused to answer','Refused to answer'],inplace=True)\n",
    "tableau_df['LAST_SMOKE'].value_counts()"
   ]
  },
  {
   "cell_type": "code",
   "execution_count": 172,
   "metadata": {},
   "outputs": [],
   "source": [
    "tableau_df.to_csv('substance_tableau.csv')"
   ]
  },
  {
   "cell_type": "code",
   "execution_count": null,
   "metadata": {},
   "outputs": [],
   "source": []
  }
 ],
 "metadata": {
  "kernelspec": {
   "display_name": "PythonData",
   "language": "python",
   "name": "python3"
  },
  "language_info": {
   "codemirror_mode": {
    "name": "ipython",
    "version": 3
   },
   "file_extension": ".py",
   "mimetype": "text/x-python",
   "name": "python",
   "nbconvert_exporter": "python",
   "pygments_lexer": "ipython3",
   "version": "3.7.15"
  },
  "orig_nbformat": 4
 },
 "nbformat": 4,
 "nbformat_minor": 2
}
