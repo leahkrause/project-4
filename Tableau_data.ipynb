{
 "cells": [
  {
   "cell_type": "code",
   "execution_count": 142,
   "id": "cc8c3920",
   "metadata": {},
   "outputs": [],
   "source": [
    "import numpy as np\n",
    "import pandas as pd\n",
    "import seaborn as sns\n",
    "import matplotlib.pyplot as plt\n",
    "from sklearn.preprocessing import StandardScaler\n",
    "from sklearn.model_selection import train_test_split\n",
    "from sklearn.linear_model import LogisticRegression\n",
    "from imblearn.over_sampling import RandomOverSampler\n",
    "from sklearn.metrics import confusion_matrix, accuracy_score, classification_report"
   ]
  },
  {
   "cell_type": "code",
   "execution_count": 143,
   "id": "ce25fffa",
   "metadata": {},
   "outputs": [
    {
     "data": {
      "text/html": [
       "<div>\n",
       "<style scoped>\n",
       "    .dataframe tbody tr th:only-of-type {\n",
       "        vertical-align: middle;\n",
       "    }\n",
       "\n",
       "    .dataframe tbody tr th {\n",
       "        vertical-align: top;\n",
       "    }\n",
       "\n",
       "    .dataframe thead th {\n",
       "        text-align: right;\n",
       "    }\n",
       "</style>\n",
       "<table border=\"1\" class=\"dataframe\">\n",
       "  <thead>\n",
       "    <tr style=\"text-align: right;\">\n",
       "      <th></th>\n",
       "      <th>Unnamed: 0</th>\n",
       "      <th>SEX</th>\n",
       "      <th>GENERAL_HEALTH</th>\n",
       "      <th>PHYSICAL_HEALTH</th>\n",
       "      <th>MENTAL_HEALTH_30</th>\n",
       "      <th>HEALTH_PLAN</th>\n",
       "      <th>ROUTIN_CHECKUP</th>\n",
       "      <th>EXERCISE</th>\n",
       "      <th>DEPRESSION</th>\n",
       "      <th>DIABETES</th>\n",
       "      <th>...</th>\n",
       "      <th>SMOKE_CIGARETT</th>\n",
       "      <th>DRINKING</th>\n",
       "      <th>BP</th>\n",
       "      <th>CHOLESTEROL</th>\n",
       "      <th>AGE</th>\n",
       "      <th>PREV_HEART_ATTACK</th>\n",
       "      <th>HEART_DISEASE_TARGET</th>\n",
       "      <th>HEART_STROKE</th>\n",
       "      <th>WORK_STATUS</th>\n",
       "      <th>MARIJUANA</th>\n",
       "    </tr>\n",
       "  </thead>\n",
       "  <tbody>\n",
       "    <tr>\n",
       "      <th>0</th>\n",
       "      <td>3</td>\n",
       "      <td>2.0</td>\n",
       "      <td>1.0</td>\n",
       "      <td>1.0</td>\n",
       "      <td>2.0</td>\n",
       "      <td>1.0</td>\n",
       "      <td>1.0</td>\n",
       "      <td>1.0</td>\n",
       "      <td>2.0</td>\n",
       "      <td>1.0</td>\n",
       "      <td>...</td>\n",
       "      <td>4.0</td>\n",
       "      <td>2.0</td>\n",
       "      <td>2.0</td>\n",
       "      <td>2.0</td>\n",
       "      <td>62.0</td>\n",
       "      <td>2.0</td>\n",
       "      <td>2.0</td>\n",
       "      <td>2.0</td>\n",
       "      <td>7.0</td>\n",
       "      <td>0.0</td>\n",
       "    </tr>\n",
       "    <tr>\n",
       "      <th>1</th>\n",
       "      <td>6</td>\n",
       "      <td>1.0</td>\n",
       "      <td>1.0</td>\n",
       "      <td>3.0</td>\n",
       "      <td>1.0</td>\n",
       "      <td>1.0</td>\n",
       "      <td>1.0</td>\n",
       "      <td>2.0</td>\n",
       "      <td>1.0</td>\n",
       "      <td>3.0</td>\n",
       "      <td>...</td>\n",
       "      <td>4.0</td>\n",
       "      <td>1.0</td>\n",
       "      <td>2.0</td>\n",
       "      <td>1.0</td>\n",
       "      <td>63.0</td>\n",
       "      <td>2.0</td>\n",
       "      <td>2.0</td>\n",
       "      <td>2.0</td>\n",
       "      <td>8.0</td>\n",
       "      <td>0.0</td>\n",
       "    </tr>\n",
       "    <tr>\n",
       "      <th>2</th>\n",
       "      <td>7</td>\n",
       "      <td>1.0</td>\n",
       "      <td>2.0</td>\n",
       "      <td>1.0</td>\n",
       "      <td>1.0</td>\n",
       "      <td>1.0</td>\n",
       "      <td>1.0</td>\n",
       "      <td>1.0</td>\n",
       "      <td>2.0</td>\n",
       "      <td>3.0</td>\n",
       "      <td>...</td>\n",
       "      <td>3.0</td>\n",
       "      <td>1.0</td>\n",
       "      <td>2.0</td>\n",
       "      <td>2.0</td>\n",
       "      <td>62.0</td>\n",
       "      <td>1.0</td>\n",
       "      <td>1.0</td>\n",
       "      <td>2.0</td>\n",
       "      <td>2.0</td>\n",
       "      <td>0.0</td>\n",
       "    </tr>\n",
       "    <tr>\n",
       "      <th>3</th>\n",
       "      <td>19</td>\n",
       "      <td>2.0</td>\n",
       "      <td>1.0</td>\n",
       "      <td>1.0</td>\n",
       "      <td>1.0</td>\n",
       "      <td>1.0</td>\n",
       "      <td>1.0</td>\n",
       "      <td>2.0</td>\n",
       "      <td>1.0</td>\n",
       "      <td>3.0</td>\n",
       "      <td>...</td>\n",
       "      <td>4.0</td>\n",
       "      <td>1.0</td>\n",
       "      <td>2.0</td>\n",
       "      <td>2.0</td>\n",
       "      <td>53.0</td>\n",
       "      <td>2.0</td>\n",
       "      <td>2.0</td>\n",
       "      <td>2.0</td>\n",
       "      <td>1.0</td>\n",
       "      <td>0.0</td>\n",
       "    </tr>\n",
       "    <tr>\n",
       "      <th>4</th>\n",
       "      <td>29</td>\n",
       "      <td>1.0</td>\n",
       "      <td>2.0</td>\n",
       "      <td>1.0</td>\n",
       "      <td>1.0</td>\n",
       "      <td>1.0</td>\n",
       "      <td>1.0</td>\n",
       "      <td>1.0</td>\n",
       "      <td>2.0</td>\n",
       "      <td>1.0</td>\n",
       "      <td>...</td>\n",
       "      <td>3.0</td>\n",
       "      <td>1.0</td>\n",
       "      <td>1.0</td>\n",
       "      <td>1.0</td>\n",
       "      <td>47.0</td>\n",
       "      <td>2.0</td>\n",
       "      <td>2.0</td>\n",
       "      <td>2.0</td>\n",
       "      <td>8.0</td>\n",
       "      <td>0.0</td>\n",
       "    </tr>\n",
       "  </tbody>\n",
       "</table>\n",
       "<p>5 rows × 25 columns</p>\n",
       "</div>"
      ],
      "text/plain": [
       "   Unnamed: 0  SEX  GENERAL_HEALTH  PHYSICAL_HEALTH  MENTAL_HEALTH_30  \\\n",
       "0           3  2.0             1.0              1.0               2.0   \n",
       "1           6  1.0             1.0              3.0               1.0   \n",
       "2           7  1.0             2.0              1.0               1.0   \n",
       "3          19  2.0             1.0              1.0               1.0   \n",
       "4          29  1.0             2.0              1.0               1.0   \n",
       "\n",
       "   HEALTH_PLAN  ROUTIN_CHECKUP  EXERCISE  DEPRESSION  DIABETES  ...  \\\n",
       "0          1.0             1.0       1.0         2.0       1.0  ...   \n",
       "1          1.0             1.0       2.0         1.0       3.0  ...   \n",
       "2          1.0             1.0       1.0         2.0       3.0  ...   \n",
       "3          1.0             1.0       2.0         1.0       3.0  ...   \n",
       "4          1.0             1.0       1.0         2.0       1.0  ...   \n",
       "\n",
       "   SMOKE_CIGARETT  DRINKING   BP  CHOLESTEROL   AGE  PREV_HEART_ATTACK  \\\n",
       "0             4.0       2.0  2.0          2.0  62.0                2.0   \n",
       "1             4.0       1.0  2.0          1.0  63.0                2.0   \n",
       "2             3.0       1.0  2.0          2.0  62.0                1.0   \n",
       "3             4.0       1.0  2.0          2.0  53.0                2.0   \n",
       "4             3.0       1.0  1.0          1.0  47.0                2.0   \n",
       "\n",
       "   HEART_DISEASE_TARGET  HEART_STROKE  WORK_STATUS  MARIJUANA  \n",
       "0                   2.0           2.0          7.0        0.0  \n",
       "1                   2.0           2.0          8.0        0.0  \n",
       "2                   1.0           2.0          2.0        0.0  \n",
       "3                   2.0           2.0          1.0        0.0  \n",
       "4                   2.0           2.0          8.0        0.0  \n",
       "\n",
       "[5 rows x 25 columns]"
      ]
     },
     "execution_count": 143,
     "metadata": {},
     "output_type": "execute_result"
    }
   ],
   "source": [
    "heart_df=pd.read_csv('cdc_1.csv')\n",
    "heart_df.head()"
   ]
  },
  {
   "cell_type": "markdown",
   "id": "dbfc1e4a",
   "metadata": {},
   "source": [
    "## Rename Values for Tableau"
   ]
  },
  {
   "cell_type": "code",
   "execution_count": 144,
   "id": "6096a500",
   "metadata": {},
   "outputs": [
    {
     "data": {
      "text/plain": [
       "Index(['Unnamed: 0', 'SEX', 'GENERAL_HEALTH', 'PHYSICAL_HEALTH',\n",
       "       'MENTAL_HEALTH_30', 'HEALTH_PLAN', 'ROUTIN_CHECKUP', 'EXERCISE',\n",
       "       'DEPRESSION', 'DIABETES', 'MARITAL_STATUS', 'EDUCATION', 'LAST_ASTHMA',\n",
       "       'BMI', 'CONCENTRATION_DIFF', 'SMOKE_CIGARETT', 'DRINKING', 'BP',\n",
       "       'CHOLESTEROL', 'AGE', 'PREV_HEART_ATTACK', 'HEART_DISEASE_TARGET',\n",
       "       'HEART_STROKE', 'WORK_STATUS', 'MARIJUANA'],\n",
       "      dtype='object')"
      ]
     },
     "execution_count": 144,
     "metadata": {},
     "output_type": "execute_result"
    }
   ],
   "source": [
    "heart_df.columns"
   ]
  },
  {
   "cell_type": "code",
   "execution_count": 145,
   "id": "b8063bb9",
   "metadata": {},
   "outputs": [],
   "source": [
    "tableau_df=heart_df.drop(columns=['Unnamed: 0']).copy()"
   ]
  },
  {
   "cell_type": "code",
   "execution_count": 146,
   "id": "cae91bc4",
   "metadata": {},
   "outputs": [
    {
     "name": "stdout",
     "output_type": "stream",
     "text": [
      "****************************************\n",
      "   SEX     \n",
      "2.0    91920\n",
      "1.0    85875\n",
      "Name: SEX, dtype: int64\n",
      "\n",
      "****************************************\n",
      "   GENERAL_HEALTH     \n",
      "1.0    153344\n",
      "2.0     24451\n",
      "Name: GENERAL_HEALTH, dtype: int64\n",
      "\n",
      "****************************************\n",
      "   PHYSICAL_HEALTH     \n",
      "1.0    118717\n",
      "2.0     40229\n",
      "3.0     18849\n",
      "Name: PHYSICAL_HEALTH, dtype: int64\n",
      "\n",
      "****************************************\n",
      "   MENTAL_HEALTH_30     \n",
      "1.0    99923\n",
      "2.0    51828\n",
      "3.0    26044\n",
      "Name: MENTAL_HEALTH_30, dtype: int64\n",
      "\n",
      "****************************************\n",
      "   HEALTH_PLAN     \n",
      "1.0    167317\n",
      "2.0     10478\n",
      "Name: HEALTH_PLAN, dtype: int64\n",
      "\n",
      "****************************************\n",
      "   ROUTIN_CHECKUP     \n",
      "1.0    134139\n",
      "2.0     24965\n",
      "3.0     11193\n",
      "4.0      7017\n",
      "8.0       481\n",
      "Name: ROUTIN_CHECKUP, dtype: int64\n",
      "\n",
      "****************************************\n",
      "   EXERCISE     \n",
      "1.0    142135\n",
      "2.0     35660\n",
      "Name: EXERCISE, dtype: int64\n",
      "\n",
      "****************************************\n",
      "   DEPRESSION     \n",
      "2.0    137253\n",
      "1.0     40542\n",
      "Name: DEPRESSION, dtype: int64\n",
      "\n",
      "****************************************\n",
      "   DIABETES     \n",
      "3.0    153598\n",
      "1.0     18587\n",
      "4.0      3600\n",
      "2.0      2010\n",
      "Name: DIABETES, dtype: int64\n",
      "\n",
      "****************************************\n",
      "   MARITAL_STATUS     \n",
      "1.0    102338\n",
      "5.0     34317\n",
      "2.0     23032\n",
      "6.0      8868\n",
      "3.0      5089\n",
      "4.0      4151\n",
      "Name: MARITAL_STATUS, dtype: int64\n",
      "\n",
      "****************************************\n",
      "   EDUCATION     \n",
      "4.0    81817\n",
      "3.0    48540\n",
      "2.0    39248\n",
      "1.0     8190\n",
      "Name: EDUCATION, dtype: int64\n",
      "\n",
      "****************************************\n",
      "   LAST_ASTHMA     \n",
      "1.0    150732\n",
      "2.0     27063\n",
      "Name: LAST_ASTHMA, dtype: int64\n",
      "\n",
      "****************************************\n",
      "   BMI     \n",
      "4.0    67628\n",
      "3.0    61391\n",
      "2.0    46786\n",
      "1.0     1990\n",
      "Name: BMI, dtype: int64\n",
      "\n",
      "****************************************\n",
      "   CONCENTRATION_DIFF     \n",
      "2.0    158076\n",
      "1.0     19719\n",
      "Name: CONCENTRATION_DIFF, dtype: int64\n",
      "\n",
      "****************************************\n",
      "   SMOKE_CIGARETT     \n",
      "4.0    110589\n",
      "3.0     41199\n",
      "1.0     18861\n",
      "2.0      7146\n",
      "Name: SMOKE_CIGARETT, dtype: int64\n",
      "\n",
      "****************************************\n",
      "   DRINKING     \n",
      "1.0    145808\n",
      "2.0     31987\n",
      "Name: DRINKING, dtype: int64\n",
      "\n",
      "****************************************\n",
      "   BP     \n",
      "1.0    121463\n",
      "2.0     56332\n",
      "Name: BP, dtype: int64\n",
      "\n",
      "****************************************\n",
      "   CHOLESTEROL     \n",
      "1.0    120500\n",
      "2.0     57295\n",
      "Name: CHOLESTEROL, dtype: int64\n",
      "\n",
      "****************************************\n",
      "   AGE     \n",
      "62.0    6844\n",
      "60.0    6795\n",
      "64.0    6709\n",
      "63.0    6525\n",
      "58.0    5964\n",
      "61.0    5922\n",
      "59.0    5868\n",
      "57.0    5560\n",
      "55.0    5529\n",
      "50.0    5443\n",
      "56.0    5296\n",
      "52.0    5136\n",
      "54.0    4882\n",
      "53.0    4807\n",
      "51.0    4641\n",
      "40.0    4494\n",
      "49.0    4219\n",
      "45.0    4161\n",
      "42.0    4153\n",
      "48.0    4083\n",
      "47.0    4049\n",
      "43.0    3888\n",
      "46.0    3851\n",
      "38.0    3806\n",
      "41.0    3723\n",
      "44.0    3721\n",
      "39.0    3676\n",
      "37.0    3520\n",
      "36.0    3395\n",
      "35.0    3389\n",
      "34.0    3119\n",
      "32.0    2988\n",
      "33.0    2918\n",
      "30.0    2809\n",
      "31.0    2601\n",
      "29.0    2317\n",
      "28.0    2257\n",
      "27.0    2052\n",
      "25.0    1939\n",
      "26.0    1850\n",
      "24.0    1683\n",
      "23.0    1614\n",
      "22.0    1447\n",
      "21.0    1309\n",
      "20.0    1116\n",
      "19.0     920\n",
      "18.0     807\n",
      "Name: AGE, dtype: int64\n",
      "\n",
      "****************************************\n",
      "   PREV_HEART_ATTACK     \n",
      "2.0    172368\n",
      "1.0      5427\n",
      "Name: PREV_HEART_ATTACK, dtype: int64\n",
      "\n",
      "****************************************\n",
      "   HEART_DISEASE_TARGET     \n",
      "2.0    169861\n",
      "1.0      7934\n",
      "Name: HEART_DISEASE_TARGET, dtype: int64\n",
      "\n",
      "****************************************\n",
      "   HEART_STROKE     \n",
      "2.0    173651\n",
      "1.0      4144\n",
      "Name: HEART_STROKE, dtype: int64\n",
      "\n",
      "****************************************\n",
      "   WORK_STATUS     \n",
      "1.0    112610\n",
      "2.0     18069\n",
      "8.0     12677\n",
      "7.0     12047\n",
      "5.0      7577\n",
      "3.0      5628\n",
      "4.0      4986\n",
      "6.0      4201\n",
      "Name: WORK_STATUS, dtype: int64\n",
      "\n",
      "****************************************\n",
      "   MARIJUANA     \n",
      "0.0     170845\n",
      "30.0      2659\n",
      "2.0        645\n",
      "1.0        640\n",
      "5.0        416\n",
      "20.0       411\n",
      "10.0       408\n",
      "15.0       349\n",
      "3.0        336\n",
      "4.0        283\n",
      "25.0       172\n",
      "8.0        115\n",
      "7.0         94\n",
      "6.0         93\n",
      "12.0        87\n",
      "28.0        59\n",
      "14.0        46\n",
      "29.0        35\n",
      "16.0        26\n",
      "27.0        13\n",
      "24.0        10\n",
      "21.0         9\n",
      "17.0         7\n",
      "18.0         7\n",
      "11.0         6\n",
      "22.0         6\n",
      "26.0         6\n",
      "23.0         6\n",
      "9.0          4\n",
      "19.0         1\n",
      "13.0         1\n",
      "Name: MARIJUANA, dtype: int64\n",
      "\n"
     ]
    }
   ],
   "source": [
    "for x in tableau_df.columns:\n",
    "    print('*'*40)\n",
    "    print (f'   {x}     ')\n",
    "    print(tableau_df[x].value_counts())\n",
    "    print('')"
   ]
  },
  {
   "cell_type": "code",
   "execution_count": 147,
   "id": "b60f4144",
   "metadata": {},
   "outputs": [
    {
     "data": {
      "text/plain": [
       "Female    91920\n",
       "Male      85875\n",
       "Name: SEX, dtype: int64"
      ]
     },
     "execution_count": 147,
     "metadata": {},
     "output_type": "execute_result"
    }
   ],
   "source": [
    "tableau_df['SEX'].replace(to_replace=[1,2],\n",
    "           value=['Male','Female'],inplace=True)\n",
    "tableau_df['SEX'].value_counts()"
   ]
  },
  {
   "cell_type": "code",
   "execution_count": 148,
   "id": "2bfc82a1",
   "metadata": {},
   "outputs": [
    {
     "data": {
      "text/plain": [
       "Good         153344\n",
       "Fair/Poor     24451\n",
       "Name: GENERAL_HEALTH, dtype: int64"
      ]
     },
     "execution_count": 148,
     "metadata": {},
     "output_type": "execute_result"
    }
   ],
   "source": [
    "tableau_df['GENERAL_HEALTH'].replace(to_replace=[1,2],\n",
    "           value=['Good','Fair/Poor'],inplace=True)\n",
    "tableau_df['GENERAL_HEALTH'].value_counts()"
   ]
  },
  {
   "cell_type": "code",
   "execution_count": 149,
   "id": "3a56c912",
   "metadata": {},
   "outputs": [
    {
     "data": {
      "text/plain": [
       "Good        118717\n",
       "Fair         40229\n",
       "Not Good     18849\n",
       "Name: PHYSICAL_HEALTH, dtype: int64"
      ]
     },
     "execution_count": 149,
     "metadata": {},
     "output_type": "execute_result"
    }
   ],
   "source": [
    "tableau_df['PHYSICAL_HEALTH'].replace(to_replace=[1,2,3],\n",
    "           value=['Good','Fair', 'Not Good'],inplace=True)\n",
    "tableau_df['PHYSICAL_HEALTH'].value_counts()"
   ]
  },
  {
   "cell_type": "code",
   "execution_count": 150,
   "id": "61df1172",
   "metadata": {},
   "outputs": [
    {
     "data": {
      "text/plain": [
       "Good        99923\n",
       "Fair        51828\n",
       "Not Good    26044\n",
       "Name: MENTAL_HEALTH_30, dtype: int64"
      ]
     },
     "execution_count": 150,
     "metadata": {},
     "output_type": "execute_result"
    }
   ],
   "source": [
    "tableau_df['MENTAL_HEALTH_30'].replace(to_replace=[1,2,3],\n",
    "           value=['Good','Fair', 'Not Good'],inplace=True)\n",
    "tableau_df['MENTAL_HEALTH_30'].value_counts()"
   ]
  },
  {
   "cell_type": "code",
   "execution_count": 151,
   "id": "e028bbdc",
   "metadata": {},
   "outputs": [
    {
     "data": {
      "text/plain": [
       "Yes    167317\n",
       "No      10478\n",
       "Name: HEALTH_PLAN, dtype: int64"
      ]
     },
     "execution_count": 151,
     "metadata": {},
     "output_type": "execute_result"
    }
   ],
   "source": [
    "tableau_df['HEALTH_PLAN'].replace(to_replace=[1,2],\n",
    "           value=['Yes', 'No'],inplace=True)\n",
    "tableau_df['HEALTH_PLAN'].value_counts()"
   ]
  },
  {
   "cell_type": "code",
   "execution_count": 152,
   "id": "fc60d4f0",
   "metadata": {},
   "outputs": [
    {
     "data": {
      "text/plain": [
       "year<1      134139\n",
       "1<year<2     24965\n",
       "2<year<5     11193\n",
       "year>5        7017\n",
       "never          481\n",
       "Name: ROUTIN_CHECKUP, dtype: int64"
      ]
     },
     "execution_count": 152,
     "metadata": {},
     "output_type": "execute_result"
    }
   ],
   "source": [
    "tableau_df['ROUTIN_CHECKUP'].replace(to_replace=[1,2,3,4,8],\n",
    "           value=['year<1','1<year<2', '2<year<5','year>5','never'],inplace=True)\n",
    "tableau_df['ROUTIN_CHECKUP'].value_counts()"
   ]
  },
  {
   "cell_type": "code",
   "execution_count": 153,
   "id": "d2c187e4",
   "metadata": {},
   "outputs": [
    {
     "data": {
      "text/plain": [
       "Yes    142135\n",
       "No      35660\n",
       "Name: EXERCISE, dtype: int64"
      ]
     },
     "execution_count": 153,
     "metadata": {},
     "output_type": "execute_result"
    }
   ],
   "source": [
    "tableau_df['EXERCISE'].replace(to_replace=[1,2],\n",
    "           value=['Yes','No'],inplace=True)\n",
    "tableau_df['EXERCISE'].value_counts()"
   ]
  },
  {
   "cell_type": "code",
   "execution_count": 154,
   "id": "5e78be5e",
   "metadata": {},
   "outputs": [
    {
     "data": {
      "text/plain": [
       "No     137253\n",
       "Yes     40542\n",
       "Name: DEPRESSION, dtype: int64"
      ]
     },
     "execution_count": 154,
     "metadata": {},
     "output_type": "execute_result"
    }
   ],
   "source": [
    "tableau_df['DEPRESSION'].replace(to_replace=[1,2],\n",
    "           value=['Yes','No'],inplace=True)\n",
    "tableau_df['DEPRESSION'].value_counts()"
   ]
  },
  {
   "cell_type": "code",
   "execution_count": 155,
   "id": "8a7573a9",
   "metadata": {},
   "outputs": [
    {
     "data": {
      "text/plain": [
       "No             153598\n",
       "Yes             18587\n",
       "Borderline       3600\n",
       "Gestational      2010\n",
       "Name: DIABETES, dtype: int64"
      ]
     },
     "execution_count": 155,
     "metadata": {},
     "output_type": "execute_result"
    }
   ],
   "source": [
    "tableau_df['DIABETES'].replace(to_replace=[1,2,3,4],\n",
    "           value=['Yes','Gestational', 'No','Borderline'],inplace=True)\n",
    "tableau_df['DIABETES'].value_counts()"
   ]
  },
  {
   "cell_type": "code",
   "execution_count": 156,
   "id": "e3315344",
   "metadata": {},
   "outputs": [
    {
     "data": {
      "text/plain": [
       "Married        102338\n",
       "Not Married     43185\n",
       "Divorced        23032\n",
       "Widowed          5089\n",
       "Separated        4151\n",
       "Name: MARITAL_STATUS, dtype: int64"
      ]
     },
     "execution_count": 156,
     "metadata": {},
     "output_type": "execute_result"
    }
   ],
   "source": [
    "tableau_df['MARITAL_STATUS'].replace(to_replace=[1,2,3,4,5,6],\n",
    "           value=['Married', 'Divorced','Widowed','Separated','Not Married','Not Married'],inplace=True)\n",
    "tableau_df['MARITAL_STATUS'].value_counts()"
   ]
  },
  {
   "cell_type": "code",
   "execution_count": 157,
   "id": "fc1bacb1",
   "metadata": {},
   "outputs": [
    {
     "data": {
      "text/plain": [
       "College Degree            81817\n",
       "Attended College          48540\n",
       "High School Diploma       39248\n",
       "No High School Diploma     8190\n",
       "Name: EDUCATION, dtype: int64"
      ]
     },
     "execution_count": 157,
     "metadata": {},
     "output_type": "execute_result"
    }
   ],
   "source": [
    "tableau_df['EDUCATION'].replace(to_replace=[1,2,3,4],\n",
    "           value=['No High School Diploma','High School Diploma', 'Attended College','College Degree'],inplace=True)\n",
    "tableau_df['EDUCATION'].value_counts()"
   ]
  },
  {
   "cell_type": "code",
   "execution_count": 158,
   "id": "2b047b00",
   "metadata": {},
   "outputs": [
    {
     "data": {
      "text/plain": [
       "No     150732\n",
       "Yes     27063\n",
       "Name: LAST_ASTHMA, dtype: int64"
      ]
     },
     "execution_count": 158,
     "metadata": {},
     "output_type": "execute_result"
    }
   ],
   "source": [
    "tableau_df['LAST_ASTHMA'].replace(to_replace=[1,2],\n",
    "           value=['No','Yes'],inplace=True)\n",
    "tableau_df['LAST_ASTHMA'].value_counts()"
   ]
  },
  {
   "cell_type": "code",
   "execution_count": 159,
   "id": "fbc2cb05",
   "metadata": {},
   "outputs": [
    {
     "data": {
      "text/plain": [
       "Employed                          112610\n",
       "Self-employed                      18069\n",
       "Unable to work                     12677\n",
       "Retired                            12047\n",
       "Homemaker                           7577\n",
       "Out of work (more than a year)      5628\n",
       "Out of work (less than a year)      4986\n",
       "Student                             4201\n",
       "Name: WORK_STATUS, dtype: int64"
      ]
     },
     "execution_count": 159,
     "metadata": {},
     "output_type": "execute_result"
    }
   ],
   "source": [
    "tableau_df['WORK_STATUS'].replace(to_replace=[1,2,3,4,5,6,7,8],\n",
    "           value=['Employed','Self-employed','Out of work (more than a year)',\n",
    "                  'Out of work (less than a year)','Homemaker','Student','Retired','Unable to work'],inplace=True)\n",
    "tableau_df['WORK_STATUS'].value_counts()"
   ]
  },
  {
   "cell_type": "code",
   "execution_count": 160,
   "id": "67c051e8",
   "metadata": {},
   "outputs": [
    {
     "data": {
      "text/plain": [
       "Obese           67628\n",
       "Over Weight     61391\n",
       "Normal          46786\n",
       "Under Weight     1990\n",
       "Name: BMI, dtype: int64"
      ]
     },
     "execution_count": 160,
     "metadata": {},
     "output_type": "execute_result"
    }
   ],
   "source": [
    "tableau_df['BMI'].replace(to_replace=[1,2,3,4],\n",
    "           value=['Under Weight','Normal', 'Over Weight','Obese'],inplace=True)\n",
    "tableau_df['BMI'].value_counts()"
   ]
  },
  {
   "cell_type": "code",
   "execution_count": 161,
   "id": "5a5e0572",
   "metadata": {},
   "outputs": [
    {
     "data": {
      "text/plain": [
       "Never       110589\n",
       "Past         41199\n",
       "Everyday     18861\n",
       "Somedays      7146\n",
       "Name: SMOKE_CIGARETT, dtype: int64"
      ]
     },
     "execution_count": 161,
     "metadata": {},
     "output_type": "execute_result"
    }
   ],
   "source": [
    "tableau_df['SMOKE_CIGARETT'].replace(to_replace=[1,2,3,4],\n",
    "           value=['Everyday','Somedays','Past','Never'],inplace=True)\n",
    "tableau_df['SMOKE_CIGARETT'].value_counts()"
   ]
  },
  {
   "cell_type": "code",
   "execution_count": 162,
   "id": "7fb78d76",
   "metadata": {},
   "outputs": [
    {
     "data": {
      "text/plain": [
       "No     158076\n",
       "Yes     19719\n",
       "Name: CONCENTRATION_DIFF, dtype: int64"
      ]
     },
     "execution_count": 162,
     "metadata": {},
     "output_type": "execute_result"
    }
   ],
   "source": [
    "tableau_df['CONCENTRATION_DIFF'].replace(to_replace=[1,2],\n",
    "           value=['Yes','No'],inplace=True)\n",
    "tableau_df['CONCENTRATION_DIFF'].value_counts()"
   ]
  },
  {
   "cell_type": "code",
   "execution_count": 163,
   "id": "5644d63c",
   "metadata": {},
   "outputs": [
    {
     "data": {
      "text/plain": [
       "No     145808\n",
       "Yes     31987\n",
       "Name: DRINKING, dtype: int64"
      ]
     },
     "execution_count": 163,
     "metadata": {},
     "output_type": "execute_result"
    }
   ],
   "source": [
    "tableau_df['DRINKING'].replace(to_replace=[1,2],\n",
    "           value=['No','Yes'],inplace=True)\n",
    "tableau_df['DRINKING'].value_counts()"
   ]
  },
  {
   "cell_type": "code",
   "execution_count": 164,
   "id": "9d8ccddf",
   "metadata": {},
   "outputs": [
    {
     "data": {
      "text/plain": [
       "No     121463\n",
       "Yes     56332\n",
       "Name: BP, dtype: int64"
      ]
     },
     "execution_count": 164,
     "metadata": {},
     "output_type": "execute_result"
    }
   ],
   "source": [
    "tableau_df['BP'].replace(to_replace=[1,2],\n",
    "           value=['No','Yes'],inplace=True)\n",
    "tableau_df['BP'].value_counts()"
   ]
  },
  {
   "cell_type": "code",
   "execution_count": 165,
   "id": "6a74536a",
   "metadata": {},
   "outputs": [
    {
     "data": {
      "text/plain": [
       "No     120500\n",
       "Yes     57295\n",
       "Name: CHOLESTEROL, dtype: int64"
      ]
     },
     "execution_count": 165,
     "metadata": {},
     "output_type": "execute_result"
    }
   ],
   "source": [
    "tableau_df['CHOLESTEROL'].replace(to_replace=[1,2],\n",
    "           value=['No','Yes'],inplace=True)\n",
    "tableau_df['CHOLESTEROL'].value_counts()"
   ]
  },
  {
   "cell_type": "code",
   "execution_count": 166,
   "id": "64c7cbde",
   "metadata": {},
   "outputs": [
    {
     "data": {
      "text/plain": [
       "62.0    6844\n",
       "60.0    6795\n",
       "64.0    6709\n",
       "63.0    6525\n",
       "58.0    5964\n",
       "61.0    5922\n",
       "59.0    5868\n",
       "57.0    5560\n",
       "55.0    5529\n",
       "50.0    5443\n",
       "56.0    5296\n",
       "52.0    5136\n",
       "54.0    4882\n",
       "53.0    4807\n",
       "51.0    4641\n",
       "40.0    4494\n",
       "49.0    4219\n",
       "45.0    4161\n",
       "42.0    4153\n",
       "48.0    4083\n",
       "47.0    4049\n",
       "43.0    3888\n",
       "46.0    3851\n",
       "38.0    3806\n",
       "41.0    3723\n",
       "44.0    3721\n",
       "39.0    3676\n",
       "37.0    3520\n",
       "36.0    3395\n",
       "35.0    3389\n",
       "34.0    3119\n",
       "32.0    2988\n",
       "33.0    2918\n",
       "30.0    2809\n",
       "31.0    2601\n",
       "29.0    2317\n",
       "28.0    2257\n",
       "27.0    2052\n",
       "25.0    1939\n",
       "26.0    1850\n",
       "24.0    1683\n",
       "23.0    1614\n",
       "22.0    1447\n",
       "21.0    1309\n",
       "20.0    1116\n",
       "19.0     920\n",
       "18.0     807\n",
       "Name: AGE, dtype: int64"
      ]
     },
     "execution_count": 166,
     "metadata": {},
     "output_type": "execute_result"
    }
   ],
   "source": [
    "tableau_df['AGE'].value_counts()"
   ]
  },
  {
   "cell_type": "code",
   "execution_count": 167,
   "id": "b0503b6e",
   "metadata": {},
   "outputs": [
    {
     "data": {
      "text/plain": [
       "No     172368\n",
       "Yes      5427\n",
       "Name: PREV_HEART_ATTACK, dtype: int64"
      ]
     },
     "execution_count": 167,
     "metadata": {},
     "output_type": "execute_result"
    }
   ],
   "source": [
    "tableau_df['PREV_HEART_ATTACK'].replace(to_replace=[1,2],\n",
    "           value=['Yes', 'No'],inplace=True)\n",
    "tableau_df['PREV_HEART_ATTACK'].value_counts()"
   ]
  },
  {
   "cell_type": "code",
   "execution_count": 168,
   "id": "4ffaaecd",
   "metadata": {},
   "outputs": [
    {
     "data": {
      "text/plain": [
       "No     169861\n",
       "Yes      7934\n",
       "Name: HEART_DISEASE_TARGET, dtype: int64"
      ]
     },
     "execution_count": 168,
     "metadata": {},
     "output_type": "execute_result"
    }
   ],
   "source": [
    "tableau_df['HEART_DISEASE_TARGET'].replace(to_replace=[1,2],\n",
    "           value=['Yes', 'No'],inplace=True)\n",
    "tableau_df['HEART_DISEASE_TARGET'].value_counts()"
   ]
  },
  {
   "cell_type": "code",
   "execution_count": 169,
   "id": "1b5525ef",
   "metadata": {},
   "outputs": [
    {
     "data": {
      "text/plain": [
       "No     173651\n",
       "Yes      4144\n",
       "Name: HEART_STROKE, dtype: int64"
      ]
     },
     "execution_count": 169,
     "metadata": {},
     "output_type": "execute_result"
    }
   ],
   "source": [
    "tableau_df['HEART_STROKE'].replace(to_replace=[1,2],\n",
    "           value=['Yes', 'No'],inplace=True)\n",
    "tableau_df['HEART_STROKE'].value_counts()"
   ]
  },
  {
   "cell_type": "code",
   "execution_count": 170,
   "id": "970364ff",
   "metadata": {},
   "outputs": [
    {
     "name": "stdout",
     "output_type": "stream",
     "text": [
      "****************************************\n",
      "   SEX     \n",
      "Female    91920\n",
      "Male      85875\n",
      "Name: SEX, dtype: int64\n",
      "\n",
      "****************************************\n",
      "   GENERAL_HEALTH     \n",
      "Good         153344\n",
      "Fair/Poor     24451\n",
      "Name: GENERAL_HEALTH, dtype: int64\n",
      "\n",
      "****************************************\n",
      "   PHYSICAL_HEALTH     \n",
      "Good        118717\n",
      "Fair         40229\n",
      "Not Good     18849\n",
      "Name: PHYSICAL_HEALTH, dtype: int64\n",
      "\n",
      "****************************************\n",
      "   MENTAL_HEALTH_30     \n",
      "Good        99923\n",
      "Fair        51828\n",
      "Not Good    26044\n",
      "Name: MENTAL_HEALTH_30, dtype: int64\n",
      "\n",
      "****************************************\n",
      "   HEALTH_PLAN     \n",
      "Yes    167317\n",
      "No      10478\n",
      "Name: HEALTH_PLAN, dtype: int64\n",
      "\n",
      "****************************************\n",
      "   ROUTIN_CHECKUP     \n",
      "year<1      134139\n",
      "1<year<2     24965\n",
      "2<year<5     11193\n",
      "year>5        7017\n",
      "never          481\n",
      "Name: ROUTIN_CHECKUP, dtype: int64\n",
      "\n",
      "****************************************\n",
      "   EXERCISE     \n",
      "Yes    142135\n",
      "No      35660\n",
      "Name: EXERCISE, dtype: int64\n",
      "\n",
      "****************************************\n",
      "   DEPRESSION     \n",
      "No     137253\n",
      "Yes     40542\n",
      "Name: DEPRESSION, dtype: int64\n",
      "\n",
      "****************************************\n",
      "   DIABETES     \n",
      "No             153598\n",
      "Yes             18587\n",
      "Borderline       3600\n",
      "Gestational      2010\n",
      "Name: DIABETES, dtype: int64\n",
      "\n",
      "****************************************\n",
      "   MARITAL_STATUS     \n",
      "Married        102338\n",
      "Not Married     43185\n",
      "Divorced        23032\n",
      "Widowed          5089\n",
      "Separated        4151\n",
      "Name: MARITAL_STATUS, dtype: int64\n",
      "\n",
      "****************************************\n",
      "   EDUCATION     \n",
      "College Degree            81817\n",
      "Attended College          48540\n",
      "High School Diploma       39248\n",
      "No High School Diploma     8190\n",
      "Name: EDUCATION, dtype: int64\n",
      "\n",
      "****************************************\n",
      "   LAST_ASTHMA     \n",
      "No     150732\n",
      "Yes     27063\n",
      "Name: LAST_ASTHMA, dtype: int64\n",
      "\n",
      "****************************************\n",
      "   BMI     \n",
      "Obese           67628\n",
      "Over Weight     61391\n",
      "Normal          46786\n",
      "Under Weight     1990\n",
      "Name: BMI, dtype: int64\n",
      "\n",
      "****************************************\n",
      "   CONCENTRATION_DIFF     \n",
      "No     158076\n",
      "Yes     19719\n",
      "Name: CONCENTRATION_DIFF, dtype: int64\n",
      "\n",
      "****************************************\n",
      "   SMOKE_CIGARETT     \n",
      "Never       110589\n",
      "Past         41199\n",
      "Everyday     18861\n",
      "Somedays      7146\n",
      "Name: SMOKE_CIGARETT, dtype: int64\n",
      "\n",
      "****************************************\n",
      "   DRINKING     \n",
      "No     145808\n",
      "Yes     31987\n",
      "Name: DRINKING, dtype: int64\n",
      "\n",
      "****************************************\n",
      "   BP     \n",
      "No     121463\n",
      "Yes     56332\n",
      "Name: BP, dtype: int64\n",
      "\n",
      "****************************************\n",
      "   CHOLESTEROL     \n",
      "No     120500\n",
      "Yes     57295\n",
      "Name: CHOLESTEROL, dtype: int64\n",
      "\n",
      "****************************************\n",
      "   AGE     \n",
      "62.0    6844\n",
      "60.0    6795\n",
      "64.0    6709\n",
      "63.0    6525\n",
      "58.0    5964\n",
      "61.0    5922\n",
      "59.0    5868\n",
      "57.0    5560\n",
      "55.0    5529\n",
      "50.0    5443\n",
      "56.0    5296\n",
      "52.0    5136\n",
      "54.0    4882\n",
      "53.0    4807\n",
      "51.0    4641\n",
      "40.0    4494\n",
      "49.0    4219\n",
      "45.0    4161\n",
      "42.0    4153\n",
      "48.0    4083\n",
      "47.0    4049\n",
      "43.0    3888\n",
      "46.0    3851\n",
      "38.0    3806\n",
      "41.0    3723\n",
      "44.0    3721\n",
      "39.0    3676\n",
      "37.0    3520\n",
      "36.0    3395\n",
      "35.0    3389\n",
      "34.0    3119\n",
      "32.0    2988\n",
      "33.0    2918\n",
      "30.0    2809\n",
      "31.0    2601\n",
      "29.0    2317\n",
      "28.0    2257\n",
      "27.0    2052\n",
      "25.0    1939\n",
      "26.0    1850\n",
      "24.0    1683\n",
      "23.0    1614\n",
      "22.0    1447\n",
      "21.0    1309\n",
      "20.0    1116\n",
      "19.0     920\n",
      "18.0     807\n",
      "Name: AGE, dtype: int64\n",
      "\n",
      "****************************************\n",
      "   PREV_HEART_ATTACK     \n",
      "No     172368\n",
      "Yes      5427\n",
      "Name: PREV_HEART_ATTACK, dtype: int64\n",
      "\n",
      "****************************************\n",
      "   HEART_DISEASE_TARGET     \n",
      "No     169861\n",
      "Yes      7934\n",
      "Name: HEART_DISEASE_TARGET, dtype: int64\n",
      "\n",
      "****************************************\n",
      "   HEART_STROKE     \n",
      "No     173651\n",
      "Yes      4144\n",
      "Name: HEART_STROKE, dtype: int64\n",
      "\n",
      "****************************************\n",
      "   WORK_STATUS     \n",
      "Employed                          112610\n",
      "Self-employed                      18069\n",
      "Unable to work                     12677\n",
      "Retired                            12047\n",
      "Homemaker                           7577\n",
      "Out of work (more than a year)      5628\n",
      "Out of work (less than a year)      4986\n",
      "Student                             4201\n",
      "Name: WORK_STATUS, dtype: int64\n",
      "\n",
      "****************************************\n",
      "   MARIJUANA     \n",
      "0.0     170845\n",
      "30.0      2659\n",
      "2.0        645\n",
      "1.0        640\n",
      "5.0        416\n",
      "20.0       411\n",
      "10.0       408\n",
      "15.0       349\n",
      "3.0        336\n",
      "4.0        283\n",
      "25.0       172\n",
      "8.0        115\n",
      "7.0         94\n",
      "6.0         93\n",
      "12.0        87\n",
      "28.0        59\n",
      "14.0        46\n",
      "29.0        35\n",
      "16.0        26\n",
      "27.0        13\n",
      "24.0        10\n",
      "21.0         9\n",
      "17.0         7\n",
      "18.0         7\n",
      "11.0         6\n",
      "22.0         6\n",
      "26.0         6\n",
      "23.0         6\n",
      "9.0          4\n",
      "19.0         1\n",
      "13.0         1\n",
      "Name: MARIJUANA, dtype: int64\n",
      "\n"
     ]
    }
   ],
   "source": [
    "for x in tableau_df.columns:\n",
    "    print('*'*40)\n",
    "    print (f'   {x}     ')\n",
    "    print(tableau_df[x].value_counts())\n",
    "    print('')"
   ]
  },
  {
   "cell_type": "code",
   "execution_count": 171,
   "id": "8321bdca",
   "metadata": {},
   "outputs": [
    {
     "name": "stdout",
     "output_type": "stream",
     "text": [
      "Completed..\n"
     ]
    }
   ],
   "source": [
    "tableau_df.to_csv('tableau_data.csv')\n",
    "print('Completed..')"
   ]
  }
 ],
 "metadata": {
  "kernelspec": {
   "display_name": "PythonData",
   "language": "python",
   "name": "pythondata"
  },
  "language_info": {
   "codemirror_mode": {
    "name": "ipython",
    "version": 3
   },
   "file_extension": ".py",
   "mimetype": "text/x-python",
   "name": "python",
   "nbconvert_exporter": "python",
   "pygments_lexer": "ipython3",
   "version": "3.9.15"
  }
 },
 "nbformat": 4,
 "nbformat_minor": 5
}
