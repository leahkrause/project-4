{
 "cells": [
  {
   "cell_type": "code",
   "execution_count": 50,
   "id": "0286cbaa",
   "metadata": {},
   "outputs": [],
   "source": [
    "import numpy as np\n",
    "import pandas as pd\n",
    "import seaborn as sns\n",
    "import matplotlib.pyplot as plt\n",
    "from sklearn.preprocessing import StandardScaler\n",
    "from sklearn.model_selection import train_test_split\n",
    "from sklearn.linear_model import LogisticRegression\n",
    "from imblearn.over_sampling import RandomOverSampler\n",
    "from sklearn.metrics import confusion_matrix, accuracy_score, classification_report"
   ]
  },
  {
   "cell_type": "code",
   "execution_count": 81,
   "id": "5a3c5e8d",
   "metadata": {},
   "outputs": [
    {
     "data": {
      "text/html": [
       "<div>\n",
       "<style scoped>\n",
       "    .dataframe tbody tr th:only-of-type {\n",
       "        vertical-align: middle;\n",
       "    }\n",
       "\n",
       "    .dataframe tbody tr th {\n",
       "        vertical-align: top;\n",
       "    }\n",
       "\n",
       "    .dataframe thead th {\n",
       "        text-align: right;\n",
       "    }\n",
       "</style>\n",
       "<table border=\"1\" class=\"dataframe\">\n",
       "  <thead>\n",
       "    <tr style=\"text-align: right;\">\n",
       "      <th></th>\n",
       "      <th>Unnamed: 0</th>\n",
       "      <th>SEX</th>\n",
       "      <th>GENERAL_HEALTH</th>\n",
       "      <th>PHYSICAL_HEALTH</th>\n",
       "      <th>MENTAL_HEALTH_30</th>\n",
       "      <th>HEALTH_PLAN</th>\n",
       "      <th>ROUTIN_CHECKUP</th>\n",
       "      <th>EXERCISE</th>\n",
       "      <th>DEPRESSION</th>\n",
       "      <th>DIABETES</th>\n",
       "      <th>...</th>\n",
       "      <th>CONCENTRATION_DIFF</th>\n",
       "      <th>SMOKE_CIGARETT</th>\n",
       "      <th>DRINKING</th>\n",
       "      <th>BP</th>\n",
       "      <th>CHOLESTEROL</th>\n",
       "      <th>AGE</th>\n",
       "      <th>PREV_HEART_ATTACK</th>\n",
       "      <th>HEART_DISEASE_TARGET</th>\n",
       "      <th>HEART_STROKE</th>\n",
       "      <th>MARIJUANA</th>\n",
       "    </tr>\n",
       "  </thead>\n",
       "  <tbody>\n",
       "    <tr>\n",
       "      <th>0</th>\n",
       "      <td>0</td>\n",
       "      <td>2.0</td>\n",
       "      <td>2.0</td>\n",
       "      <td>3.0</td>\n",
       "      <td>2.0</td>\n",
       "      <td>9.0</td>\n",
       "      <td>2.0</td>\n",
       "      <td>2.0</td>\n",
       "      <td>2.0</td>\n",
       "      <td>3.0</td>\n",
       "      <td>...</td>\n",
       "      <td>2.0</td>\n",
       "      <td>3.0</td>\n",
       "      <td>1.0</td>\n",
       "      <td>1.0</td>\n",
       "      <td>2.0</td>\n",
       "      <td>70.0</td>\n",
       "      <td>2.0</td>\n",
       "      <td>2.0</td>\n",
       "      <td>2.0</td>\n",
       "      <td>0.0</td>\n",
       "    </tr>\n",
       "    <tr>\n",
       "      <th>1</th>\n",
       "      <td>2</td>\n",
       "      <td>2.0</td>\n",
       "      <td>1.0</td>\n",
       "      <td>1.0</td>\n",
       "      <td>1.0</td>\n",
       "      <td>9.0</td>\n",
       "      <td>1.0</td>\n",
       "      <td>2.0</td>\n",
       "      <td>2.0</td>\n",
       "      <td>1.0</td>\n",
       "      <td>...</td>\n",
       "      <td>2.0</td>\n",
       "      <td>4.0</td>\n",
       "      <td>1.0</td>\n",
       "      <td>2.0</td>\n",
       "      <td>1.0</td>\n",
       "      <td>72.0</td>\n",
       "      <td>2.0</td>\n",
       "      <td>1.0</td>\n",
       "      <td>2.0</td>\n",
       "      <td>0.0</td>\n",
       "    </tr>\n",
       "    <tr>\n",
       "      <th>2</th>\n",
       "      <td>3</td>\n",
       "      <td>2.0</td>\n",
       "      <td>1.0</td>\n",
       "      <td>1.0</td>\n",
       "      <td>2.0</td>\n",
       "      <td>1.0</td>\n",
       "      <td>1.0</td>\n",
       "      <td>1.0</td>\n",
       "      <td>2.0</td>\n",
       "      <td>1.0</td>\n",
       "      <td>...</td>\n",
       "      <td>2.0</td>\n",
       "      <td>4.0</td>\n",
       "      <td>2.0</td>\n",
       "      <td>2.0</td>\n",
       "      <td>2.0</td>\n",
       "      <td>62.0</td>\n",
       "      <td>2.0</td>\n",
       "      <td>2.0</td>\n",
       "      <td>2.0</td>\n",
       "      <td>0.0</td>\n",
       "    </tr>\n",
       "    <tr>\n",
       "      <th>3</th>\n",
       "      <td>4</td>\n",
       "      <td>1.0</td>\n",
       "      <td>2.0</td>\n",
       "      <td>3.0</td>\n",
       "      <td>1.0</td>\n",
       "      <td>9.0</td>\n",
       "      <td>1.0</td>\n",
       "      <td>1.0</td>\n",
       "      <td>2.0</td>\n",
       "      <td>1.0</td>\n",
       "      <td>...</td>\n",
       "      <td>2.0</td>\n",
       "      <td>4.0</td>\n",
       "      <td>1.0</td>\n",
       "      <td>1.0</td>\n",
       "      <td>2.0</td>\n",
       "      <td>76.0</td>\n",
       "      <td>1.0</td>\n",
       "      <td>1.0</td>\n",
       "      <td>1.0</td>\n",
       "      <td>0.0</td>\n",
       "    </tr>\n",
       "    <tr>\n",
       "      <th>4</th>\n",
       "      <td>5</td>\n",
       "      <td>1.0</td>\n",
       "      <td>1.0</td>\n",
       "      <td>1.0</td>\n",
       "      <td>1.0</td>\n",
       "      <td>9.0</td>\n",
       "      <td>1.0</td>\n",
       "      <td>2.0</td>\n",
       "      <td>2.0</td>\n",
       "      <td>3.0</td>\n",
       "      <td>...</td>\n",
       "      <td>2.0</td>\n",
       "      <td>3.0</td>\n",
       "      <td>1.0</td>\n",
       "      <td>1.0</td>\n",
       "      <td>1.0</td>\n",
       "      <td>80.0</td>\n",
       "      <td>2.0</td>\n",
       "      <td>2.0</td>\n",
       "      <td>2.0</td>\n",
       "      <td>0.0</td>\n",
       "    </tr>\n",
       "  </tbody>\n",
       "</table>\n",
       "<p>5 rows × 25 columns</p>\n",
       "</div>"
      ],
      "text/plain": [
       "   Unnamed: 0  SEX  GENERAL_HEALTH  PHYSICAL_HEALTH  MENTAL_HEALTH_30  \\\n",
       "0           0  2.0             2.0              3.0               2.0   \n",
       "1           2  2.0             1.0              1.0               1.0   \n",
       "2           3  2.0             1.0              1.0               2.0   \n",
       "3           4  1.0             2.0              3.0               1.0   \n",
       "4           5  1.0             1.0              1.0               1.0   \n",
       "\n",
       "   HEALTH_PLAN  ROUTIN_CHECKUP  EXERCISE  DEPRESSION  DIABETES  ...  \\\n",
       "0          9.0             2.0       2.0         2.0       3.0  ...   \n",
       "1          9.0             1.0       2.0         2.0       1.0  ...   \n",
       "2          1.0             1.0       1.0         2.0       1.0  ...   \n",
       "3          9.0             1.0       1.0         2.0       1.0  ...   \n",
       "4          9.0             1.0       2.0         2.0       3.0  ...   \n",
       "\n",
       "   CONCENTRATION_DIFF  SMOKE_CIGARETT  DRINKING   BP  CHOLESTEROL   AGE  \\\n",
       "0                 2.0             3.0       1.0  1.0          2.0  70.0   \n",
       "1                 2.0             4.0       1.0  2.0          1.0  72.0   \n",
       "2                 2.0             4.0       2.0  2.0          2.0  62.0   \n",
       "3                 2.0             4.0       1.0  1.0          2.0  76.0   \n",
       "4                 2.0             3.0       1.0  1.0          1.0  80.0   \n",
       "\n",
       "   PREV_HEART_ATTACK  HEART_DISEASE_TARGET  HEART_STROKE  MARIJUANA  \n",
       "0                2.0                   2.0           2.0        0.0  \n",
       "1                2.0                   1.0           2.0        0.0  \n",
       "2                2.0                   2.0           2.0        0.0  \n",
       "3                1.0                   1.0           1.0        0.0  \n",
       "4                2.0                   2.0           2.0        0.0  \n",
       "\n",
       "[5 rows x 25 columns]"
      ]
     },
     "execution_count": 81,
     "metadata": {},
     "output_type": "execute_result"
    }
   ],
   "source": [
    "heart_df=pd.read_csv('cdc_1.csv')\n",
    "heart_df.head()"
   ]
  },
  {
   "cell_type": "markdown",
   "id": "35151ab6",
   "metadata": {},
   "source": [
    "## Rename Values for Tableau"
   ]
  },
  {
   "cell_type": "code",
   "execution_count": 82,
   "id": "e4800c14",
   "metadata": {},
   "outputs": [
    {
     "data": {
      "text/plain": [
       "Index(['Unnamed: 0', 'SEX', 'GENERAL_HEALTH', 'PHYSICAL_HEALTH',\n",
       "       'MENTAL_HEALTH_30', 'HEALTH_PLAN', 'ROUTIN_CHECKUP', 'EXERCISE',\n",
       "       'DEPRESSION', 'DIABETES', 'MARITAL_STATUS', 'EDUCATION', 'LAST_ASTHMA',\n",
       "       'WORK_STATUS', 'BMI', 'CONCENTRATION_DIFF', 'SMOKE_CIGARETT',\n",
       "       'DRINKING', 'BP', 'CHOLESTEROL', 'AGE', 'PREV_HEART_ATTACK',\n",
       "       'HEART_DISEASE_TARGET', 'HEART_STROKE', 'MARIJUANA'],\n",
       "      dtype='object')"
      ]
     },
     "execution_count": 82,
     "metadata": {},
     "output_type": "execute_result"
    }
   ],
   "source": [
    "heart_df.columns"
   ]
  },
  {
   "cell_type": "code",
   "execution_count": 83,
   "id": "8e7e00ce",
   "metadata": {},
   "outputs": [],
   "source": [
    "tableau_df=heart_df.drop(columns=['Unnamed: 0']).copy()"
   ]
  },
  {
   "cell_type": "code",
   "execution_count": 84,
   "id": "061bee70",
   "metadata": {},
   "outputs": [
    {
     "name": "stdout",
     "output_type": "stream",
     "text": [
      "****************************************\n",
      "   SEX     \n",
      "2.0    174823\n",
      "1.0    158223\n",
      "Name: SEX, dtype: int64\n",
      "\n",
      "****************************************\n",
      "   GENERAL_HEALTH     \n",
      "1.0    276735\n",
      "2.0     55675\n",
      "9.0       636\n",
      "Name: GENERAL_HEALTH, dtype: int64\n",
      "\n",
      "****************************************\n",
      "   PHYSICAL_HEALTH     \n",
      "1.0    217501\n",
      "2.0     69608\n",
      "3.0     39784\n",
      "9.0      6153\n",
      "Name: PHYSICAL_HEALTH, dtype: int64\n",
      "\n",
      "****************************************\n",
      "   MENTAL_HEALTH_30     \n",
      "1.0    209389\n",
      "2.0     79160\n",
      "3.0     39710\n",
      "9.0      4787\n",
      "Name: MENTAL_HEALTH_30, dtype: int64\n",
      "\n",
      "****************************************\n",
      "   HEALTH_PLAN     \n",
      "1.0    183660\n",
      "9.0    137298\n",
      "2.0     12088\n",
      "Name: HEALTH_PLAN, dtype: int64\n",
      "\n",
      "****************************************\n",
      "   ROUTIN_CHECKUP     \n",
      "1.0    268607\n",
      "2.0     36979\n",
      "3.0     14979\n",
      "4.0      9704\n",
      "7.0      1877\n",
      "8.0       749\n",
      "9.0       151\n",
      "Name: ROUTIN_CHECKUP, dtype: int64\n",
      "\n",
      "****************************************\n",
      "   EXERCISE     \n",
      "1.0    254031\n",
      "2.0     78512\n",
      "9.0       503\n",
      "Name: EXERCISE, dtype: int64\n",
      "\n",
      "****************************************\n",
      "   DEPRESSION     \n",
      "2.0    266185\n",
      "1.0     65543\n",
      "7.0      1070\n",
      "9.0       248\n",
      "Name: DEPRESSION, dtype: int64\n",
      "\n",
      "****************************************\n",
      "   DIABETES     \n",
      "3.0    273588\n",
      "1.0     48222\n",
      "4.0      8142\n",
      "2.0      2732\n",
      "7.0       321\n",
      "9.0        41\n",
      "Name: DIABETES, dtype: int64\n",
      "\n",
      "****************************************\n",
      "   MARITAL_STATUS     \n",
      "1.0    182521\n",
      "5.0     48012\n",
      "2.0     44557\n",
      "3.0     38203\n",
      "6.0     11687\n",
      "4.0      6090\n",
      "9.0      1976\n",
      "Name: MARITAL_STATUS, dtype: int64\n",
      "\n",
      "****************************************\n",
      "   EDUCATION     \n",
      "4.0    143783\n",
      "3.0     91450\n",
      "2.0     80078\n",
      "1.0     17001\n",
      "9.0       734\n",
      "Name: EDUCATION, dtype: int64\n",
      "\n",
      "****************************************\n",
      "   LAST_ASTHMA     \n",
      "1.0    285916\n",
      "2.0     46228\n",
      "9.0       902\n",
      "Name: LAST_ASTHMA, dtype: int64\n",
      "\n",
      "****************************************\n",
      "   WORK_STATUS     \n",
      "1.0    139219\n",
      "7.0    110921\n",
      "2.0     28731\n",
      "8.0     19788\n",
      "5.0     12546\n",
      "3.0      8107\n",
      "4.0      6517\n",
      "6.0      5256\n",
      "9.0      1961\n",
      "Name: WORK_STATUS, dtype: int64\n",
      "\n",
      "****************************************\n",
      "   BMI     \n",
      "3.0    119738\n",
      "4.0    115794\n",
      "2.0     92956\n",
      "1.0      4558\n",
      "Name: BMI, dtype: int64\n",
      "\n",
      "****************************************\n",
      "   CONCENTRATION_DIFF     \n",
      "2.0    296893\n",
      "1.0     34380\n",
      "7.0      1441\n",
      "9.0       332\n",
      "Name: CONCENTRATION_DIFF, dtype: int64\n",
      "\n",
      "****************************************\n",
      "   SMOKE_CIGARETT     \n",
      "4.0    192578\n",
      "3.0     94520\n",
      "1.0     29449\n",
      "2.0     11342\n",
      "9.0      5157\n",
      "Name: SMOKE_CIGARETT, dtype: int64\n",
      "\n",
      "****************************************\n",
      "   DRINKING     \n",
      "1.0    280203\n",
      "2.0     40813\n",
      "9.0     12030\n",
      "Name: DRINKING, dtype: int64\n",
      "\n",
      "****************************************\n",
      "   BP     \n",
      "1.0    190252\n",
      "2.0    141950\n",
      "9.0       844\n",
      "Name: BP, dtype: int64\n",
      "\n",
      "****************************************\n",
      "   CHOLESTEROL     \n",
      "1.0    197054\n",
      "2.0    133563\n",
      "9.0      2429\n",
      "Name: CHOLESTEROL, dtype: int64\n",
      "\n",
      "****************************************\n",
      "   AGE     \n",
      "80.0    27982\n",
      "65.0     8438\n",
      "70.0     8132\n",
      "67.0     7926\n",
      "68.0     7760\n",
      "        ...  \n",
      "22.0     1713\n",
      "21.0     1647\n",
      "20.0     1416\n",
      "19.0     1238\n",
      "18.0     1196\n",
      "Name: AGE, Length: 63, dtype: int64\n",
      "\n",
      "****************************************\n",
      "   PREV_HEART_ATTACK     \n",
      "2.0    313027\n",
      "1.0     19705\n",
      "7.0       306\n",
      "9.0         8\n",
      "Name: PREV_HEART_ATTACK, dtype: int64\n",
      "\n",
      "****************************************\n",
      "   HEART_DISEASE_TARGET     \n",
      "2.0    302506\n",
      "1.0     30540\n",
      "Name: HEART_DISEASE_TARGET, dtype: int64\n",
      "\n",
      "****************************************\n",
      "   HEART_STROKE     \n",
      "2.0    318266\n",
      "1.0     14054\n",
      "7.0       699\n",
      "9.0        27\n",
      "Name: HEART_STROKE, dtype: int64\n",
      "\n",
      "****************************************\n",
      "   MARIJUANA     \n",
      "0.0     323322\n",
      "30.0      3718\n",
      "1.0        923\n",
      "2.0        893\n",
      "5.0        565\n",
      "10.0       565\n",
      "20.0       560\n",
      "15.0       489\n",
      "3.0        482\n",
      "4.0        433\n",
      "25.0       229\n",
      "8.0        163\n",
      "6.0        133\n",
      "7.0        133\n",
      "12.0       122\n",
      "28.0        86\n",
      "14.0        57\n",
      "29.0        40\n",
      "16.0        30\n",
      "27.0        16\n",
      "21.0        15\n",
      "24.0        13\n",
      "18.0        10\n",
      "26.0         9\n",
      "17.0         9\n",
      "22.0         8\n",
      "23.0         8\n",
      "11.0         6\n",
      "9.0          6\n",
      "19.0         2\n",
      "13.0         1\n",
      "Name: MARIJUANA, dtype: int64\n",
      "\n"
     ]
    }
   ],
   "source": [
    "for x in tableau_df.columns:\n",
    "    print('*'*40)\n",
    "    print (f'   {x}     ')\n",
    "    print(tableau_df[x].value_counts())\n",
    "    print('')"
   ]
  },
  {
   "cell_type": "code",
   "execution_count": 85,
   "id": "5e35a1be",
   "metadata": {},
   "outputs": [
    {
     "data": {
      "text/plain": [
       "Female    174823\n",
       "Male      158223\n",
       "Name: SEX, dtype: int64"
      ]
     },
     "execution_count": 85,
     "metadata": {},
     "output_type": "execute_result"
    }
   ],
   "source": [
    "tableau_df['SEX'].replace(to_replace=[1,2],\n",
    "           value=['Male','Female'],inplace=True)\n",
    "tableau_df['SEX'].value_counts()"
   ]
  },
  {
   "cell_type": "code",
   "execution_count": 86,
   "id": "143c734a",
   "metadata": {},
   "outputs": [
    {
     "data": {
      "text/plain": [
       "Good         276735\n",
       "Fair/Poor     55675\n",
       "9.0             636\n",
       "Name: GENERAL_HEALTH, dtype: int64"
      ]
     },
     "execution_count": 86,
     "metadata": {},
     "output_type": "execute_result"
    }
   ],
   "source": [
    "tableau_df['GENERAL_HEALTH'].replace(to_replace=[1,2],\n",
    "           value=['Good','Fair/Poor'],inplace=True)\n",
    "tableau_df['GENERAL_HEALTH'].value_counts()"
   ]
  },
  {
   "cell_type": "code",
   "execution_count": 87,
   "id": "893d3d6b",
   "metadata": {},
   "outputs": [
    {
     "data": {
      "text/plain": [
       "Good        217501\n",
       "Fair         69608\n",
       "Not Good     39784\n",
       "9.0           6153\n",
       "Name: PHYSICAL_HEALTH, dtype: int64"
      ]
     },
     "execution_count": 87,
     "metadata": {},
     "output_type": "execute_result"
    }
   ],
   "source": [
    "tableau_df['PHYSICAL_HEALTH'].replace(to_replace=[1,2,3],\n",
    "           value=['Good','Fair', 'Not Good'],inplace=True)\n",
    "tableau_df['PHYSICAL_HEALTH'].value_counts()"
   ]
  },
  {
   "cell_type": "code",
   "execution_count": 88,
   "id": "b09e680c",
   "metadata": {},
   "outputs": [
    {
     "data": {
      "text/plain": [
       "Good        209389\n",
       "Fair         79160\n",
       "Not Good     39710\n",
       "9.0           4787\n",
       "Name: MENTAL_HEALTH_30, dtype: int64"
      ]
     },
     "execution_count": 88,
     "metadata": {},
     "output_type": "execute_result"
    }
   ],
   "source": [
    "tableau_df['MENTAL_HEALTH_30'].replace(to_replace=[1,2,3],\n",
    "           value=['Good','Fair', 'Not Good'],inplace=True)\n",
    "tableau_df['MENTAL_HEALTH_30'].value_counts()"
   ]
  },
  {
   "cell_type": "code",
   "execution_count": 89,
   "id": "2c6ff67e",
   "metadata": {},
   "outputs": [
    {
     "data": {
      "text/plain": [
       "Yes    183660\n",
       "9.0    137298\n",
       "No      12088\n",
       "Name: HEALTH_PLAN, dtype: int64"
      ]
     },
     "execution_count": 89,
     "metadata": {},
     "output_type": "execute_result"
    }
   ],
   "source": [
    "tableau_df['HEALTH_PLAN'].replace(to_replace=[1,2],\n",
    "           value=['Yes', 'No'],inplace=True)\n",
    "tableau_df['HEALTH_PLAN'].value_counts()"
   ]
  },
  {
   "cell_type": "code",
   "execution_count": 90,
   "id": "e2b4cec6",
   "metadata": {},
   "outputs": [
    {
     "data": {
      "text/plain": [
       "year<1      268607\n",
       "1<year<2     36979\n",
       "2<year<5     14979\n",
       "year>5        9704\n",
       "7.0           1877\n",
       "never          749\n",
       "9.0            151\n",
       "Name: ROUTIN_CHECKUP, dtype: int64"
      ]
     },
     "execution_count": 90,
     "metadata": {},
     "output_type": "execute_result"
    }
   ],
   "source": [
    "tableau_df['ROUTIN_CHECKUP'].replace(to_replace=[1,2,3,4,8],\n",
    "           value=['year<1','1<year<2', '2<year<5','year>5','never'],inplace=True)\n",
    "tableau_df['ROUTIN_CHECKUP'].value_counts()"
   ]
  },
  {
   "cell_type": "code",
   "execution_count": 91,
   "id": "85565721",
   "metadata": {},
   "outputs": [
    {
     "data": {
      "text/plain": [
       "Yes    254031\n",
       "No      78512\n",
       "9.0       503\n",
       "Name: EXERCISE, dtype: int64"
      ]
     },
     "execution_count": 91,
     "metadata": {},
     "output_type": "execute_result"
    }
   ],
   "source": [
    "tableau_df['EXERCISE'].replace(to_replace=[1,2],\n",
    "           value=['Yes','No'],inplace=True)\n",
    "tableau_df['EXERCISE'].value_counts()"
   ]
  },
  {
   "cell_type": "code",
   "execution_count": 92,
   "id": "546c2637",
   "metadata": {},
   "outputs": [
    {
     "data": {
      "text/plain": [
       "No     266185\n",
       "Yes     65543\n",
       "7.0      1070\n",
       "9.0       248\n",
       "Name: DEPRESSION, dtype: int64"
      ]
     },
     "execution_count": 92,
     "metadata": {},
     "output_type": "execute_result"
    }
   ],
   "source": [
    "tableau_df['DEPRESSION'].replace(to_replace=[1,2],\n",
    "           value=['Yes','No'],inplace=True)\n",
    "tableau_df['DEPRESSION'].value_counts()"
   ]
  },
  {
   "cell_type": "code",
   "execution_count": 93,
   "id": "8bbd2d0d",
   "metadata": {},
   "outputs": [
    {
     "data": {
      "text/plain": [
       "No             273588\n",
       "Yes             48222\n",
       "Borderline       8142\n",
       "Gestational      2732\n",
       "7.0               321\n",
       "9.0                41\n",
       "Name: DIABETES, dtype: int64"
      ]
     },
     "execution_count": 93,
     "metadata": {},
     "output_type": "execute_result"
    }
   ],
   "source": [
    "tableau_df['DIABETES'].replace(to_replace=[1,2,3,4],\n",
    "           value=['Yes','Gestational', 'No','Borderline'],inplace=True)\n",
    "tableau_df['DIABETES'].value_counts()"
   ]
  },
  {
   "cell_type": "code",
   "execution_count": 94,
   "id": "fa33ba32",
   "metadata": {},
   "outputs": [
    {
     "data": {
      "text/plain": [
       "Married        182521\n",
       "Not Married     59699\n",
       "Divorced        44557\n",
       "Widowed         38203\n",
       "Separated        6090\n",
       "9.0              1976\n",
       "Name: MARITAL_STATUS, dtype: int64"
      ]
     },
     "execution_count": 94,
     "metadata": {},
     "output_type": "execute_result"
    }
   ],
   "source": [
    "tableau_df['MARITAL_STATUS'].replace(to_replace=[1,2,3,4,5,6],\n",
    "           value=['Married', 'Divorced','Widowed','Separated','Not Married','Not Married'],inplace=True)\n",
    "tableau_df['MARITAL_STATUS'].value_counts()"
   ]
  },
  {
   "cell_type": "code",
   "execution_count": 95,
   "id": "6ed21486",
   "metadata": {},
   "outputs": [
    {
     "data": {
      "text/plain": [
       "College Degree            143783\n",
       "Attended College           91450\n",
       "High School Diploma        80078\n",
       "No High School Diploma     17001\n",
       "9.0                          734\n",
       "Name: EDUCATION, dtype: int64"
      ]
     },
     "execution_count": 95,
     "metadata": {},
     "output_type": "execute_result"
    }
   ],
   "source": [
    "tableau_df['EDUCATION'].replace(to_replace=[1,2,3,4],\n",
    "           value=['No High School Diploma','High School Diploma', 'Attended College','College Degree'],inplace=True)\n",
    "tableau_df['EDUCATION'].value_counts()"
   ]
  },
  {
   "cell_type": "code",
   "execution_count": 96,
   "id": "c0a741be",
   "metadata": {},
   "outputs": [
    {
     "data": {
      "text/plain": [
       "No     285916\n",
       "Yes     46228\n",
       "9.0       902\n",
       "Name: LAST_ASTHMA, dtype: int64"
      ]
     },
     "execution_count": 96,
     "metadata": {},
     "output_type": "execute_result"
    }
   ],
   "source": [
    "tableau_df['LAST_ASTHMA'].replace(to_replace=[1,2],\n",
    "           value=['No','Yes'],inplace=True)\n",
    "tableau_df['LAST_ASTHMA'].value_counts()"
   ]
  },
  {
   "cell_type": "code",
   "execution_count": 97,
   "id": "eb04a8cd",
   "metadata": {},
   "outputs": [
    {
     "data": {
      "text/plain": [
       "Employed                          139219\n",
       "Retired                           110921\n",
       "Self-employed                      28731\n",
       "Unable to work                     19788\n",
       "Homemaker                          12546\n",
       "Out of work (more than a year)      8107\n",
       "Out of work (less than a year)      6517\n",
       "Student                             5256\n",
       "9.0                                 1961\n",
       "Name: WORK_STATUS, dtype: int64"
      ]
     },
     "execution_count": 97,
     "metadata": {},
     "output_type": "execute_result"
    }
   ],
   "source": [
    "tableau_df['WORK_STATUS'].replace(to_replace=[1,2,3,4,5,6,7,8],\n",
    "           value=['Employed','Self-employed','Out of work (more than a year)',\n",
    "                  'Out of work (less than a year)','Homemaker','Student','Retired','Unable to work'],inplace=True)\n",
    "tableau_df['WORK_STATUS'].value_counts()"
   ]
  },
  {
   "cell_type": "code",
   "execution_count": 98,
   "id": "724dca56",
   "metadata": {},
   "outputs": [
    {
     "data": {
      "text/plain": [
       "Over Weight     119738\n",
       "Obese           115794\n",
       "Normal           92956\n",
       "Under Weight      4558\n",
       "Name: BMI, dtype: int64"
      ]
     },
     "execution_count": 98,
     "metadata": {},
     "output_type": "execute_result"
    }
   ],
   "source": [
    "tableau_df['BMI'].replace(to_replace=[1,2,3,4],\n",
    "           value=['Under Weight','Normal', 'Over Weight','Obese'],inplace=True)\n",
    "tableau_df['BMI'].value_counts()"
   ]
  },
  {
   "cell_type": "code",
   "execution_count": 99,
   "id": "d7143b12",
   "metadata": {},
   "outputs": [
    {
     "data": {
      "text/plain": [
       "Never       192578\n",
       "Past         94520\n",
       "Everyday     29449\n",
       "Somedays     11342\n",
       "9.0           5157\n",
       "Name: SMOKE_CIGARETT, dtype: int64"
      ]
     },
     "execution_count": 99,
     "metadata": {},
     "output_type": "execute_result"
    }
   ],
   "source": [
    "tableau_df['SMOKE_CIGARETT'].replace(to_replace=[1,2,3,4],\n",
    "           value=['Everyday','Somedays','Past','Never'],inplace=True)\n",
    "tableau_df['SMOKE_CIGARETT'].value_counts()"
   ]
  },
  {
   "cell_type": "code",
   "execution_count": 100,
   "id": "18395757",
   "metadata": {},
   "outputs": [
    {
     "data": {
      "text/plain": [
       "No     296893\n",
       "Yes     34380\n",
       "7.0      1441\n",
       "9.0       332\n",
       "Name: CONCENTRATION_DIFF, dtype: int64"
      ]
     },
     "execution_count": 100,
     "metadata": {},
     "output_type": "execute_result"
    }
   ],
   "source": [
    "tableau_df['CONCENTRATION_DIFF'].replace(to_replace=[1,2],\n",
    "           value=['Yes','No'],inplace=True)\n",
    "tableau_df['CONCENTRATION_DIFF'].value_counts()"
   ]
  },
  {
   "cell_type": "code",
   "execution_count": 101,
   "id": "77a016fd",
   "metadata": {},
   "outputs": [
    {
     "data": {
      "text/plain": [
       "No     280203\n",
       "Yes     40813\n",
       "9.0     12030\n",
       "Name: DRINKING, dtype: int64"
      ]
     },
     "execution_count": 101,
     "metadata": {},
     "output_type": "execute_result"
    }
   ],
   "source": [
    "tableau_df['DRINKING'].replace(to_replace=[1,2],\n",
    "           value=['No','Yes'],inplace=True)\n",
    "tableau_df['DRINKING'].value_counts()"
   ]
  },
  {
   "cell_type": "code",
   "execution_count": 102,
   "id": "f168048d",
   "metadata": {},
   "outputs": [
    {
     "data": {
      "text/plain": [
       "No     190252\n",
       "Yes    141950\n",
       "9.0       844\n",
       "Name: BP, dtype: int64"
      ]
     },
     "execution_count": 102,
     "metadata": {},
     "output_type": "execute_result"
    }
   ],
   "source": [
    "tableau_df['BP'].replace(to_replace=[1,2],\n",
    "           value=['No','Yes'],inplace=True)\n",
    "tableau_df['BP'].value_counts()"
   ]
  },
  {
   "cell_type": "code",
   "execution_count": 103,
   "id": "b2e7e629",
   "metadata": {},
   "outputs": [
    {
     "data": {
      "text/plain": [
       "No     197054\n",
       "Yes    133563\n",
       "9.0      2429\n",
       "Name: CHOLESTEROL, dtype: int64"
      ]
     },
     "execution_count": 103,
     "metadata": {},
     "output_type": "execute_result"
    }
   ],
   "source": [
    "tableau_df['CHOLESTEROL'].replace(to_replace=[1,2],\n",
    "           value=['No','Yes'],inplace=True)\n",
    "tableau_df['CHOLESTEROL'].value_counts()"
   ]
  },
  {
   "cell_type": "code",
   "execution_count": 104,
   "id": "5e415d0a",
   "metadata": {},
   "outputs": [
    {
     "data": {
      "text/plain": [
       "80.0    27982\n",
       "65.0     8438\n",
       "70.0     8132\n",
       "67.0     7926\n",
       "68.0     7760\n",
       "        ...  \n",
       "22.0     1713\n",
       "21.0     1647\n",
       "20.0     1416\n",
       "19.0     1238\n",
       "18.0     1196\n",
       "Name: AGE, Length: 63, dtype: int64"
      ]
     },
     "execution_count": 104,
     "metadata": {},
     "output_type": "execute_result"
    }
   ],
   "source": [
    "tableau_df['AGE'].value_counts()"
   ]
  },
  {
   "cell_type": "code",
   "execution_count": 105,
   "id": "7a36dc45",
   "metadata": {},
   "outputs": [
    {
     "data": {
      "text/plain": [
       "No     313027\n",
       "Yes     19705\n",
       "7.0       306\n",
       "9.0         8\n",
       "Name: PREV_HEART_ATTACK, dtype: int64"
      ]
     },
     "execution_count": 105,
     "metadata": {},
     "output_type": "execute_result"
    }
   ],
   "source": [
    "tableau_df['PREV_HEART_ATTACK'].replace(to_replace=[1,2],\n",
    "           value=['Yes', 'No'],inplace=True)\n",
    "tableau_df['PREV_HEART_ATTACK'].value_counts()"
   ]
  },
  {
   "cell_type": "code",
   "execution_count": 106,
   "id": "50cf049d",
   "metadata": {},
   "outputs": [
    {
     "data": {
      "text/plain": [
       "No     302506\n",
       "Yes     30540\n",
       "Name: HEART_DISEASE_TARGET, dtype: int64"
      ]
     },
     "execution_count": 106,
     "metadata": {},
     "output_type": "execute_result"
    }
   ],
   "source": [
    "tableau_df['HEART_DISEASE_TARGET'].replace(to_replace=[1,2],\n",
    "           value=['Yes', 'No'],inplace=True)\n",
    "tableau_df['HEART_DISEASE_TARGET'].value_counts()"
   ]
  },
  {
   "cell_type": "code",
   "execution_count": 107,
   "id": "a0cc86f9",
   "metadata": {},
   "outputs": [
    {
     "data": {
      "text/plain": [
       "No     318266\n",
       "Yes     14054\n",
       "7.0       699\n",
       "9.0        27\n",
       "Name: HEART_STROKE, dtype: int64"
      ]
     },
     "execution_count": 107,
     "metadata": {},
     "output_type": "execute_result"
    }
   ],
   "source": [
    "tableau_df['HEART_STROKE'].replace(to_replace=[1,2],\n",
    "           value=['Yes', 'No'],inplace=True)\n",
    "tableau_df['HEART_STROKE'].value_counts()"
   ]
  },
  {
   "cell_type": "code",
   "execution_count": 108,
   "id": "3f91376b",
   "metadata": {},
   "outputs": [
    {
     "name": "stdout",
     "output_type": "stream",
     "text": [
      "****************************************\n",
      "   SEX     \n",
      "Female    174823\n",
      "Male      158223\n",
      "Name: SEX, dtype: int64\n",
      "\n",
      "****************************************\n",
      "   GENERAL_HEALTH     \n",
      "Good         276735\n",
      "Fair/Poor     55675\n",
      "9.0             636\n",
      "Name: GENERAL_HEALTH, dtype: int64\n",
      "\n",
      "****************************************\n",
      "   PHYSICAL_HEALTH     \n",
      "Good        217501\n",
      "Fair         69608\n",
      "Not Good     39784\n",
      "9.0           6153\n",
      "Name: PHYSICAL_HEALTH, dtype: int64\n",
      "\n",
      "****************************************\n",
      "   MENTAL_HEALTH_30     \n",
      "Good        209389\n",
      "Fair         79160\n",
      "Not Good     39710\n",
      "9.0           4787\n",
      "Name: MENTAL_HEALTH_30, dtype: int64\n",
      "\n",
      "****************************************\n",
      "   HEALTH_PLAN     \n",
      "Yes    183660\n",
      "9.0    137298\n",
      "No      12088\n",
      "Name: HEALTH_PLAN, dtype: int64\n",
      "\n",
      "****************************************\n",
      "   ROUTIN_CHECKUP     \n",
      "year<1      268607\n",
      "1<year<2     36979\n",
      "2<year<5     14979\n",
      "year>5        9704\n",
      "7.0           1877\n",
      "never          749\n",
      "9.0            151\n",
      "Name: ROUTIN_CHECKUP, dtype: int64\n",
      "\n",
      "****************************************\n",
      "   EXERCISE     \n",
      "Yes    254031\n",
      "No      78512\n",
      "9.0       503\n",
      "Name: EXERCISE, dtype: int64\n",
      "\n",
      "****************************************\n",
      "   DEPRESSION     \n",
      "No     266185\n",
      "Yes     65543\n",
      "7.0      1070\n",
      "9.0       248\n",
      "Name: DEPRESSION, dtype: int64\n",
      "\n",
      "****************************************\n",
      "   DIABETES     \n",
      "No             273588\n",
      "Yes             48222\n",
      "Borderline       8142\n",
      "Gestational      2732\n",
      "7.0               321\n",
      "9.0                41\n",
      "Name: DIABETES, dtype: int64\n",
      "\n",
      "****************************************\n",
      "   MARITAL_STATUS     \n",
      "Married        182521\n",
      "Not Married     59699\n",
      "Divorced        44557\n",
      "Widowed         38203\n",
      "Separated        6090\n",
      "9.0              1976\n",
      "Name: MARITAL_STATUS, dtype: int64\n",
      "\n",
      "****************************************\n",
      "   EDUCATION     \n",
      "College Degree            143783\n",
      "Attended College           91450\n",
      "High School Diploma        80078\n",
      "No High School Diploma     17001\n",
      "9.0                          734\n",
      "Name: EDUCATION, dtype: int64\n",
      "\n",
      "****************************************\n",
      "   LAST_ASTHMA     \n",
      "No     285916\n",
      "Yes     46228\n",
      "9.0       902\n",
      "Name: LAST_ASTHMA, dtype: int64\n",
      "\n",
      "****************************************\n",
      "   WORK_STATUS     \n",
      "Employed                          139219\n",
      "Retired                           110921\n",
      "Self-employed                      28731\n",
      "Unable to work                     19788\n",
      "Homemaker                          12546\n",
      "Out of work (more than a year)      8107\n",
      "Out of work (less than a year)      6517\n",
      "Student                             5256\n",
      "9.0                                 1961\n",
      "Name: WORK_STATUS, dtype: int64\n",
      "\n",
      "****************************************\n",
      "   BMI     \n",
      "Over Weight     119738\n",
      "Obese           115794\n",
      "Normal           92956\n",
      "Under Weight      4558\n",
      "Name: BMI, dtype: int64\n",
      "\n",
      "****************************************\n",
      "   CONCENTRATION_DIFF     \n",
      "No     296893\n",
      "Yes     34380\n",
      "7.0      1441\n",
      "9.0       332\n",
      "Name: CONCENTRATION_DIFF, dtype: int64\n",
      "\n",
      "****************************************\n",
      "   SMOKE_CIGARETT     \n",
      "Never       192578\n",
      "Past         94520\n",
      "Everyday     29449\n",
      "Somedays     11342\n",
      "9.0           5157\n",
      "Name: SMOKE_CIGARETT, dtype: int64\n",
      "\n",
      "****************************************\n",
      "   DRINKING     \n",
      "No     280203\n",
      "Yes     40813\n",
      "9.0     12030\n",
      "Name: DRINKING, dtype: int64\n",
      "\n",
      "****************************************\n",
      "   BP     \n",
      "No     190252\n",
      "Yes    141950\n",
      "9.0       844\n",
      "Name: BP, dtype: int64\n",
      "\n",
      "****************************************\n",
      "   CHOLESTEROL     \n",
      "No     197054\n",
      "Yes    133563\n",
      "9.0      2429\n",
      "Name: CHOLESTEROL, dtype: int64\n",
      "\n",
      "****************************************\n",
      "   AGE     \n",
      "80.0    27982\n",
      "65.0     8438\n",
      "70.0     8132\n",
      "67.0     7926\n",
      "68.0     7760\n",
      "        ...  \n",
      "22.0     1713\n",
      "21.0     1647\n",
      "20.0     1416\n",
      "19.0     1238\n",
      "18.0     1196\n",
      "Name: AGE, Length: 63, dtype: int64\n",
      "\n",
      "****************************************\n",
      "   PREV_HEART_ATTACK     \n",
      "No     313027\n",
      "Yes     19705\n",
      "7.0       306\n",
      "9.0         8\n",
      "Name: PREV_HEART_ATTACK, dtype: int64\n",
      "\n",
      "****************************************\n",
      "   HEART_DISEASE_TARGET     \n",
      "No     302506\n",
      "Yes     30540\n",
      "Name: HEART_DISEASE_TARGET, dtype: int64\n",
      "\n",
      "****************************************\n",
      "   HEART_STROKE     \n",
      "No     318266\n",
      "Yes     14054\n",
      "7.0       699\n",
      "9.0        27\n",
      "Name: HEART_STROKE, dtype: int64\n",
      "\n",
      "****************************************\n",
      "   MARIJUANA     \n",
      "0.0     323322\n",
      "30.0      3718\n",
      "1.0        923\n",
      "2.0        893\n",
      "5.0        565\n",
      "10.0       565\n",
      "20.0       560\n",
      "15.0       489\n",
      "3.0        482\n",
      "4.0        433\n",
      "25.0       229\n",
      "8.0        163\n",
      "6.0        133\n",
      "7.0        133\n",
      "12.0       122\n",
      "28.0        86\n",
      "14.0        57\n",
      "29.0        40\n",
      "16.0        30\n",
      "27.0        16\n",
      "21.0        15\n",
      "24.0        13\n",
      "18.0        10\n",
      "26.0         9\n",
      "17.0         9\n",
      "22.0         8\n",
      "23.0         8\n",
      "11.0         6\n",
      "9.0          6\n",
      "19.0         2\n",
      "13.0         1\n",
      "Name: MARIJUANA, dtype: int64\n",
      "\n"
     ]
    }
   ],
   "source": [
    "for x in tableau_df.columns:\n",
    "    print('*'*40)\n",
    "    print (f'   {x}     ')\n",
    "    print(tableau_df[x].value_counts())\n",
    "    print('')"
   ]
  },
  {
   "cell_type": "code",
   "execution_count": 109,
   "id": "79f448fc",
   "metadata": {},
   "outputs": [
    {
     "name": "stdout",
     "output_type": "stream",
     "text": [
      "Completed..\n"
     ]
    }
   ],
   "source": [
    "tableau_df.to_csv('tableau_data.csv')\n",
    "print('Completed..')"
   ]
  }
 ],
 "metadata": {
  "kernelspec": {
   "display_name": "PythonData",
   "language": "python",
   "name": "pythondata"
  },
  "language_info": {
   "codemirror_mode": {
    "name": "ipython",
    "version": 3
   },
   "file_extension": ".py",
   "mimetype": "text/x-python",
   "name": "python",
   "nbconvert_exporter": "python",
   "pygments_lexer": "ipython3",
   "version": "3.9.15"
  }
 },
 "nbformat": 4,
 "nbformat_minor": 5
}
