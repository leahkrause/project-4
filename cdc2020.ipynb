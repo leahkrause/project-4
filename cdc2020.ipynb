{
 "cells": [
  {
   "cell_type": "code",
   "execution_count": 1,
   "metadata": {},
   "outputs": [
    {
     "data": {
      "text/html": [
       "<div>\n",
       "<style scoped>\n",
       "    .dataframe tbody tr th:only-of-type {\n",
       "        vertical-align: middle;\n",
       "    }\n",
       "\n",
       "    .dataframe tbody tr th {\n",
       "        vertical-align: top;\n",
       "    }\n",
       "\n",
       "    .dataframe thead th {\n",
       "        text-align: right;\n",
       "    }\n",
       "</style>\n",
       "<table border=\"1\" class=\"dataframe\">\n",
       "  <thead>\n",
       "    <tr style=\"text-align: right;\">\n",
       "      <th></th>\n",
       "      <th>Unnamed: 0</th>\n",
       "      <th>_STATE</th>\n",
       "      <th>FMONTH</th>\n",
       "      <th>IDATE</th>\n",
       "      <th>IMONTH</th>\n",
       "      <th>IDAY</th>\n",
       "      <th>IYEAR</th>\n",
       "      <th>DISPCODE</th>\n",
       "      <th>SEQNO</th>\n",
       "      <th>_PSU</th>\n",
       "      <th>...</th>\n",
       "      <th>_RFPSA23</th>\n",
       "      <th>_CLNSCPY</th>\n",
       "      <th>_SGMSCPY</th>\n",
       "      <th>_SGMS10Y</th>\n",
       "      <th>_RFBLDS4</th>\n",
       "      <th>_STOLDNA</th>\n",
       "      <th>_VIRCOLN</th>\n",
       "      <th>_SBONTIM</th>\n",
       "      <th>_CRCREC1</th>\n",
       "      <th>_AIDTST4</th>\n",
       "    </tr>\n",
       "  </thead>\n",
       "  <tbody>\n",
       "    <tr>\n",
       "      <th>0</th>\n",
       "      <td>0</td>\n",
       "      <td>1.0</td>\n",
       "      <td>1.0</td>\n",
       "      <td>b'01042020'</td>\n",
       "      <td>b'01'</td>\n",
       "      <td>b'04'</td>\n",
       "      <td>b'2020'</td>\n",
       "      <td>1100.0</td>\n",
       "      <td>b'2020000001'</td>\n",
       "      <td>2.020000e+09</td>\n",
       "      <td>...</td>\n",
       "      <td>NaN</td>\n",
       "      <td>1.0</td>\n",
       "      <td>3.0</td>\n",
       "      <td>3.0</td>\n",
       "      <td>3.0</td>\n",
       "      <td>3.0</td>\n",
       "      <td>3.0</td>\n",
       "      <td>3.0</td>\n",
       "      <td>1.0</td>\n",
       "      <td>1.0</td>\n",
       "    </tr>\n",
       "    <tr>\n",
       "      <th>1</th>\n",
       "      <td>1</td>\n",
       "      <td>1.0</td>\n",
       "      <td>1.0</td>\n",
       "      <td>b'02072020'</td>\n",
       "      <td>b'02'</td>\n",
       "      <td>b'07'</td>\n",
       "      <td>b'2020'</td>\n",
       "      <td>1200.0</td>\n",
       "      <td>b'2020000002'</td>\n",
       "      <td>2.020000e+09</td>\n",
       "      <td>...</td>\n",
       "      <td>NaN</td>\n",
       "      <td>NaN</td>\n",
       "      <td>NaN</td>\n",
       "      <td>NaN</td>\n",
       "      <td>NaN</td>\n",
       "      <td>NaN</td>\n",
       "      <td>NaN</td>\n",
       "      <td>2.0</td>\n",
       "      <td>NaN</td>\n",
       "      <td>NaN</td>\n",
       "    </tr>\n",
       "    <tr>\n",
       "      <th>2</th>\n",
       "      <td>2</td>\n",
       "      <td>1.0</td>\n",
       "      <td>1.0</td>\n",
       "      <td>b'01232020'</td>\n",
       "      <td>b'01'</td>\n",
       "      <td>b'23'</td>\n",
       "      <td>b'2020'</td>\n",
       "      <td>1100.0</td>\n",
       "      <td>b'2020000003'</td>\n",
       "      <td>2.020000e+09</td>\n",
       "      <td>...</td>\n",
       "      <td>NaN</td>\n",
       "      <td>1.0</td>\n",
       "      <td>3.0</td>\n",
       "      <td>3.0</td>\n",
       "      <td>3.0</td>\n",
       "      <td>3.0</td>\n",
       "      <td>3.0</td>\n",
       "      <td>3.0</td>\n",
       "      <td>1.0</td>\n",
       "      <td>2.0</td>\n",
       "    </tr>\n",
       "    <tr>\n",
       "      <th>3</th>\n",
       "      <td>3</td>\n",
       "      <td>1.0</td>\n",
       "      <td>1.0</td>\n",
       "      <td>b'01092020'</td>\n",
       "      <td>b'01'</td>\n",
       "      <td>b'09'</td>\n",
       "      <td>b'2020'</td>\n",
       "      <td>1100.0</td>\n",
       "      <td>b'2020000004'</td>\n",
       "      <td>2.020000e+09</td>\n",
       "      <td>...</td>\n",
       "      <td>NaN</td>\n",
       "      <td>NaN</td>\n",
       "      <td>NaN</td>\n",
       "      <td>NaN</td>\n",
       "      <td>NaN</td>\n",
       "      <td>NaN</td>\n",
       "      <td>NaN</td>\n",
       "      <td>NaN</td>\n",
       "      <td>NaN</td>\n",
       "      <td>2.0</td>\n",
       "    </tr>\n",
       "    <tr>\n",
       "      <th>4</th>\n",
       "      <td>4</td>\n",
       "      <td>1.0</td>\n",
       "      <td>1.0</td>\n",
       "      <td>b'01042020'</td>\n",
       "      <td>b'01'</td>\n",
       "      <td>b'04'</td>\n",
       "      <td>b'2020'</td>\n",
       "      <td>1100.0</td>\n",
       "      <td>b'2020000005'</td>\n",
       "      <td>2.020000e+09</td>\n",
       "      <td>...</td>\n",
       "      <td>NaN</td>\n",
       "      <td>NaN</td>\n",
       "      <td>NaN</td>\n",
       "      <td>NaN</td>\n",
       "      <td>NaN</td>\n",
       "      <td>NaN</td>\n",
       "      <td>NaN</td>\n",
       "      <td>NaN</td>\n",
       "      <td>NaN</td>\n",
       "      <td>9.0</td>\n",
       "    </tr>\n",
       "  </tbody>\n",
       "</table>\n",
       "<p>5 rows × 280 columns</p>\n",
       "</div>"
      ],
      "text/plain": [
       "   Unnamed: 0  _STATE  FMONTH        IDATE IMONTH   IDAY    IYEAR  DISPCODE  \\\n",
       "0           0     1.0     1.0  b'01042020'  b'01'  b'04'  b'2020'    1100.0   \n",
       "1           1     1.0     1.0  b'02072020'  b'02'  b'07'  b'2020'    1200.0   \n",
       "2           2     1.0     1.0  b'01232020'  b'01'  b'23'  b'2020'    1100.0   \n",
       "3           3     1.0     1.0  b'01092020'  b'01'  b'09'  b'2020'    1100.0   \n",
       "4           4     1.0     1.0  b'01042020'  b'01'  b'04'  b'2020'    1100.0   \n",
       "\n",
       "           SEQNO          _PSU  ...  _RFPSA23  _CLNSCPY  _SGMSCPY  _SGMS10Y  \\\n",
       "0  b'2020000001'  2.020000e+09  ...       NaN       1.0       3.0       3.0   \n",
       "1  b'2020000002'  2.020000e+09  ...       NaN       NaN       NaN       NaN   \n",
       "2  b'2020000003'  2.020000e+09  ...       NaN       1.0       3.0       3.0   \n",
       "3  b'2020000004'  2.020000e+09  ...       NaN       NaN       NaN       NaN   \n",
       "4  b'2020000005'  2.020000e+09  ...       NaN       NaN       NaN       NaN   \n",
       "\n",
       "   _RFBLDS4  _STOLDNA  _VIRCOLN  _SBONTIM  _CRCREC1  _AIDTST4  \n",
       "0       3.0       3.0       3.0       3.0       1.0       1.0  \n",
       "1       NaN       NaN       NaN       2.0       NaN       NaN  \n",
       "2       3.0       3.0       3.0       3.0       1.0       2.0  \n",
       "3       NaN       NaN       NaN       NaN       NaN       2.0  \n",
       "4       NaN       NaN       NaN       NaN       NaN       9.0  \n",
       "\n",
       "[5 rows x 280 columns]"
      ]
     },
     "execution_count": 1,
     "metadata": {},
     "output_type": "execute_result"
    }
   ],
   "source": [
    "# Import our dependencies\n",
    "from sklearn.model_selection import train_test_split\n",
    "from sklearn.preprocessing import StandardScaler\n",
    "import pandas as pd\n",
    "import tensorflow as tf\n",
    "import numpy as np\n",
    "import matplotlib.pyplot as plt\n",
    "from sklearn.ensemble import RandomForestClassifier\n",
    "from sklearn.impute import KNNImputer\n",
    "from sklearn.linear_model import LogisticRegression\n",
    "from sklearn.ensemble import RandomForestClassifier\n",
    "from sklearn.naive_bayes import GaussianNB,BernoulliNB\n",
    "from sklearn.neighbors import KNeighborsClassifier\n",
    "from sklearn.svm import SVC\n",
    "from sklearn.ensemble import BaggingClassifier\n",
    "from sklearn.ensemble import VotingClassifier\n",
    "from sklearn.metrics import balanced_accuracy_score, confusion_matrix, classification_report\n",
    "\n",
    "#  Import and read the data.\n",
    "import pandas as pd \n",
    "cdc_df2020 = pd.read_csv('Resources/cdc_df2020.csv')\n",
    "cdc_df2020.head()"
   ]
  },
  {
   "cell_type": "code",
   "execution_count": 2,
   "metadata": {},
   "outputs": [],
   "source": [
    "cdc_df2020 =cdc_df2020[[\n",
    " 'GENHLTH',\n",
    " 'PHYSHLTH',\n",
    " 'MENTHLTH',\n",
    " 'POORHLTH',\n",
    " 'HLTHPLN1',\n",
    " 'PERSDOC2',\n",
    " 'MEDCOST',\n",
    " 'CHECKUP1',\n",
    " 'EXERANY2',\n",
    " 'SLEPTIM1',\n",
    " 'CVDINFR4',\n",
    " 'CVDCRHD4',\n",
    " 'CVDSTRK3',\n",
    " 'ASTHMA3',\n",
    " 'ASTHNOW',\n",
    " 'CHCSCNCR',\n",
    " 'CHCOCNCR',\n",
    " 'LASTDEN4',\n",
    " 'RMVTETH4',\n",
    " 'MARITAL',\n",
    " 'EDUCA',\n",
    " 'RENTHOM1',\n",
    " 'NUMHHOL3',\n",
    " 'NUMPHON3',\n",
    " 'CPDEMO1B',\n",
    " 'VETERAN3',\n",
    " 'EMPLOY1',\n",
    " 'CHILDREN',\n",
    " 'INCOME2',\n",
    " 'WEIGHT2',\n",
    " 'HEIGHT3',\n",
    " 'PREGNANT',\n",
    " 'DEAF',\n",
    " 'BLIND',\n",
    " 'DECIDE',\n",
    " 'DIFFWALK',\n",
    " 'DIFFDRES',\n",
    " 'DIFFALON',\n",
    " 'SMOKE100',\n",
    " 'SMOKDAY2',\n",
    " 'STOPSMK2',\n",
    " 'LASTSMK2',\n",
    " 'USENOW3',\n",
    " 'ALCDAY5',\n",
    " 'DRNK3GE5',\n",
    " 'MAXDRNKS',\n",
    " 'PNEUVAC4',\n",
    " 'SEATBELT',\n",
    " 'DRNKDRI2',\n",
    " 'HADMAM',\n",
    " 'HOWLONG',\n",
    " 'HADPAP2',\n",
    " 'LASTPAP2',\n",
    " 'HPVTEST',\n",
    " 'HPLSTTST',\n",
    " 'HADHYST2',\n",
    " 'PCPSAAD3',\n",
    " 'PCPSADI1',\n",
    " 'PCPSARE1',\n",
    " 'PSATEST1',\n",
    " 'PSATIME',\n",
    " 'PCPSARS1',\n",
    " 'HIVTSTD3',\n",
    " 'HIVRISK5',\n",
    " 'PDIABTST',\n",
    " 'PREDIAB1',\n",
    " 'BLDSUGAR',\n",
    " 'FEETCHK3',\n",
    " 'DOCTDIAB',\n",
    " 'CHKHEMO3',\n",
    " 'FEETCHK',\n",
    " 'EYEEXAM1',\n",
    " 'DIABEYE',\n",
    " 'DIABEDU',\n",
    " 'HLTHCVR1',\n",
    " 'CIMEMLOS',\n",
    " 'CDHOUSE',\n",
    " 'CDASSIST',\n",
    " 'CDHELP',\n",
    " 'CDSOCIAL',\n",
    " 'CDDISCUS',\n",
    " 'CAREGIV1',\n",
    " 'CRGVLNG1',\n",
    " 'CRGVHRS1',\n",
    " 'CRGVEXPT',\n",
    " 'ECIGARET',\n",
    " 'ECIGNOW',\n",
    " 'MARIJAN1',\n",
    " 'USEMRJN2',\n",
    " 'RSNMRJN1',\n",
    " 'LCSFIRST',\n",
    " 'LCSLAST',\n",
    " 'LCSNUMCG',\n",
    " 'LCSCTSCN',\n",
    " 'CNCRDIFF',\n",
    " 'CNCRAGE',\n",
    " 'CNCRTYP1',\n",
    " 'CSRVDOC1',\n",
    " 'CSRVSUM',\n",
    " 'CSRVRTRN',\n",
    " 'CSRVINST',\n",
    " 'CSRVINSR',\n",
    " 'CSRVDEIN',\n",
    " 'CSRVCLIN',\n",
    " 'CSRVPAIN',\n",
    " 'PCPSADE1',\n",
    " 'PCDMDEC1',\n",
    " 'HPVADSHT',\n",
    " 'TETANUS1',\n",
    " 'SHINGLE2',\n",
    " 'SOMALE',\n",
    " 'SOFEMALE',\n",
    " 'TRNSGNDR',\n",
    " 'RCSGENDR',\n",
    " 'RCSRLTN2',\n",
    " 'CASTHDX2',\n",
    " 'CASTHNO2',\n",
    " 'QSTVER',\n",
    " 'QSTLANG',\n",
    " '_METSTAT',\n",
    " '_URBSTAT',\n",
    " 'MSCODE',\n",
    " '_STSTR',\n",
    " '_STRWT',\n",
    " '_RAWRAKE',\n",
    " '_WT2RAKE',\n",
    " '_IMPRACE',\n",
    " '_CHISPNC',\n",
    " '_CRACE1',\n",
    " '_CPRACE',\n",
    " '_CLLCPWT',\n",
    " '_DUALUSE',\n",
    " '_DUALCOR',\n",
    " '_LLCPWT2',\n",
    " '_LLCPWT',\n",
    " '_RFHLTH',\n",
    " '_PHYS14D',\n",
    " '_MENT14D',\n",
    " '_HCVU651',\n",
    " '_TOTINDA',\n",
    " '_MICHD',\n",
    " '_LTASTH1',\n",
    " '_CASTHM1',\n",
    " '_ASTHMS1',\n",
    " '_EXTETH3',\n",
    " '_ALTETH3',\n",
    " '_DENVST3',\n",
    " '_PRACE1',\n",
    " '_MRACE1',\n",
    " '_HISPANC',\n",
    " '_RACE',\n",
    " '_RACEG21',\n",
    " '_RACEGR3',\n",
    " '_AGEG5YR',\n",
    " '_AGE65YR',\n",
    " '_AGE80',\n",
    " '_AGE_G',\n",
    " 'HTIN4',\n",
    " 'HTM4',\n",
    " 'WTKG3',\n",
    " '_BMI5',\n",
    " '_BMI5CAT',\n",
    " '_RFBMI5',\n",
    " '_CHLDCNT',\n",
    " '_EDUCAG',\n",
    " '_INCOMG',\n",
    " '_SMOKER3',\n",
    " '_RFSMOK3',\n",
    " 'DRNKANY5',\n",
    " 'DROCDY3_',\n",
    " '_PNEUMO3',\n",
    " '_RFSEAT2',\n",
    " '_RFSEAT3',\n",
    " '_DRNKDRV']]"
   ]
  },
  {
   "cell_type": "code",
   "execution_count": 3,
   "metadata": {},
   "outputs": [
    {
     "data": {
      "text/html": [
       "<div>\n",
       "<style scoped>\n",
       "    .dataframe tbody tr th:only-of-type {\n",
       "        vertical-align: middle;\n",
       "    }\n",
       "\n",
       "    .dataframe tbody tr th {\n",
       "        vertical-align: top;\n",
       "    }\n",
       "\n",
       "    .dataframe thead th {\n",
       "        text-align: right;\n",
       "    }\n",
       "</style>\n",
       "<table border=\"1\" class=\"dataframe\">\n",
       "  <thead>\n",
       "    <tr style=\"text-align: right;\">\n",
       "      <th></th>\n",
       "      <th>GENHLTH</th>\n",
       "      <th>PHYSHLTH</th>\n",
       "      <th>MENTHLTH</th>\n",
       "      <th>POORHLTH</th>\n",
       "      <th>HLTHPLN1</th>\n",
       "      <th>PERSDOC2</th>\n",
       "      <th>MEDCOST</th>\n",
       "      <th>CHECKUP1</th>\n",
       "      <th>EXERANY2</th>\n",
       "      <th>SLEPTIM1</th>\n",
       "      <th>...</th>\n",
       "      <th>_EDUCAG</th>\n",
       "      <th>_INCOMG</th>\n",
       "      <th>_SMOKER3</th>\n",
       "      <th>_RFSMOK3</th>\n",
       "      <th>DRNKANY5</th>\n",
       "      <th>DROCDY3_</th>\n",
       "      <th>_PNEUMO3</th>\n",
       "      <th>_RFSEAT2</th>\n",
       "      <th>_RFSEAT3</th>\n",
       "      <th>_DRNKDRV</th>\n",
       "    </tr>\n",
       "  </thead>\n",
       "  <tbody>\n",
       "    <tr>\n",
       "      <th>0</th>\n",
       "      <td>2.0</td>\n",
       "      <td>3.0</td>\n",
       "      <td>30.0</td>\n",
       "      <td>3.0</td>\n",
       "      <td>2.0</td>\n",
       "      <td>3.0</td>\n",
       "      <td>1.0</td>\n",
       "      <td>4.0</td>\n",
       "      <td>1.0</td>\n",
       "      <td>5.0</td>\n",
       "      <td>...</td>\n",
       "      <td>4.0</td>\n",
       "      <td>1.0</td>\n",
       "      <td>1.0</td>\n",
       "      <td>2.0</td>\n",
       "      <td>2.0</td>\n",
       "      <td>5.397605e-79</td>\n",
       "      <td>NaN</td>\n",
       "      <td>1.0</td>\n",
       "      <td>1.0</td>\n",
       "      <td>9.0</td>\n",
       "    </tr>\n",
       "    <tr>\n",
       "      <th>1</th>\n",
       "      <td>3.0</td>\n",
       "      <td>88.0</td>\n",
       "      <td>88.0</td>\n",
       "      <td>NaN</td>\n",
       "      <td>1.0</td>\n",
       "      <td>1.0</td>\n",
       "      <td>1.0</td>\n",
       "      <td>1.0</td>\n",
       "      <td>1.0</td>\n",
       "      <td>7.0</td>\n",
       "      <td>...</td>\n",
       "      <td>4.0</td>\n",
       "      <td>9.0</td>\n",
       "      <td>9.0</td>\n",
       "      <td>9.0</td>\n",
       "      <td>9.0</td>\n",
       "      <td>9.000000e+02</td>\n",
       "      <td>9.0</td>\n",
       "      <td>9.0</td>\n",
       "      <td>9.0</td>\n",
       "      <td>9.0</td>\n",
       "    </tr>\n",
       "    <tr>\n",
       "      <th>2</th>\n",
       "      <td>3.0</td>\n",
       "      <td>88.0</td>\n",
       "      <td>88.0</td>\n",
       "      <td>NaN</td>\n",
       "      <td>1.0</td>\n",
       "      <td>1.0</td>\n",
       "      <td>2.0</td>\n",
       "      <td>1.0</td>\n",
       "      <td>1.0</td>\n",
       "      <td>7.0</td>\n",
       "      <td>...</td>\n",
       "      <td>3.0</td>\n",
       "      <td>5.0</td>\n",
       "      <td>4.0</td>\n",
       "      <td>1.0</td>\n",
       "      <td>2.0</td>\n",
       "      <td>5.397605e-79</td>\n",
       "      <td>2.0</td>\n",
       "      <td>1.0</td>\n",
       "      <td>1.0</td>\n",
       "      <td>9.0</td>\n",
       "    </tr>\n",
       "    <tr>\n",
       "      <th>3</th>\n",
       "      <td>1.0</td>\n",
       "      <td>88.0</td>\n",
       "      <td>88.0</td>\n",
       "      <td>NaN</td>\n",
       "      <td>1.0</td>\n",
       "      <td>3.0</td>\n",
       "      <td>2.0</td>\n",
       "      <td>2.0</td>\n",
       "      <td>2.0</td>\n",
       "      <td>6.0</td>\n",
       "      <td>...</td>\n",
       "      <td>2.0</td>\n",
       "      <td>9.0</td>\n",
       "      <td>4.0</td>\n",
       "      <td>1.0</td>\n",
       "      <td>2.0</td>\n",
       "      <td>5.397605e-79</td>\n",
       "      <td>2.0</td>\n",
       "      <td>1.0</td>\n",
       "      <td>1.0</td>\n",
       "      <td>9.0</td>\n",
       "    </tr>\n",
       "    <tr>\n",
       "      <th>4</th>\n",
       "      <td>2.0</td>\n",
       "      <td>88.0</td>\n",
       "      <td>88.0</td>\n",
       "      <td>NaN</td>\n",
       "      <td>1.0</td>\n",
       "      <td>1.0</td>\n",
       "      <td>2.0</td>\n",
       "      <td>1.0</td>\n",
       "      <td>1.0</td>\n",
       "      <td>7.0</td>\n",
       "      <td>...</td>\n",
       "      <td>4.0</td>\n",
       "      <td>9.0</td>\n",
       "      <td>4.0</td>\n",
       "      <td>1.0</td>\n",
       "      <td>2.0</td>\n",
       "      <td>5.397605e-79</td>\n",
       "      <td>1.0</td>\n",
       "      <td>1.0</td>\n",
       "      <td>1.0</td>\n",
       "      <td>9.0</td>\n",
       "    </tr>\n",
       "  </tbody>\n",
       "</table>\n",
       "<p>5 rows × 174 columns</p>\n",
       "</div>"
      ],
      "text/plain": [
       "   GENHLTH  PHYSHLTH  MENTHLTH  POORHLTH  HLTHPLN1  PERSDOC2  MEDCOST  \\\n",
       "0      2.0       3.0      30.0       3.0       2.0       3.0      1.0   \n",
       "1      3.0      88.0      88.0       NaN       1.0       1.0      1.0   \n",
       "2      3.0      88.0      88.0       NaN       1.0       1.0      2.0   \n",
       "3      1.0      88.0      88.0       NaN       1.0       3.0      2.0   \n",
       "4      2.0      88.0      88.0       NaN       1.0       1.0      2.0   \n",
       "\n",
       "   CHECKUP1  EXERANY2  SLEPTIM1  ...  _EDUCAG  _INCOMG  _SMOKER3  _RFSMOK3  \\\n",
       "0       4.0       1.0       5.0  ...      4.0      1.0       1.0       2.0   \n",
       "1       1.0       1.0       7.0  ...      4.0      9.0       9.0       9.0   \n",
       "2       1.0       1.0       7.0  ...      3.0      5.0       4.0       1.0   \n",
       "3       2.0       2.0       6.0  ...      2.0      9.0       4.0       1.0   \n",
       "4       1.0       1.0       7.0  ...      4.0      9.0       4.0       1.0   \n",
       "\n",
       "   DRNKANY5      DROCDY3_  _PNEUMO3  _RFSEAT2  _RFSEAT3  _DRNKDRV  \n",
       "0       2.0  5.397605e-79       NaN       1.0       1.0       9.0  \n",
       "1       9.0  9.000000e+02       9.0       9.0       9.0       9.0  \n",
       "2       2.0  5.397605e-79       2.0       1.0       1.0       9.0  \n",
       "3       2.0  5.397605e-79       2.0       1.0       1.0       9.0  \n",
       "4       2.0  5.397605e-79       1.0       1.0       1.0       9.0  \n",
       "\n",
       "[5 rows x 174 columns]"
      ]
     },
     "execution_count": 3,
     "metadata": {},
     "output_type": "execute_result"
    }
   ],
   "source": [
    "# Rename columns\n",
    "cdc_df2020 = cdc_df2020.rename(columns={\n",
    "    \"CVDCRHD4\": \"2020AnginaHeartDisease\",\n",
    "    \"LASTDEN4\": \"2020LastDental\",\n",
    "    \"RMVTETH4\": \"2020TeethRemoved\"\n",
    "})\n",
    "cdc_df2020.head()"
   ]
  },
  {
   "cell_type": "code",
   "execution_count": 4,
   "metadata": {},
   "outputs": [
    {
     "data": {
      "text/plain": [
       "2.0    376058\n",
       "1.0     22598\n",
       "7.0      2962\n",
       "9.0       337\n",
       "Name: 2020AnginaHeartDisease, dtype: int64"
      ]
     },
     "execution_count": 4,
     "metadata": {},
     "output_type": "execute_result"
    }
   ],
   "source": [
    "# Look at 2020AnginaHeartDisease value counts\n",
    "cdc_df2020['2020AnginaHeartDisease'].value_counts()"
   ]
  },
  {
   "cell_type": "code",
   "execution_count": 5,
   "metadata": {},
   "outputs": [],
   "source": [
    "# Drop 7s and 9s\n",
    "cdc_df2020 = cdc_df2020.loc[cdc_df2020[\"2020AnginaHeartDisease\"] != 7]\n",
    "cdc_df2020 = cdc_df2020.loc[cdc_df2020[\"2020AnginaHeartDisease\"] != 9]"
   ]
  },
  {
   "cell_type": "code",
   "execution_count": 6,
   "metadata": {},
   "outputs": [
    {
     "data": {
      "text/plain": [
       "2.0    376058\n",
       "1.0     22598\n",
       "Name: 2020AnginaHeartDisease, dtype: int64"
      ]
     },
     "execution_count": 6,
     "metadata": {},
     "output_type": "execute_result"
    }
   ],
   "source": [
    "# Look at 2020AnginaHeartDisease value counts\n",
    "cdc_df2020['2020AnginaHeartDisease'].value_counts()"
   ]
  },
  {
   "cell_type": "code",
   "execution_count": 7,
   "metadata": {},
   "outputs": [
    {
     "data": {
      "text/plain": [
       "1.0    265309\n",
       "2.0     49296\n",
       "4.0     41262\n",
       "3.0     36081\n",
       "7.0      4043\n",
       "8.0      2242\n",
       "9.0       419\n",
       "Name: 2020LastDental, dtype: int64"
      ]
     },
     "execution_count": 7,
     "metadata": {},
     "output_type": "execute_result"
    }
   ],
   "source": [
    "# Look at 2020LastDental value counts\n",
    "cdc_df2020['2020LastDental'].value_counts()"
   ]
  },
  {
   "cell_type": "code",
   "execution_count": 8,
   "metadata": {},
   "outputs": [],
   "source": [
    "# Drop 7s and 9s\n",
    "cdc_df2020 = cdc_df2020.loc[cdc_df2020[\"2020LastDental\"] != 7]\n",
    "cdc_df2020 = cdc_df2020.loc[cdc_df2020[\"2020LastDental\"] != 9]"
   ]
  },
  {
   "cell_type": "code",
   "execution_count": 9,
   "metadata": {},
   "outputs": [
    {
     "data": {
      "text/plain": [
       "1.0    265309\n",
       "2.0     49296\n",
       "4.0     41262\n",
       "3.0     36081\n",
       "8.0      2242\n",
       "Name: 2020LastDental, dtype: int64"
      ]
     },
     "execution_count": 9,
     "metadata": {},
     "output_type": "execute_result"
    }
   ],
   "source": [
    "# Look at 2020LastDental value counts\n",
    "cdc_df2020['2020LastDental'].value_counts()"
   ]
  },
  {
   "cell_type": "code",
   "execution_count": 10,
   "metadata": {},
   "outputs": [
    {
     "data": {
      "text/plain": [
       "8.0    206454\n",
       "1.0    114559\n",
       "2.0     40831\n",
       "3.0     23522\n",
       "7.0      8133\n",
       "9.0       691\n",
       "Name: 2020TeethRemoved, dtype: int64"
      ]
     },
     "execution_count": 10,
     "metadata": {},
     "output_type": "execute_result"
    }
   ],
   "source": [
    "# Look at 2020TeethRemoved value counts\n",
    "cdc_df2020['2020TeethRemoved'].value_counts()"
   ]
  },
  {
   "cell_type": "code",
   "execution_count": 11,
   "metadata": {},
   "outputs": [],
   "source": [
    "# Drop 7s and 9s\n",
    "cdc_df2020 = cdc_df2020.loc[cdc_df2020[\"2020TeethRemoved\"] != 7]\n",
    "cdc_df2020 = cdc_df2020.loc[cdc_df2020[\"2020TeethRemoved\"] != 9]"
   ]
  },
  {
   "cell_type": "code",
   "execution_count": 12,
   "metadata": {},
   "outputs": [
    {
     "data": {
      "text/plain": [
       "8.0    206454\n",
       "1.0    114559\n",
       "2.0     40831\n",
       "3.0     23522\n",
       "Name: 2020TeethRemoved, dtype: int64"
      ]
     },
     "execution_count": 12,
     "metadata": {},
     "output_type": "execute_result"
    }
   ],
   "source": [
    "# Look at 2020TeethRemoved value counts\n",
    "cdc_df2020['2020TeethRemoved'].value_counts()"
   ]
  },
  {
   "cell_type": "code",
   "execution_count": 13,
   "metadata": {},
   "outputs": [],
   "source": [
    "#Removing null values\n",
    "cdc_df2020 = cdc_df2020.fillna(0)\n",
    "cdc_df2020 = cdc_df2020.replace((np.inf, -np.inf, np.nan), 0)"
   ]
  },
  {
   "cell_type": "code",
   "execution_count": 14,
   "metadata": {},
   "outputs": [],
   "source": [
    "# Drop 0s\n",
    "cdc_df2020 = cdc_df2020.loc[cdc_df2020[\"2020AnginaHeartDisease\"] != 0]"
   ]
  },
  {
   "cell_type": "code",
   "execution_count": 15,
   "metadata": {},
   "outputs": [
    {
     "data": {
      "text/plain": [
       "2.0    363813\n",
       "1.0     21557\n",
       "Name: 2020AnginaHeartDisease, dtype: int64"
      ]
     },
     "execution_count": 15,
     "metadata": {},
     "output_type": "execute_result"
    }
   ],
   "source": [
    "# Look at 2020AnginaHeartDisease value counts\n",
    "cdc_df2020['2020AnginaHeartDisease'].value_counts()"
   ]
  },
  {
   "cell_type": "code",
   "execution_count": 16,
   "metadata": {},
   "outputs": [
    {
     "name": "stdout",
     "output_type": "stream",
     "text": [
      "GENHLTH     0\n",
      "PHYSHLTH    0\n",
      "MENTHLTH    0\n",
      "POORHLTH    0\n",
      "HLTHPLN1    0\n",
      "           ..\n",
      "DROCDY3_    0\n",
      "_PNEUMO3    0\n",
      "_RFSEAT2    0\n",
      "_RFSEAT3    0\n",
      "_DRNKDRV    0\n",
      "Length: 174, dtype: int64\n"
     ]
    }
   ],
   "source": [
    "print(cdc_df2020.isnull().sum())"
   ]
  },
  {
   "cell_type": "code",
   "execution_count": 17,
   "metadata": {},
   "outputs": [],
   "source": [
    "# Split our preprocessed data into our features and target arrays\n",
    "y = cdc_df2020[\"2020AnginaHeartDisease\"]\n",
    "X = cdc_df2020.drop(columns=[\"2020AnginaHeartDisease\"])\n",
    "\n",
    "# Split the preprocessed data into a training and testing dataset\n",
    "X_train, X_test, y_train, y_test = train_test_split(X, y, random_state=1)"
   ]
  },
  {
   "cell_type": "code",
   "execution_count": 18,
   "metadata": {},
   "outputs": [
    {
     "data": {
      "text/plain": [
       "(385370, 173)"
      ]
     },
     "execution_count": 18,
     "metadata": {},
     "output_type": "execute_result"
    }
   ],
   "source": [
    "X.shape"
   ]
  },
  {
   "cell_type": "code",
   "execution_count": 19,
   "metadata": {},
   "outputs": [
    {
     "data": {
      "text/plain": [
       "(385370,)"
      ]
     },
     "execution_count": 19,
     "metadata": {},
     "output_type": "execute_result"
    }
   ],
   "source": [
    "y.shape"
   ]
  },
  {
   "cell_type": "code",
   "execution_count": 20,
   "metadata": {},
   "outputs": [
    {
     "name": "stderr",
     "output_type": "stream",
     "text": [
      "/Users/leahkrausetp/opt/anaconda3/envs/PythonData/lib/python3.7/site-packages/sklearn/linear_model/_logistic.py:818: ConvergenceWarning: lbfgs failed to converge (status=1):\n",
      "STOP: TOTAL NO. of ITERATIONS REACHED LIMIT.\n",
      "\n",
      "Increase the number of iterations (max_iter) or scale the data as shown in:\n",
      "    https://scikit-learn.org/stable/modules/preprocessing.html\n",
      "Please also refer to the documentation for alternative solver options:\n",
      "    https://scikit-learn.org/stable/modules/linear_model.html#logistic-regression\n",
      "  extra_warning_msg=_LOGISTIC_SOLVER_CONVERGENCE_MSG,\n"
     ]
    },
    {
     "name": "stdout",
     "output_type": "stream",
     "text": [
      "*******   LogisticRegression   ******\n",
      "balanced accuracy score: 0.5000939496429914\n",
      "              precision    recall  f1-score   support\n",
      "\n",
      "         YES       1.00      0.00      0.00      5322\n",
      "          NO       0.94      1.00      0.97     91021\n",
      "\n",
      "    accuracy                           0.94     96343\n",
      "   macro avg       0.97      0.50      0.49     96343\n",
      "weighted avg       0.95      0.94      0.92     96343\n",
      "\n",
      "****************************************\n",
      "*******   RandomForest   ******\n",
      "balanced accuracy score: 0.904061027688144\n",
      "              precision    recall  f1-score   support\n",
      "\n",
      "         YES       0.77      0.82      0.79      5322\n",
      "          NO       0.99      0.99      0.99     91021\n",
      "\n",
      "    accuracy                           0.98     96343\n",
      "   macro avg       0.88      0.90      0.89     96343\n",
      "weighted avg       0.98      0.98      0.98     96343\n",
      "\n",
      "****************************************\n",
      "*******   GaussianNB   ******\n",
      "balanced accuracy score: 0.5\n"
     ]
    },
    {
     "name": "stderr",
     "output_type": "stream",
     "text": [
      "/Users/leahkrausetp/opt/anaconda3/envs/PythonData/lib/python3.7/site-packages/sklearn/metrics/_classification.py:1318: UndefinedMetricWarning: Precision and F-score are ill-defined and being set to 0.0 in labels with no predicted samples. Use `zero_division` parameter to control this behavior.\n",
      "  _warn_prf(average, modifier, msg_start, len(result))\n",
      "/Users/leahkrausetp/opt/anaconda3/envs/PythonData/lib/python3.7/site-packages/sklearn/metrics/_classification.py:1318: UndefinedMetricWarning: Precision and F-score are ill-defined and being set to 0.0 in labels with no predicted samples. Use `zero_division` parameter to control this behavior.\n",
      "  _warn_prf(average, modifier, msg_start, len(result))\n",
      "/Users/leahkrausetp/opt/anaconda3/envs/PythonData/lib/python3.7/site-packages/sklearn/metrics/_classification.py:1318: UndefinedMetricWarning: Precision and F-score are ill-defined and being set to 0.0 in labels with no predicted samples. Use `zero_division` parameter to control this behavior.\n",
      "  _warn_prf(average, modifier, msg_start, len(result))\n"
     ]
    },
    {
     "name": "stdout",
     "output_type": "stream",
     "text": [
      "              precision    recall  f1-score   support\n",
      "\n",
      "         YES       0.00      0.00      0.00      5322\n",
      "          NO       0.94      1.00      0.97     91021\n",
      "\n",
      "    accuracy                           0.94     96343\n",
      "   macro avg       0.47      0.50      0.49     96343\n",
      "weighted avg       0.89      0.94      0.92     96343\n",
      "\n",
      "****************************************\n",
      "*******   BaggingClassifier   ******\n",
      "balanced accuracy score: 0.9012340693987138\n",
      "              precision    recall  f1-score   support\n",
      "\n",
      "         YES       0.80      0.81      0.81      5322\n",
      "          NO       0.99      0.99      0.99     91021\n",
      "\n",
      "    accuracy                           0.98     96343\n",
      "   macro avg       0.89      0.90      0.90     96343\n",
      "weighted avg       0.98      0.98      0.98     96343\n",
      "\n",
      "****************************************\n",
      "*******   KNeighborsClassifier   ******\n",
      "balanced accuracy score: 0.5000939496429914\n",
      "              precision    recall  f1-score   support\n",
      "\n",
      "         YES       1.00      0.00      0.00      5322\n",
      "          NO       0.94      1.00      0.97     91021\n",
      "\n",
      "    accuracy                           0.94     96343\n",
      "   macro avg       0.97      0.50      0.49     96343\n",
      "weighted avg       0.95      0.94      0.92     96343\n",
      "\n",
      "****************************************\n"
     ]
    }
   ],
   "source": [
    "lr_model=LogisticRegression(max_iter=200,random_state=1)\n",
    "rf_model=RandomForestClassifier(random_state=56,n_estimators=20)\n",
    "gnb_model=GaussianNB(var_smoothing=1e-03)\n",
    "bg_model=BaggingClassifier(n_estimators=13,random_state=2)\n",
    "knn_model=KNeighborsClassifier(n_neighbors=20)\n",
    "\n",
    "models={\"LogisticRegression\":lr_model,\n",
    "        'RandomForest':rf_model,\n",
    "        'GaussianNB':gnb_model,\n",
    "        'BaggingClassifier':bg_model,\n",
    "        'KNeighborsClassifier':knn_model}\n",
    "\n",
    "for x in models:\n",
    "    model=models[x]\n",
    "    model.fit(X_train,y_train)\n",
    "    predictions=model.predict(X_test)\n",
    "    print(f'*******   {x}   ******')\n",
    "    print(f\"balanced accuracy score: {balanced_accuracy_score(y_test, predictions)}\")\n",
    "    # Print the classification report for the model\n",
    "    target_names = [\"YES\", \"NO\"]\n",
    "    print(classification_report(y_test, predictions, target_names=target_names))\n",
    "    print('*'*40)"
   ]
  },
  {
   "cell_type": "code",
   "execution_count": 21,
   "metadata": {},
   "outputs": [],
   "source": [
    "# Create a StandardScaler instances\n",
    "scaler = StandardScaler()\n",
    "\n",
    "# Fit the StandardScaler\n",
    "X_scaler = scaler.fit(X_train)\n",
    "\n",
    "# Scale the data\n",
    "X_train_scaled = X_scaler.transform(X_train)\n",
    "X_test_scaled = X_scaler.transform(X_test)"
   ]
  },
  {
   "cell_type": "code",
   "execution_count": 22,
   "metadata": {},
   "outputs": [],
   "source": [
    "# Create a random forest classifier instance\n",
    "rf_model = RandomForestClassifier(n_estimators=500, random_state=78)"
   ]
  },
  {
   "cell_type": "code",
   "execution_count": 23,
   "metadata": {},
   "outputs": [],
   "source": [
    "# Fit the model\n",
    "rf_model = rf_model.fit(X_train_scaled, y_train)"
   ]
  },
  {
   "cell_type": "code",
   "execution_count": 24,
   "metadata": {},
   "outputs": [],
   "source": [
    "# Making predictions using the testing data\n",
    "predictions = rf_model.predict(X_test_scaled)"
   ]
  },
  {
   "cell_type": "code",
   "execution_count": 25,
   "metadata": {},
   "outputs": [],
   "source": [
    "# Calculating the confusion matrix\n",
    "from sklearn.metrics import confusion_matrix, accuracy_score, classification_report\n",
    "\n",
    "cm = confusion_matrix(y_test, predictions)"
   ]
  },
  {
   "cell_type": "code",
   "execution_count": 26,
   "metadata": {},
   "outputs": [],
   "source": [
    "# Calculate the accuracy score\n",
    "acc_score = accuracy_score(y_test, predictions)"
   ]
  },
  {
   "cell_type": "code",
   "execution_count": 27,
   "metadata": {},
   "outputs": [
    {
     "name": "stdout",
     "output_type": "stream",
     "text": [
      "Confusion Matrix\n"
     ]
    },
    {
     "data": {
      "text/plain": [
       "array([[ 4463,   859],\n",
       "       [ 1127, 89894]])"
      ]
     },
     "metadata": {},
     "output_type": "display_data"
    },
    {
     "name": "stdout",
     "output_type": "stream",
     "text": [
      "Accuracy Score: 0.979386151562646\n",
      "Classification Report\n",
      "              precision    recall  f1-score   support\n",
      "\n",
      "         YES       0.80      0.84      0.82      5322\n",
      "          NO       0.99      0.99      0.99     91021\n",
      "\n",
      "    accuracy                           0.98     96343\n",
      "   macro avg       0.89      0.91      0.90     96343\n",
      "weighted avg       0.98      0.98      0.98     96343\n",
      "\n"
     ]
    }
   ],
   "source": [
    "# Displaying results\n",
    "target_names = [\"YES\", \"NO\"]\n",
    "print(\"Confusion Matrix\")\n",
    "display(cm)\n",
    "print(f\"Accuracy Score: {acc_score}\")\n",
    "print(\"Classification Report\")\n",
    "print(classification_report(y_test, predictions, target_names=target_names))"
   ]
  },
  {
   "cell_type": "code",
   "execution_count": 28,
   "metadata": {},
   "outputs": [
    {
     "name": "stderr",
     "output_type": "stream",
     "text": [
      "2023-05-23 14:25:03.828908: I tensorflow/core/platform/cpu_feature_guard.cc:145] This TensorFlow binary is optimized with Intel(R) MKL-DNN to use the following CPU instructions in performance critical operations:  SSE4.1 SSE4.2\n",
      "To enable them in non-MKL-DNN operations, rebuild TensorFlow with the appropriate compiler flags.\n",
      "2023-05-23 14:25:03.831562: I tensorflow/core/common_runtime/process_util.cc:115] Creating new thread pool with default inter op setting: 8. Tune using inter_op_parallelism_threads for best performance.\n"
     ]
    },
    {
     "name": "stdout",
     "output_type": "stream",
     "text": [
      "Model: \"sequential\"\n",
      "_________________________________________________________________\n",
      "Layer (type)                 Output Shape              Param #   \n",
      "=================================================================\n",
      "dense (Dense)                (None, 300)               86708400  \n",
      "_________________________________________________________________\n",
      "dense_1 (Dense)              (None, 150)               45150     \n",
      "_________________________________________________________________\n",
      "dense_2 (Dense)              (None, 75)                11325     \n",
      "_________________________________________________________________\n",
      "dense_3 (Dense)              (None, 1)                 76        \n",
      "=================================================================\n",
      "Total params: 86,764,951\n",
      "Trainable params: 86,764,951\n",
      "Non-trainable params: 0\n",
      "_________________________________________________________________\n"
     ]
    }
   ],
   "source": [
    "# Define the model - deep neural net, i.e., the number of input features and hidden nodes for each layer.\n",
    "number_input_features = len(X_train)\n",
    "hidden_nodes_layer1 = 300\n",
    "hidden_nodes_layer2 = 150\n",
    "hidden_nodes_layer3 = 75\n",
    "\n",
    "nn = tf.keras.models.Sequential()\n",
    "\n",
    "# First hidden layer\n",
    "nn.add(\n",
    "    tf.keras.layers.Dense(units=hidden_nodes_layer1, input_dim=number_input_features, activation=\"relu\")\n",
    ")\n",
    "\n",
    "# Second hidden layer\n",
    "nn.add(\n",
    "    tf.keras.layers.Dense(units=hidden_nodes_layer2, activation=\"sigmoid\")\n",
    ")\n",
    "\n",
    "# Third hidden layer\n",
    "nn.add(\n",
    "    tf.keras.layers.Dense(units=hidden_nodes_layer3, activation=\"sigmoid\")\n",
    ")\n",
    "\n",
    "# Output layer\n",
    "nn.add(tf.keras.layers.Dense(units=1, activation=\"sigmoid\"))\n",
    "\n",
    "# Check the structure of the model\n",
    "nn.summary()"
   ]
  },
  {
   "cell_type": "code",
   "execution_count": 29,
   "metadata": {},
   "outputs": [],
   "source": [
    "# Create a random forest classifier instance\n",
    "rf_model = RandomForestClassifier(n_estimators=500, random_state=78)"
   ]
  },
  {
   "cell_type": "code",
   "execution_count": 30,
   "metadata": {},
   "outputs": [],
   "source": [
    "# Fit the model\n",
    "rf_model = rf_model.fit(X_train_scaled, y_train)"
   ]
  },
  {
   "cell_type": "code",
   "execution_count": 31,
   "metadata": {},
   "outputs": [],
   "source": [
    "# Making predictions using the testing data\n",
    "predictions = rf_model.predict(X_test_scaled)"
   ]
  },
  {
   "cell_type": "code",
   "execution_count": 32,
   "metadata": {},
   "outputs": [],
   "source": [
    "# Calculating the confusion matrix \n",
    "cm = confusion_matrix(y_test, predictions)\n",
    "cm_df = pd.DataFrame(\n",
    "    cm, index=[\"Actual 0\", \"Actual 1\"], columns=[\"Predicted 0\", \"Predicted 1\"]\n",
    ")\n",
    "\n",
    "# Calculating the accuracy score\n",
    "acc_score = accuracy_score(y_test, predictions)"
   ]
  },
  {
   "cell_type": "code",
   "execution_count": 33,
   "metadata": {},
   "outputs": [
    {
     "name": "stdout",
     "output_type": "stream",
     "text": [
      "Confusion Matrix\n"
     ]
    },
    {
     "data": {
      "text/html": [
       "<div>\n",
       "<style scoped>\n",
       "    .dataframe tbody tr th:only-of-type {\n",
       "        vertical-align: middle;\n",
       "    }\n",
       "\n",
       "    .dataframe tbody tr th {\n",
       "        vertical-align: top;\n",
       "    }\n",
       "\n",
       "    .dataframe thead th {\n",
       "        text-align: right;\n",
       "    }\n",
       "</style>\n",
       "<table border=\"1\" class=\"dataframe\">\n",
       "  <thead>\n",
       "    <tr style=\"text-align: right;\">\n",
       "      <th></th>\n",
       "      <th>Predicted 0</th>\n",
       "      <th>Predicted 1</th>\n",
       "    </tr>\n",
       "  </thead>\n",
       "  <tbody>\n",
       "    <tr>\n",
       "      <th>Actual 0</th>\n",
       "      <td>4463</td>\n",
       "      <td>859</td>\n",
       "    </tr>\n",
       "    <tr>\n",
       "      <th>Actual 1</th>\n",
       "      <td>1127</td>\n",
       "      <td>89894</td>\n",
       "    </tr>\n",
       "  </tbody>\n",
       "</table>\n",
       "</div>"
      ],
      "text/plain": [
       "          Predicted 0  Predicted 1\n",
       "Actual 0         4463          859\n",
       "Actual 1         1127        89894"
      ]
     },
     "metadata": {},
     "output_type": "display_data"
    },
    {
     "name": "stdout",
     "output_type": "stream",
     "text": [
      "Accuracy Score:  {0.979386151562646}\n",
      "Classification Report\n",
      "              precision    recall  f1-score   support\n",
      "\n",
      "         1.0       0.80      0.84      0.82      5322\n",
      "         2.0       0.99      0.99      0.99     91021\n",
      "\n",
      "    accuracy                           0.98     96343\n",
      "   macro avg       0.89      0.91      0.90     96343\n",
      "weighted avg       0.98      0.98      0.98     96343\n",
      "\n"
     ]
    }
   ],
   "source": [
    "# Displaying results\n",
    "print(\"Confusion Matrix\")\n",
    "display(cm_df)\n",
    "print(\"Accuracy Score: \",  {acc_score})\n",
    "print(\"Classification Report\")\n",
    "print(classification_report(y_test, predictions))"
   ]
  },
  {
   "cell_type": "code",
   "execution_count": 34,
   "metadata": {},
   "outputs": [],
   "source": [
    "# Correlation set up\n",
    "\n",
    "import numpy as np\n",
    "import scipy.stats as st\n",
    "\n",
    "teeth_removed = cdc_df2020[\"2020TeethRemoved\"]\n",
    "last_dental = cdc_df2020[\"2020LastDental\"]\n",
    "heart_issues = cdc_df2020['2020AnginaHeartDisease']"
   ]
  },
  {
   "cell_type": "code",
   "execution_count": 35,
   "metadata": {},
   "outputs": [
    {
     "name": "stdout",
     "output_type": "stream",
     "text": [
      "The correlation between amount of teeth removed and the presence of angina/coronary heart disease in 2020 is 0.11\n",
      "The correlation between last dental appointment and the presence of angina/coronary heart disease in 2020 is -0.05\n"
     ]
    }
   ],
   "source": [
    "# Correlation factors\n",
    "\n",
    "corr1 = st.pearsonr(teeth_removed, heart_issues)\n",
    "print(f\"The correlation between amount of teeth removed and the\\\n",
    " presence of angina/coronary heart disease in 2020 is {round(corr1[0],2)}\")\n",
    "corr2 = st.pearsonr(last_dental, heart_issues)\n",
    "print(f\"The correlation between last dental appointment and the\\\n",
    " presence of angina/coronary heart disease in 2020 is {round(corr2[0],2)}\")"
   ]
  },
  {
   "cell_type": "code",
   "execution_count": 36,
   "metadata": {},
   "outputs": [
    {
     "data": {
      "text/html": [
       "<div>\n",
       "<style scoped>\n",
       "    .dataframe tbody tr th:only-of-type {\n",
       "        vertical-align: middle;\n",
       "    }\n",
       "\n",
       "    .dataframe tbody tr th {\n",
       "        vertical-align: top;\n",
       "    }\n",
       "\n",
       "    .dataframe thead th {\n",
       "        text-align: right;\n",
       "    }\n",
       "</style>\n",
       "<table border=\"1\" class=\"dataframe\">\n",
       "  <thead>\n",
       "    <tr style=\"text-align: right;\">\n",
       "      <th></th>\n",
       "      <th>2020TeethRemoved</th>\n",
       "      <th>2020LastDental</th>\n",
       "      <th>2020AnginaHeartDisease</th>\n",
       "    </tr>\n",
       "  </thead>\n",
       "  <tbody>\n",
       "    <tr>\n",
       "      <th>0</th>\n",
       "      <td>2.0</td>\n",
       "      <td>1.0</td>\n",
       "      <td>2.0</td>\n",
       "    </tr>\n",
       "    <tr>\n",
       "      <th>1</th>\n",
       "      <td>1.0</td>\n",
       "      <td>1.0</td>\n",
       "      <td>2.0</td>\n",
       "    </tr>\n",
       "    <tr>\n",
       "      <th>5</th>\n",
       "      <td>1.0</td>\n",
       "      <td>3.0</td>\n",
       "      <td>2.0</td>\n",
       "    </tr>\n",
       "    <tr>\n",
       "      <th>6</th>\n",
       "      <td>1.0</td>\n",
       "      <td>1.0</td>\n",
       "      <td>2.0</td>\n",
       "    </tr>\n",
       "    <tr>\n",
       "      <th>8</th>\n",
       "      <td>8.0</td>\n",
       "      <td>1.0</td>\n",
       "      <td>2.0</td>\n",
       "    </tr>\n",
       "  </tbody>\n",
       "</table>\n",
       "</div>"
      ],
      "text/plain": [
       "   2020TeethRemoved  2020LastDental  2020AnginaHeartDisease\n",
       "0               2.0             1.0                     2.0\n",
       "1               1.0             1.0                     2.0\n",
       "5               1.0             3.0                     2.0\n",
       "6               1.0             1.0                     2.0\n",
       "8               8.0             1.0                     2.0"
      ]
     },
     "execution_count": 36,
     "metadata": {},
     "output_type": "execute_result"
    }
   ],
   "source": [
    "# Create variable-isolated DFs for heatmap\n",
    "heatmap_df20 = pd.DataFrame({\n",
    "    \"2020TeethRemoved\": teeth_removed,\n",
    "    \"2020LastDental\": last_dental,\n",
    "    \"2020AnginaHeartDisease\": heart_issues\n",
    "})\n",
    "\n",
    "heatmap_df20.head()"
   ]
  },
  {
   "cell_type": "code",
   "execution_count": 40,
   "metadata": {},
   "outputs": [
    {
     "name": "stdout",
     "output_type": "stream",
     "text": [
      "2020TeethRemoved    0.11\n",
      "2020LastDental     -0.05\n",
      "dtype: float64\n"
     ]
    }
   ],
   "source": [
    "print(round(heatmap_df20.corrwith(heatmap_df20['2020AnginaHeartDisease']),2).sort_values(ascending=False).drop('2020AnginaHeartDisease'))"
   ]
  }
 ],
 "metadata": {
  "kernelspec": {
   "display_name": "Python 3.7.15 ('PythonData')",
   "language": "python",
   "name": "python3"
  },
  "language_info": {
   "codemirror_mode": {
    "name": "ipython",
    "version": 3
   },
   "file_extension": ".py",
   "mimetype": "text/x-python",
   "name": "python",
   "nbconvert_exporter": "python",
   "pygments_lexer": "ipython3",
   "version": "3.7.15"
  },
  "orig_nbformat": 4,
  "vscode": {
   "interpreter": {
    "hash": "991b520b0e943efc991a72c3df0cafb8b21de18364414f2aa41c862fb08d1a1b"
   }
  }
 },
 "nbformat": 4,
 "nbformat_minor": 2
}
