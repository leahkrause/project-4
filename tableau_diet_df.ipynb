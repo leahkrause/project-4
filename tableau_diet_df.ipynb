{
 "cells": [
  {
   "cell_type": "code",
   "execution_count": 2,
   "metadata": {},
   "outputs": [],
   "source": [
    "#import dependencies\n",
    "import pandas as pd"
   ]
  },
  {
   "cell_type": "code",
   "execution_count": 24,
   "metadata": {},
   "outputs": [
    {
     "data": {
      "text/html": [
       "<div>\n",
       "<style scoped>\n",
       "    .dataframe tbody tr th:only-of-type {\n",
       "        vertical-align: middle;\n",
       "    }\n",
       "\n",
       "    .dataframe tbody tr th {\n",
       "        vertical-align: top;\n",
       "    }\n",
       "\n",
       "    .dataframe thead th {\n",
       "        text-align: right;\n",
       "    }\n",
       "</style>\n",
       "<table border=\"1\" class=\"dataframe\">\n",
       "  <thead>\n",
       "    <tr style=\"text-align: right;\">\n",
       "      <th></th>\n",
       "      <th>Unnamed: 0</th>\n",
       "      <th>AGE</th>\n",
       "      <th>BMI</th>\n",
       "      <th>EDUCATION</th>\n",
       "      <th>INCOME</th>\n",
       "      <th>INSURANCE</th>\n",
       "      <th>MARITAL_STATUS</th>\n",
       "      <th>RACE</th>\n",
       "      <th>SEX</th>\n",
       "      <th>STATE</th>\n",
       "      <th>...</th>\n",
       "      <th>DIFFWALK</th>\n",
       "      <th>ATE_FRUIT</th>\n",
       "      <th>ATE_VEGGIES</th>\n",
       "      <th>FRIES</th>\n",
       "      <th>FRUIT</th>\n",
       "      <th>GREENS</th>\n",
       "      <th>JUICE</th>\n",
       "      <th>POTATOES</th>\n",
       "      <th>VEGETABLES</th>\n",
       "      <th>WTCHSALT</th>\n",
       "    </tr>\n",
       "  </thead>\n",
       "  <tbody>\n",
       "    <tr>\n",
       "      <th>0</th>\n",
       "      <td>0</td>\n",
       "      <td>70.0</td>\n",
       "      <td>1.0</td>\n",
       "      <td>2.0</td>\n",
       "      <td>3.0</td>\n",
       "      <td>1.0</td>\n",
       "      <td>1.0</td>\n",
       "      <td>1.0</td>\n",
       "      <td>2.0</td>\n",
       "      <td>1.0</td>\n",
       "      <td>...</td>\n",
       "      <td>2.0</td>\n",
       "      <td>1.0</td>\n",
       "      <td>1.0</td>\n",
       "      <td>4.300000e+01</td>\n",
       "      <td>100.0</td>\n",
       "      <td>5.700000e+01</td>\n",
       "      <td>5.397605e-79</td>\n",
       "      <td>14.0</td>\n",
       "      <td>100.0</td>\n",
       "      <td>NaN</td>\n",
       "    </tr>\n",
       "    <tr>\n",
       "      <th>1</th>\n",
       "      <td>1</td>\n",
       "      <td>67.0</td>\n",
       "      <td>NaN</td>\n",
       "      <td>4.0</td>\n",
       "      <td>9.0</td>\n",
       "      <td>1.0</td>\n",
       "      <td>9.0</td>\n",
       "      <td>2.0</td>\n",
       "      <td>2.0</td>\n",
       "      <td>1.0</td>\n",
       "      <td>...</td>\n",
       "      <td>1.0</td>\n",
       "      <td>1.0</td>\n",
       "      <td>1.0</td>\n",
       "      <td>5.397605e-79</td>\n",
       "      <td>100.0</td>\n",
       "      <td>1.400000e+01</td>\n",
       "      <td>5.397605e-79</td>\n",
       "      <td>14.0</td>\n",
       "      <td>100.0</td>\n",
       "      <td>NaN</td>\n",
       "    </tr>\n",
       "    <tr>\n",
       "      <th>2</th>\n",
       "      <td>2</td>\n",
       "      <td>72.0</td>\n",
       "      <td>3.0</td>\n",
       "      <td>2.0</td>\n",
       "      <td>2.0</td>\n",
       "      <td>1.0</td>\n",
       "      <td>3.0</td>\n",
       "      <td>2.0</td>\n",
       "      <td>2.0</td>\n",
       "      <td>1.0</td>\n",
       "      <td>...</td>\n",
       "      <td>2.0</td>\n",
       "      <td>1.0</td>\n",
       "      <td>2.0</td>\n",
       "      <td>1.400000e+01</td>\n",
       "      <td>100.0</td>\n",
       "      <td>5.397605e-79</td>\n",
       "      <td>5.397605e-79</td>\n",
       "      <td>14.0</td>\n",
       "      <td>43.0</td>\n",
       "      <td>NaN</td>\n",
       "    </tr>\n",
       "    <tr>\n",
       "      <th>3</th>\n",
       "      <td>3</td>\n",
       "      <td>62.0</td>\n",
       "      <td>4.0</td>\n",
       "      <td>2.0</td>\n",
       "      <td>5.0</td>\n",
       "      <td>1.0</td>\n",
       "      <td>1.0</td>\n",
       "      <td>1.0</td>\n",
       "      <td>2.0</td>\n",
       "      <td>1.0</td>\n",
       "      <td>...</td>\n",
       "      <td>2.0</td>\n",
       "      <td>1.0</td>\n",
       "      <td>1.0</td>\n",
       "      <td>5.700000e+01</td>\n",
       "      <td>43.0</td>\n",
       "      <td>1.000000e+01</td>\n",
       "      <td>7.100000e+01</td>\n",
       "      <td>27.0</td>\n",
       "      <td>71.0</td>\n",
       "      <td>NaN</td>\n",
       "    </tr>\n",
       "    <tr>\n",
       "      <th>4</th>\n",
       "      <td>4</td>\n",
       "      <td>76.0</td>\n",
       "      <td>3.0</td>\n",
       "      <td>1.0</td>\n",
       "      <td>2.0</td>\n",
       "      <td>1.0</td>\n",
       "      <td>1.0</td>\n",
       "      <td>7.0</td>\n",
       "      <td>1.0</td>\n",
       "      <td>1.0</td>\n",
       "      <td>...</td>\n",
       "      <td>1.0</td>\n",
       "      <td>1.0</td>\n",
       "      <td>1.0</td>\n",
       "      <td>2.900000e+01</td>\n",
       "      <td>100.0</td>\n",
       "      <td>1.000000e+02</td>\n",
       "      <td>5.397605e-79</td>\n",
       "      <td>29.0</td>\n",
       "      <td>100.0</td>\n",
       "      <td>NaN</td>\n",
       "    </tr>\n",
       "  </tbody>\n",
       "</table>\n",
       "<p>5 rows × 38 columns</p>\n",
       "</div>"
      ],
      "text/plain": [
       "   Unnamed: 0   AGE  BMI  EDUCATION  INCOME  INSURANCE  MARITAL_STATUS  RACE  \\\n",
       "0           0  70.0  1.0        2.0     3.0        1.0             1.0   1.0   \n",
       "1           1  67.0  NaN        4.0     9.0        1.0             9.0   2.0   \n",
       "2           2  72.0  3.0        2.0     2.0        1.0             3.0   2.0   \n",
       "3           3  62.0  4.0        2.0     5.0        1.0             1.0   1.0   \n",
       "4           4  76.0  3.0        1.0     2.0        1.0             1.0   7.0   \n",
       "\n",
       "   SEX  STATE  ...  DIFFWALK  ATE_FRUIT  ATE_VEGGIES         FRIES  FRUIT  \\\n",
       "0  2.0    1.0  ...       2.0        1.0          1.0  4.300000e+01  100.0   \n",
       "1  2.0    1.0  ...       1.0        1.0          1.0  5.397605e-79  100.0   \n",
       "2  2.0    1.0  ...       2.0        1.0          2.0  1.400000e+01  100.0   \n",
       "3  2.0    1.0  ...       2.0        1.0          1.0  5.700000e+01   43.0   \n",
       "4  1.0    1.0  ...       1.0        1.0          1.0  2.900000e+01  100.0   \n",
       "\n",
       "         GREENS         JUICE  POTATOES  VEGETABLES  WTCHSALT  \n",
       "0  5.700000e+01  5.397605e-79      14.0       100.0       NaN  \n",
       "1  1.400000e+01  5.397605e-79      14.0       100.0       NaN  \n",
       "2  5.397605e-79  5.397605e-79      14.0        43.0       NaN  \n",
       "3  1.000000e+01  7.100000e+01      27.0        71.0       NaN  \n",
       "4  1.000000e+02  5.397605e-79      29.0       100.0       NaN  \n",
       "\n",
       "[5 rows x 38 columns]"
      ]
     },
     "execution_count": 24,
     "metadata": {},
     "output_type": "execute_result"
    }
   ],
   "source": [
    "tableau_diet_df=pd.read_csv('diet.csv')\n",
    "tableau_diet_df.head()"
   ]
  },
  {
   "cell_type": "code",
   "execution_count": 25,
   "metadata": {},
   "outputs": [],
   "source": [
    "tableau_diet_df=tableau_diet_df.drop(columns=['Unnamed: 0'])"
   ]
  },
  {
   "cell_type": "code",
   "execution_count": 26,
   "metadata": {},
   "outputs": [
    {
     "data": {
      "text/plain": [
       "Index(['AGE', 'BMI', 'EDUCATION', 'INCOME', 'INSURANCE', 'MARITAL_STATUS',\n",
       "       'RACE', 'SEX', 'STATE', 'WORK_STATUS', 'DEPRESSION', 'DIABETES',\n",
       "       'DIABETES_AGE', 'GENERAL_HEALTH', 'INSULIN', 'MENTAL_HEALTH',\n",
       "       'PHYSICAL_HEALTH', 'PREDIABETES', 'BPMEDS', 'CHOL_CHKD', 'CHOL_MEDS',\n",
       "       'CHOLESTEROL', 'HEART_STROKE', 'HRT_ATTK_OR_DISEASE', 'HYPERTENSION',\n",
       "       'ANY_EXERCISE', 'DIFFDRES', 'DIFFWALK', 'ATE_FRUIT', 'ATE_VEGGIES',\n",
       "       'FRIES', 'FRUIT', 'GREENS', 'JUICE', 'POTATOES', 'VEGETABLES',\n",
       "       'WTCHSALT'],\n",
       "      dtype='object')"
      ]
     },
     "execution_count": 26,
     "metadata": {},
     "output_type": "execute_result"
    }
   ],
   "source": [
    "tableau_diet_df.columns"
   ]
  },
  {
   "cell_type": "code",
   "execution_count": 27,
   "metadata": {},
   "outputs": [
    {
     "data": {
      "text/plain": [
       "3.0    138760\n",
       "4.0    131305\n",
       "2.0    115489\n",
       "1.0      6287\n",
       "Name: BMI, dtype: int64"
      ]
     },
     "execution_count": 27,
     "metadata": {},
     "output_type": "execute_result"
    }
   ],
   "source": [
    "tableau_diet_df['BMI'].value_counts()"
   ]
  },
  {
   "cell_type": "code",
   "execution_count": 28,
   "metadata": {},
   "outputs": [
    {
     "data": {
      "text/plain": [
       "Overweight       138760\n",
       "Obese            131305\n",
       "Normal Weight    115489\n",
       "Underweight        6287\n",
       "Name: BMI, dtype: int64"
      ]
     },
     "execution_count": 28,
     "metadata": {},
     "output_type": "execute_result"
    }
   ],
   "source": [
    "tableau_diet_df['BMI'].replace(to_replace=[1,2,3,4],\n",
    "           value=['Underweight','Normal Weight','Overweight','Obese'],inplace=True)\n",
    "tableau_diet_df['BMI'].value_counts()"
   ]
  },
  {
   "cell_type": "code",
   "execution_count": 29,
   "metadata": {},
   "outputs": [
    {
     "data": {
      "text/plain": [
       "4.0    178577\n",
       "3.0    120102\n",
       "2.0    111545\n",
       "1.0     25991\n",
       "9.0      2478\n",
       "Name: EDUCATION, dtype: int64"
      ]
     },
     "execution_count": 29,
     "metadata": {},
     "output_type": "execute_result"
    }
   ],
   "source": [
    "tableau_diet_df['EDUCATION'].value_counts()"
   ]
  },
  {
   "cell_type": "code",
   "execution_count": 30,
   "metadata": {},
   "outputs": [
    {
     "data": {
      "text/plain": [
       "College Degree            178577\n",
       "Attended College          120102\n",
       "High School Diploma       111545\n",
       "No High School Diploma     25991\n",
       "Refused to answer           2478\n",
       "Name: EDUCATION, dtype: int64"
      ]
     },
     "execution_count": 30,
     "metadata": {},
     "output_type": "execute_result"
    }
   ],
   "source": [
    "tableau_diet_df['EDUCATION'].replace(to_replace=[1,2,3,4,9],\n",
    "           value=['No High School Diploma','High School Diploma', 'Attended College','College Degree','Refused to answer'],inplace=True)\n",
    "tableau_diet_df['EDUCATION'].value_counts()"
   ]
  },
  {
   "cell_type": "code",
   "execution_count": 31,
   "metadata": {},
   "outputs": [
    {
     "data": {
      "text/plain": [
       "5.0    107246\n",
       "9.0     94413\n",
       "6.0     67411\n",
       "4.0     48339\n",
       "3.0     43893\n",
       "2.0     36031\n",
       "1.0     22408\n",
       "7.0     18952\n",
       "Name: INCOME, dtype: int64"
      ]
     },
     "execution_count": 31,
     "metadata": {},
     "output_type": "execute_result"
    }
   ],
   "source": [
    "tableau_diet_df['INCOME'].value_counts()"
   ]
  },
  {
   "cell_type": "code",
   "execution_count": 32,
   "metadata": {},
   "outputs": [
    {
     "data": {
      "text/plain": [
       "$50,000 to less than $100,000     107246\n",
       "Refused to answer                  94413\n",
       "$100,000 to less than $200,000     67411\n",
       "$35,000 to less than $50,000       48339\n",
       "$25,000 to less than $35,000       43893\n",
       "$15,000 to less than $25,000       36031\n",
       "Less than $15,000                  22408\n",
       "$200,000 or more                   18952\n",
       "Name: INCOME, dtype: int64"
      ]
     },
     "execution_count": 32,
     "metadata": {},
     "output_type": "execute_result"
    }
   ],
   "source": [
    "tableau_diet_df['INCOME'].replace(to_replace=[1,2,3,4,5,6,7,9],\n",
    "           value=['Less than $15,000','$15,000 to less than $25,000','$25,000 to less than $35,000','$35,000 to less than $50,000',\n",
    "                  '$50,000 to less than $100,000','$100,000 to less than $200,000','$200,000 or more','Refused to answer'],inplace=True)\n",
    "tableau_diet_df['INCOME'].value_counts()"
   ]
  },
  {
   "cell_type": "code",
   "execution_count": 33,
   "metadata": {},
   "outputs": [
    {
     "data": {
      "text/plain": [
       "1.0    398081\n",
       "2.0     23215\n",
       "9.0     17397\n",
       "Name: INSURANCE, dtype: int64"
      ]
     },
     "execution_count": 33,
     "metadata": {},
     "output_type": "execute_result"
    }
   ],
   "source": [
    "tableau_diet_df['INSURANCE'].value_counts()"
   ]
  },
  {
   "cell_type": "code",
   "execution_count": 34,
   "metadata": {},
   "outputs": [
    {
     "data": {
      "text/plain": [
       "Insured              398081\n",
       "Not Insured           23215\n",
       "Refused to answer     17397\n",
       "Name: INSURANCE, dtype: int64"
      ]
     },
     "execution_count": 34,
     "metadata": {},
     "output_type": "execute_result"
    }
   ],
   "source": [
    "tableau_diet_df['INSURANCE'].replace(to_replace=[1,2,9],\n",
    "           value=['Insured','Not Insured','Refused to answer'],inplace=True)\n",
    "tableau_diet_df['INSURANCE'].value_counts()"
   ]
  },
  {
   "cell_type": "code",
   "execution_count": 35,
   "metadata": {},
   "outputs": [
    {
     "data": {
      "text/plain": [
       "1.0    227242\n",
       "5.0     77554\n",
       "2.0     55677\n",
       "3.0     47275\n",
       "6.0     17524\n",
       "4.0      8433\n",
       "9.0      4983\n",
       "Name: MARITAL_STATUS, dtype: int64"
      ]
     },
     "execution_count": 35,
     "metadata": {},
     "output_type": "execute_result"
    }
   ],
   "source": [
    "tableau_diet_df['MARITAL_STATUS'].value_counts()"
   ]
  },
  {
   "cell_type": "code",
   "execution_count": 36,
   "metadata": {},
   "outputs": [
    {
     "data": {
      "text/plain": [
       "Married              227242\n",
       "Not Married           95078\n",
       "Divorced              55677\n",
       "Widowed               47275\n",
       "Separated              8433\n",
       "Refused to answer      4983\n",
       "Name: MARITAL_STATUS, dtype: int64"
      ]
     },
     "execution_count": 36,
     "metadata": {},
     "output_type": "execute_result"
    }
   ],
   "source": [
    "tableau_diet_df['MARITAL_STATUS'].replace(to_replace=[1,2,3,4,5,6,9],\n",
    "           value=['Married','Divorced','Widowed','Separated','Not Married','Not Married','Refused to answer'],inplace=True)\n",
    "tableau_diet_df['MARITAL_STATUS'].value_counts()"
   ]
  },
  {
   "cell_type": "code",
   "execution_count": 37,
   "metadata": {},
   "outputs": [
    {
     "data": {
      "text/plain": [
       "1.0    322705\n",
       "8.0     38396\n",
       "2.0     32772\n",
       "4.0     11408\n",
       "9.0     10990\n",
       "7.0      9230\n",
       "3.0      7265\n",
       "6.0      3939\n",
       "5.0      1988\n",
       "Name: RACE, dtype: int64"
      ]
     },
     "execution_count": 37,
     "metadata": {},
     "output_type": "execute_result"
    }
   ],
   "source": [
    "tableau_diet_df['RACE'].value_counts()\n"
   ]
  },
  {
   "cell_type": "code",
   "execution_count": 38,
   "metadata": {},
   "outputs": [
    {
     "data": {
      "text/plain": [
       "White                                        322705\n",
       "Hispanic                                      38396\n",
       "Black                                         32772\n",
       "Asian                                         11408\n",
       "Refused to answer                             10990\n",
       "Multiracial                                    9230\n",
       "American Indian or Alaskan Native              7265\n",
       "Other                                          3939\n",
       "Native Hawaiian or other Pacific Islander      1988\n",
       "Name: RACE, dtype: int64"
      ]
     },
     "execution_count": 38,
     "metadata": {},
     "output_type": "execute_result"
    }
   ],
   "source": [
    "tableau_diet_df['RACE'].replace(to_replace=[1,2,3,4,5,6,7,8,9],\n",
    "           value=['White','Black','American Indian or Alaskan Native','Asian','Native Hawaiian or other Pacific Islander','Other','Multiracial','Hispanic','Refused to answer'],inplace=True)\n",
    "tableau_diet_df['RACE'].value_counts()"
   ]
  },
  {
   "cell_type": "code",
   "execution_count": 39,
   "metadata": {},
   "outputs": [
    {
     "data": {
      "text/plain": [
       "2.0    234933\n",
       "1.0    203760\n",
       "Name: SEX, dtype: int64"
      ]
     },
     "execution_count": 39,
     "metadata": {},
     "output_type": "execute_result"
    }
   ],
   "source": [
    "tableau_diet_df['SEX'].value_counts()"
   ]
  },
  {
   "cell_type": "code",
   "execution_count": 40,
   "metadata": {},
   "outputs": [
    {
     "data": {
      "text/plain": [
       "Female    234933\n",
       "Male      203760\n",
       "Name: SEX, dtype: int64"
      ]
     },
     "execution_count": 40,
     "metadata": {},
     "output_type": "execute_result"
    }
   ],
   "source": [
    "tableau_diet_df['SEX'].replace(to_replace=[1,2],\n",
    "           value=['Male','Female'],inplace=True)\n",
    "tableau_diet_df['SEX'].value_counts()"
   ]
  },
  {
   "cell_type": "code",
   "execution_count": 41,
   "metadata": {},
   "outputs": [
    {
     "data": {
      "text/plain": [
       "36.0    39095\n",
       "20.0    17565\n",
       "27.0    15959\n",
       "24.0    15627\n",
       "31.0    14923\n",
       "39.0    14308\n",
       "53.0    13142\n",
       "29.0    12266\n",
       "23.0    11808\n",
       "48.0    10815\n",
       "4.0     10654\n",
       "49.0    10621\n",
       "8.0     10476\n",
       "45.0    10057\n",
       "18.0     9929\n",
       "51.0     9902\n",
       "19.0     9625\n",
       "26.0     9425\n",
       "9.0      8341\n",
       "13.0     8186\n",
       "34.0     7965\n",
       "15.0     7787\n",
       "25.0     7683\n",
       "46.0     7290\n",
       "16.0     6788\n",
       "54.0     6744\n",
       "6.0      6735\n",
       "50.0     6580\n",
       "33.0     6536\n",
       "42.0     6419\n",
       "35.0     6362\n",
       "30.0     6243\n",
       "55.0     6106\n",
       "38.0     5909\n",
       "44.0     5609\n",
       "2.0      5493\n",
       "40.0     5451\n",
       "21.0     5429\n",
       "41.0     5378\n",
       "5.0      5372\n",
       "22.0     5102\n",
       "37.0     4939\n",
       "47.0     4788\n",
       "1.0      4586\n",
       "28.0     4421\n",
       "56.0     4413\n",
       "72.0     4014\n",
       "10.0     3640\n",
       "17.0     3210\n",
       "11.0     3198\n",
       "32.0     2739\n",
       "66.0     1658\n",
       "78.0     1382\n",
       "Name: STATE, dtype: int64"
      ]
     },
     "execution_count": 41,
     "metadata": {},
     "output_type": "execute_result"
    }
   ],
   "source": [
    "tableau_diet_df['STATE'].value_counts()"
   ]
  },
  {
   "cell_type": "code",
   "execution_count": 42,
   "metadata": {},
   "outputs": [
    {
     "data": {
      "text/plain": [
       "New York                39095\n",
       "Kansas                  17565\n",
       "Minnesota               15959\n",
       "Maryland                15627\n",
       "Nebraska                14923\n",
       "Ohio                    14308\n",
       "Washington              13142\n",
       "Missouri                12266\n",
       "Maine                   11808\n",
       "Texas                   10815\n",
       "Arizona                 10654\n",
       "Utah                    10621\n",
       "Colorado                10476\n",
       "South Carolina          10057\n",
       "Indiana                  9929\n",
       "Virginia                 9902\n",
       "Iowa                     9625\n",
       "Michigan                 9425\n",
       "Connecticut              8341\n",
       "Georgia                  8186\n",
       "New Jersey               7965\n",
       "Hawaii                   7787\n",
       "Massachusetts            7683\n",
       "South Dakota             7290\n",
       "Idaho                    6788\n",
       "West Virginia            6744\n",
       "California               6735\n",
       "Vermont                  6580\n",
       "New Hampshire            6536\n",
       "Pennsylvania             6419\n",
       "New Mexico               6362\n",
       "Montana                  6243\n",
       "Wisconsin                6106\n",
       "North Dakota             5909\n",
       "Rhode Island             5609\n",
       "Alaska                   5493\n",
       "Oklahoma                 5451\n",
       "Kentucky                 5429\n",
       "Oregon                   5378\n",
       "Arkansas                 5372\n",
       "Louisiana                5102\n",
       "North Carolina           4939\n",
       "Tennessee                4788\n",
       "Alabama                  4586\n",
       "Mississippi              4421\n",
       "Wyoming                  4413\n",
       "Puerto Rico              4014\n",
       "Delaware                 3640\n",
       "Illinois                 3210\n",
       "District of Columbia     3198\n",
       "Nevada                   2739\n",
       "Guam                     1658\n",
       "Virgin Islands           1382\n",
       "Name: STATE, dtype: int64"
      ]
     },
     "execution_count": 42,
     "metadata": {},
     "output_type": "execute_result"
    }
   ],
   "source": [
    "tableau_diet_df['STATE'].replace(to_replace=[1,2,4,5,6,8,9,10,11,12,13,15,16,17,18,19,20,21,22,23,24,25,26,27,28,29,30,31,32,33,34,35,36,37,\n",
    "                                        38,39,40,41,42,44,45,46,47,48,49,50,51,53,54,55,56,66,72,78],\n",
    "           value=['Alabama','Alaska','Arizona','Arkansas','California','Colorado', 'Connecticut', 'Delaware', 'District of Columbia', \n",
    "                  'Florida', 'Georgia', 'Hawaii', 'Idaho', 'Illinois', 'Indiana', 'Iowa', 'Kansas', 'Kentucky', 'Louisiana', 'Maine',\n",
    "                  'Maryland', 'Massachusetts', 'Michigan', 'Minnesota', 'Mississippi', 'Missouri', 'Montana', 'Nebraska', 'Nevada',\n",
    "                  'New Hampshire', 'New Jersey', 'New Mexico', 'New York', 'North Carolina', 'North Dakota', 'Ohio', 'Oklahoma', 'Oregon',\n",
    "                  'Pennsylvania', 'Rhode Island', 'South Carolina', 'South Dakota', 'Tennessee', 'Texas', 'Utah', 'Vermont', 'Virginia',\n",
    "                  'Washington', 'West Virginia', 'Wisconsin', 'Wyoming', 'Guam','Puerto Rico','Virgin Islands'],inplace=True)\n",
    "tableau_diet_df['STATE'].value_counts()"
   ]
  },
  {
   "cell_type": "code",
   "execution_count": 43,
   "metadata": {},
   "outputs": [
    {
     "data": {
      "text/plain": [
       "1.0    186076\n",
       "7.0    131546\n",
       "2.0     37759\n",
       "8.0     25702\n",
       "5.0     17579\n",
       "3.0     11406\n",
       "6.0     10661\n",
       "4.0      9713\n",
       "9.0      4663\n",
       "Name: WORK_STATUS, dtype: int64"
      ]
     },
     "execution_count": 43,
     "metadata": {},
     "output_type": "execute_result"
    }
   ],
   "source": [
    "\n",
    "tableau_diet_df['WORK_STATUS'].value_counts()"
   ]
  },
  {
   "cell_type": "code",
   "execution_count": 44,
   "metadata": {},
   "outputs": [
    {
     "data": {
      "text/plain": [
       "Employed                          186076\n",
       "Retired                           131546\n",
       "Self-employed                      37759\n",
       "Unable to work                     25702\n",
       "Homemaker                          17579\n",
       "Out of work (more than a year)     11406\n",
       "Student                            10661\n",
       "Out of work (less than a year)      9713\n",
       "Refused to answer                   4663\n",
       "Name: WORK_STATUS, dtype: int64"
      ]
     },
     "execution_count": 44,
     "metadata": {},
     "output_type": "execute_result"
    }
   ],
   "source": [
    "tableau_diet_df['WORK_STATUS'].replace(to_replace=[1,2,3,4,5,6,7,8,9],\n",
    "           value=['Employed','Self-employed','Out of work (more than a year)','Out of work (less than a year)',\n",
    "                  'Homemaker','Student','Retired','Unable to work','Refused to answer'],inplace=True)\n",
    "tableau_diet_df['WORK_STATUS'].value_counts()"
   ]
  },
  {
   "cell_type": "code",
   "execution_count": 45,
   "metadata": {},
   "outputs": [
    {
     "data": {
      "text/plain": [
       "2.0    350778\n",
       "1.0     85398\n",
       "7.0      1814\n",
       "9.0       700\n",
       "Name: DEPRESSION, dtype: int64"
      ]
     },
     "execution_count": 45,
     "metadata": {},
     "output_type": "execute_result"
    }
   ],
   "source": [
    "tableau_diet_df['DEPRESSION'].value_counts()"
   ]
  },
  {
   "cell_type": "code",
   "execution_count": 46,
   "metadata": {},
   "outputs": [
    {
     "data": {
      "text/plain": [
       "No                   350778\n",
       "Yes                   85398\n",
       "Refused to answer      2514\n",
       "Name: DEPRESSION, dtype: int64"
      ]
     },
     "execution_count": 46,
     "metadata": {},
     "output_type": "execute_result"
    }
   ],
   "source": [
    "tableau_diet_df['DEPRESSION'].replace(to_replace=[1,2,7,9],\n",
    "           value=['Yes','No','Refused to answer','Refused to answer'],inplace=True)\n",
    "tableau_diet_df['DEPRESSION'].value_counts()"
   ]
  },
  {
   "cell_type": "code",
   "execution_count": 47,
   "metadata": {},
   "outputs": [
    {
     "data": {
      "text/plain": [
       "3.0    366342\n",
       "1.0     57616\n",
       "4.0      9942\n",
       "2.0      3808\n",
       "7.0       613\n",
       "9.0       369\n",
       "Name: DIABETES, dtype: int64"
      ]
     },
     "execution_count": 47,
     "metadata": {},
     "output_type": "execute_result"
    }
   ],
   "source": [
    "tableau_diet_df['DIABETES'].value_counts()"
   ]
  },
  {
   "cell_type": "code",
   "execution_count": 48,
   "metadata": {},
   "outputs": [
    {
     "data": {
      "text/plain": [
       "No                   366342\n",
       "Yes                   57616\n",
       "Borderline             9942\n",
       "Gestational            3808\n",
       "Refused to answer       982\n",
       "Name: DIABETES, dtype: int64"
      ]
     },
     "execution_count": 48,
     "metadata": {},
     "output_type": "execute_result"
    }
   ],
   "source": [
    "tableau_diet_df['DIABETES'].replace(to_replace=[1,2,3,4,7,9],\n",
    "           value=['Yes', 'Gestational', 'No', 'Borderline', 'Refused to answer','Refused to answer'],inplace=True)\n",
    "tableau_diet_df['DIABETES'].value_counts()"
   ]
  },
  {
   "cell_type": "code",
   "execution_count": 49,
   "metadata": {},
   "outputs": [
    {
     "data": {
      "text/plain": [
       "50.0    5398\n",
       "98.0    4325\n",
       "60.0    3936\n",
       "55.0    3395\n",
       "40.0    3390\n",
       "        ... \n",
       "97.0       2\n",
       "96.0       2\n",
       "94.0       2\n",
       "93.0       2\n",
       "91.0       1\n",
       "Name: DIABETES_AGE, Length: 99, dtype: int64"
      ]
     },
     "execution_count": 49,
     "metadata": {},
     "output_type": "execute_result"
    }
   ],
   "source": [
    "tableau_diet_df['DIABETES_AGE'].value_counts()"
   ]
  },
  {
   "cell_type": "code",
   "execution_count": 50,
   "metadata": {},
   "outputs": [
    {
     "data": {
      "text/plain": [
       "50.0                 5398\n",
       "Refused to answer    4671\n",
       "60.0                 3936\n",
       "55.0                 3395\n",
       "40.0                 3390\n",
       "                     ... \n",
       "97.0                    2\n",
       "96.0                    2\n",
       "94.0                    2\n",
       "93.0                    2\n",
       "91.0                    1\n",
       "Name: DIABETES_AGE, Length: 98, dtype: int64"
      ]
     },
     "execution_count": 50,
     "metadata": {},
     "output_type": "execute_result"
    }
   ],
   "source": [
    "tableau_diet_df['DIABETES_AGE'].replace(to_replace=[98,99],\n",
    "           value=['Refused to answer','Refused to answer'],inplace=True)\n",
    "tableau_diet_df['DIABETES_AGE'].value_counts()"
   ]
  },
  {
   "cell_type": "code",
   "execution_count": 51,
   "metadata": {},
   "outputs": [
    {
     "data": {
      "text/plain": [
       "1.0    364791\n",
       "2.0     72741\n",
       "9.0      1161\n",
       "Name: GENERAL_HEALTH, dtype: int64"
      ]
     },
     "execution_count": 51,
     "metadata": {},
     "output_type": "execute_result"
    }
   ],
   "source": [
    "tableau_diet_df['GENERAL_HEALTH'].value_counts()"
   ]
  },
  {
   "cell_type": "code",
   "execution_count": 52,
   "metadata": {},
   "outputs": [
    {
     "data": {
      "text/plain": [
       "Good                 364791\n",
       "Fair/Poor             72741\n",
       "Refused to answer      1161\n",
       "Name: GENERAL_HEALTH, dtype: int64"
      ]
     },
     "execution_count": 52,
     "metadata": {},
     "output_type": "execute_result"
    }
   ],
   "source": [
    "tableau_diet_df['GENERAL_HEALTH'].replace(to_replace=[1,2,9],\n",
    "           value=['Good','Fair/Poor','Refused to answer'],inplace=True)\n",
    "tableau_diet_df['GENERAL_HEALTH'].value_counts()"
   ]
  },
  {
   "cell_type": "code",
   "execution_count": 53,
   "metadata": {},
   "outputs": [
    {
     "data": {
      "text/plain": [
       "2.0    14815\n",
       "1.0     7355\n",
       "7.0       58\n",
       "9.0       10\n",
       "Name: INSULIN, dtype: int64"
      ]
     },
     "execution_count": 53,
     "metadata": {},
     "output_type": "execute_result"
    }
   ],
   "source": [
    "tableau_diet_df['INSULIN'].value_counts()"
   ]
  },
  {
   "cell_type": "code",
   "execution_count": 54,
   "metadata": {},
   "outputs": [
    {
     "data": {
      "text/plain": [
       "No                   14815\n",
       "Yes                   7355\n",
       "Refused to answer       68\n",
       "Name: INSULIN, dtype: int64"
      ]
     },
     "execution_count": 54,
     "metadata": {},
     "output_type": "execute_result"
    }
   ],
   "source": [
    "tableau_diet_df['INSULIN'].replace(to_replace=[1,2,7,9],\n",
    "           value=['Yes','No','Refused to answer','Refused to answer'],inplace=True)\n",
    "tableau_diet_df['INSULIN'].value_counts()"
   ]
  },
  {
   "cell_type": "code",
   "execution_count": 55,
   "metadata": {},
   "outputs": [
    {
     "name": "stdout",
     "output_type": "stream",
     "text": [
      "1.0    271161\n",
      "2.0    104326\n",
      "3.0     55289\n",
      "9.0      7917\n",
      "Name: MENTAL_HEALTH, dtype: int64\n",
      "1.0    287796\n",
      "2.0     90419\n",
      "3.0     50984\n",
      "9.0      9494\n",
      "Name: PHYSICAL_HEALTH, dtype: int64\n"
     ]
    }
   ],
   "source": [
    "print(tableau_diet_df['MENTAL_HEALTH'].value_counts())\n",
    "print(tableau_diet_df['PHYSICAL_HEALTH'].value_counts())"
   ]
  },
  {
   "cell_type": "code",
   "execution_count": 56,
   "metadata": {},
   "outputs": [
    {
     "name": "stdout",
     "output_type": "stream",
     "text": [
      "Good                 271161\n",
      "Fair                 104326\n",
      "Not Good              55289\n",
      "Refused to answer      7917\n",
      "Name: MENTAL_HEALTH, dtype: int64\n",
      "Good                 287796\n",
      "Fair                  90419\n",
      "Not Good              50984\n",
      "Refused to answer      9494\n",
      "Name: PHYSICAL_HEALTH, dtype: int64\n"
     ]
    }
   ],
   "source": [
    "tableau_diet_df['MENTAL_HEALTH'].replace(to_replace=[1,2,3,9],\n",
    "           value=['Good','Fair','Not Good','Refused to answer'],inplace=True)\n",
    "tableau_diet_df['PHYSICAL_HEALTH'].replace(to_replace=[1,2,3,9],\n",
    "           value=['Good','Fair','Not Good','Refused to answer'],inplace=True)\n",
    "print(tableau_diet_df['MENTAL_HEALTH'].value_counts())\n",
    "print(tableau_diet_df['PHYSICAL_HEALTH'].value_counts())"
   ]
  },
  {
   "cell_type": "code",
   "execution_count": 57,
   "metadata": {},
   "outputs": [
    {
     "data": {
      "text/plain": [
       "3.0    97580\n",
       "1.0    15142\n",
       "2.0     1266\n",
       "7.0      513\n",
       "9.0      116\n",
       "Name: PREDIABETES, dtype: int64"
      ]
     },
     "execution_count": 57,
     "metadata": {},
     "output_type": "execute_result"
    }
   ],
   "source": [
    "tableau_diet_df['PREDIABETES'].value_counts()"
   ]
  },
  {
   "cell_type": "code",
   "execution_count": 58,
   "metadata": {},
   "outputs": [
    {
     "data": {
      "text/plain": [
       "No                   97580\n",
       "Yes                  15142\n",
       "Gestational           1266\n",
       "Refused to answer      629\n",
       "Name: PREDIABETES, dtype: int64"
      ]
     },
     "execution_count": 58,
     "metadata": {},
     "output_type": "execute_result"
    }
   ],
   "source": [
    "tableau_diet_df['PREDIABETES'].replace(to_replace=[1,2,3,7,9],\n",
    "           value=['Yes', 'Gestational', 'No', 'Refused to answer','Refused to answer'],inplace=True)\n",
    "tableau_diet_df['PREDIABETES'].value_counts()"
   ]
  },
  {
   "cell_type": "code",
   "execution_count": 59,
   "metadata": {},
   "outputs": [
    {
     "data": {
      "text/plain": [
       "1.0    364002\n",
       "3.0     31369\n",
       "9.0     29782\n",
       "2.0     13540\n",
       "Name: CHOL_CHKD, dtype: int64"
      ]
     },
     "execution_count": 59,
     "metadata": {},
     "output_type": "execute_result"
    }
   ],
   "source": [
    "tableau_diet_df['CHOL_CHKD'].value_counts()"
   ]
  },
  {
   "cell_type": "code",
   "execution_count": 60,
   "metadata": {},
   "outputs": [
    {
     "data": {
      "text/plain": [
       "Yes                  364002\n",
       "No                    44909\n",
       "Refused to answer     29782\n",
       "Name: CHOL_CHKD, dtype: int64"
      ]
     },
     "execution_count": 60,
     "metadata": {},
     "output_type": "execute_result"
    }
   ],
   "source": [
    "tableau_diet_df['CHOL_CHKD'].replace(to_replace=[1,2,3,9],\n",
    "           value=['Yes', 'No', 'No', 'Refused to answer'],inplace=True)\n",
    "tableau_diet_df['CHOL_CHKD'].value_counts()"
   ]
  },
  {
   "cell_type": "code",
   "execution_count": 61,
   "metadata": {},
   "outputs": [
    {
     "name": "stdout",
     "output_type": "stream",
     "text": [
      "1.0    142417\n",
      "2.0     29257\n",
      "7.0       296\n",
      "9.0       163\n",
      "Name: BPMEDS, dtype: int64\n",
      "2.0    260185\n",
      "1.0    115053\n",
      "7.0      1450\n",
      "9.0       434\n",
      "Name: CHOL_MEDS, dtype: int64\n",
      "2.0    420051\n",
      "1.0     17213\n",
      "7.0      1130\n",
      "9.0       297\n",
      "Name: HEART_STROKE, dtype: int64\n",
      "2.0    351306\n",
      "1.0     67557\n",
      "7.0      1190\n",
      "9.0       631\n",
      "Name: DIFFWALK, dtype: int64\n",
      "2.0    401965\n",
      "1.0     17012\n",
      "9.0       519\n",
      "7.0       411\n",
      "Name: DIFFDRES, dtype: int64\n",
      "2.0    17973\n",
      "1.0    17868\n",
      "7.0      197\n",
      "9.0       71\n",
      "Name: WTCHSALT, dtype: int64\n"
     ]
    }
   ],
   "source": [
    "print(tableau_diet_df['BPMEDS'].value_counts())\n",
    "print(tableau_diet_df['CHOL_MEDS'].value_counts())\n",
    "print(tableau_diet_df['HEART_STROKE'].value_counts())\n",
    "print(tableau_diet_df['DIFFWALK'].value_counts())\n",
    "print(tableau_diet_df['DIFFDRES'].value_counts())\n",
    "print(tableau_diet_df['WTCHSALT'].value_counts())"
   ]
  },
  {
   "cell_type": "code",
   "execution_count": 62,
   "metadata": {},
   "outputs": [
    {
     "name": "stdout",
     "output_type": "stream",
     "text": [
      "Yes                  142417\n",
      "No                    29257\n",
      "Refused to answer       459\n",
      "Name: BPMEDS, dtype: int64\n",
      "No                   260185\n",
      "Yes                  115053\n",
      "Refused to answer      1884\n",
      "Name: CHOL_MEDS, dtype: int64\n",
      "No                   420051\n",
      "Yes                   17213\n",
      "Refused to answer      1427\n",
      "Name: HEART_STROKE, dtype: int64\n",
      "No                   351306\n",
      "Yes                   67557\n",
      "Refused to answer      1821\n",
      "Name: DIFFWALK, dtype: int64\n",
      "No                   401965\n",
      "Yes                   17012\n",
      "Refused to answer       930\n",
      "Name: DIFFDRES, dtype: int64\n",
      "No                   17973\n",
      "Yes                  17868\n",
      "Refused to answer      268\n",
      "Name: WTCHSALT, dtype: int64\n"
     ]
    }
   ],
   "source": [
    "tableau_diet_df['BPMEDS'].replace(to_replace=[1,2,7,9],\n",
    "           value=['Yes','No','Refused to answer','Refused to answer'],inplace=True)\n",
    "tableau_diet_df['CHOL_MEDS'].replace(to_replace=[1,2,7,9],\n",
    "           value=['Yes','No','Refused to answer','Refused to answer'],inplace=True)\n",
    "tableau_diet_df['HEART_STROKE'].replace(to_replace=[1,2,7,9],\n",
    "           value=['Yes','No','Refused to answer','Refused to answer'],inplace=True)\n",
    "tableau_diet_df['DIFFWALK'].replace(to_replace=[1,2,7,9],\n",
    "           value=['Yes','No','Refused to answer','Refused to answer'],inplace=True)\n",
    "tableau_diet_df['DIFFDRES'].replace(to_replace=[1,2,7,9],\n",
    "           value=['Yes','No','Refused to answer','Refused to answer'],inplace=True)\n",
    "tableau_diet_df['WTCHSALT'].replace(to_replace=[1,2,7,9],\n",
    "           value=['Yes','No','Refused to answer','Refused to answer'],inplace=True)\n",
    "\n",
    "print(tableau_diet_df['BPMEDS'].value_counts())\n",
    "print(tableau_diet_df['CHOL_MEDS'].value_counts())\n",
    "print(tableau_diet_df['HEART_STROKE'].value_counts())\n",
    "print(tableau_diet_df['DIFFWALK'].value_counts())\n",
    "print(tableau_diet_df['DIFFDRES'].value_counts())\n",
    "print(tableau_diet_df['WTCHSALT'].value_counts())"
   ]
  },
  {
   "cell_type": "code",
   "execution_count": 63,
   "metadata": {},
   "outputs": [
    {
     "data": {
      "text/plain": [
       "2.0    398735\n",
       "1.0     35323\n",
       "Name: HRT_ATTK_OR_DISEASE, dtype: int64"
      ]
     },
     "execution_count": 63,
     "metadata": {},
     "output_type": "execute_result"
    }
   ],
   "source": [
    "tableau_diet_df['HRT_ATTK_OR_DISEASE'].value_counts()"
   ]
  },
  {
   "cell_type": "code",
   "execution_count": 64,
   "metadata": {},
   "outputs": [
    {
     "data": {
      "text/plain": [
       "No     398735\n",
       "Yes     35323\n",
       "Name: HRT_ATTK_OR_DISEASE, dtype: int64"
      ]
     },
     "execution_count": 64,
     "metadata": {},
     "output_type": "execute_result"
    }
   ],
   "source": [
    "tableau_diet_df['HRT_ATTK_OR_DISEASE'].replace(to_replace=[1,2],\n",
    "           value=['Yes','No'],inplace=True)\n",
    "tableau_diet_df['HRT_ATTK_OR_DISEASE'].value_counts()"
   ]
  },
  {
   "cell_type": "code",
   "execution_count": 65,
   "metadata": {},
   "outputs": [
    {
     "name": "stdout",
     "output_type": "stream",
     "text": [
      "1.0    264648\n",
      "2.0    172133\n",
      "9.0      1912\n",
      "Name: HYPERTENSION, dtype: int64\n",
      "1.0    224706\n",
      "2.0    149698\n",
      "9.0      3138\n",
      "Name: CHOLESTEROL, dtype: int64\n"
     ]
    }
   ],
   "source": [
    "print(tableau_diet_df['HYPERTENSION'].value_counts())\n",
    "print(tableau_diet_df['CHOLESTEROL'].value_counts())"
   ]
  },
  {
   "cell_type": "code",
   "execution_count": 66,
   "metadata": {},
   "outputs": [
    {
     "name": "stdout",
     "output_type": "stream",
     "text": [
      "No                   264648\n",
      "Yes                  172133\n",
      "Refused to answer      1912\n",
      "Name: HYPERTENSION, dtype: int64\n",
      "No                   224706\n",
      "Yes                  149698\n",
      "Refused to answer      3138\n",
      "Name: CHOLESTEROL, dtype: int64\n"
     ]
    }
   ],
   "source": [
    "tableau_diet_df['HYPERTENSION'].replace(to_replace=[1,2,9],\n",
    "           value=['No','Yes','Refused to answer'],inplace=True)\n",
    "tableau_diet_df['CHOLESTEROL'].replace(to_replace=[1,2,9],\n",
    "           value=['No','Yes','Refused to answer'],inplace=True)\n",
    "print(tableau_diet_df['HYPERTENSION'].value_counts())\n",
    "print(tableau_diet_df['CHOLESTEROL'].value_counts())"
   ]
  },
  {
   "cell_type": "code",
   "execution_count": 67,
   "metadata": {},
   "outputs": [
    {
     "data": {
      "text/plain": [
       "1.0    330738\n",
       "2.0    107027\n",
       "9.0       928\n",
       "Name: ANY_EXERCISE, dtype: int64"
      ]
     },
     "execution_count": 67,
     "metadata": {},
     "output_type": "execute_result"
    }
   ],
   "source": [
    "tableau_diet_df['ANY_EXERCISE'].value_counts()"
   ]
  },
  {
   "cell_type": "code",
   "execution_count": 68,
   "metadata": {},
   "outputs": [
    {
     "data": {
      "text/plain": [
       "Yes                  330738\n",
       "No                   107027\n",
       "Refused to answer       928\n",
       "Name: ANY_EXERCISE, dtype: int64"
      ]
     },
     "execution_count": 68,
     "metadata": {},
     "output_type": "execute_result"
    }
   ],
   "source": [
    "tableau_diet_df['ANY_EXERCISE'].replace(to_replace=[1,2,9],\n",
    "           value=['Yes','No','Refused to answer'],inplace=True)\n",
    "tableau_diet_df['ANY_EXERCISE'].value_counts()"
   ]
  },
  {
   "cell_type": "code",
   "execution_count": 69,
   "metadata": {},
   "outputs": [
    {
     "name": "stdout",
     "output_type": "stream",
     "text": [
      "1.0    238916\n",
      "2.0    148690\n",
      "9.0     51087\n",
      "Name: ATE_FRUIT, dtype: int64\n",
      "1.0    308064\n",
      "2.0     70502\n",
      "9.0     60127\n",
      "Name: ATE_VEGGIES, dtype: int64\n"
     ]
    }
   ],
   "source": [
    "print(tableau_diet_df['ATE_FRUIT'].value_counts())\n",
    "print(tableau_diet_df['ATE_VEGGIES'].value_counts())"
   ]
  },
  {
   "cell_type": "code",
   "execution_count": 70,
   "metadata": {},
   "outputs": [
    {
     "name": "stdout",
     "output_type": "stream",
     "text": [
      "One or more per day      238916\n",
      "Less than one per day    148690\n",
      "Refused to answer         51087\n",
      "Name: ATE_FRUIT, dtype: int64\n",
      "One or more per day      308064\n",
      "Less than one per day     70502\n",
      "Refused to answer         60127\n",
      "Name: ATE_VEGGIES, dtype: int64\n"
     ]
    }
   ],
   "source": [
    "tableau_diet_df['ATE_FRUIT'].replace(to_replace=[1,2,9],\n",
    "           value=['One or more per day','Less than one per day','Refused to answer'],inplace=True)\n",
    "tableau_diet_df['ATE_VEGGIES'].replace(to_replace=[1,2,9],\n",
    "           value=['One or more per day','Less than one per day','Refused to answer'],inplace=True)\n",
    "print(tableau_diet_df['ATE_FRUIT'].value_counts())\n",
    "print(tableau_diet_df['ATE_VEGGIES'].value_counts())"
   ]
  },
  {
   "cell_type": "code",
   "execution_count": 71,
   "metadata": {},
   "outputs": [],
   "source": [
    "tableau_diet_df.to_csv('diet_tableau.csv')"
   ]
  },
  {
   "cell_type": "code",
   "execution_count": null,
   "metadata": {},
   "outputs": [],
   "source": []
  }
 ],
 "metadata": {
  "kernelspec": {
   "display_name": "PythonData",
   "language": "python",
   "name": "python3"
  },
  "language_info": {
   "codemirror_mode": {
    "name": "ipython",
    "version": 3
   },
   "file_extension": ".py",
   "mimetype": "text/x-python",
   "name": "python",
   "nbconvert_exporter": "python",
   "pygments_lexer": "ipython3",
   "version": "3.7.15"
  },
  "orig_nbformat": 4
 },
 "nbformat": 4,
 "nbformat_minor": 2
}
